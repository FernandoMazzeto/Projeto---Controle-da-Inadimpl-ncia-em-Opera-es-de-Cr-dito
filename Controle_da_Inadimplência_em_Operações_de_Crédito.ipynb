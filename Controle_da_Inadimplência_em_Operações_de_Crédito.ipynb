{
  "nbformat": 4,
  "nbformat_minor": 0,
  "metadata": {
    "colab": {
      "provenance": [],
      "collapsed_sections": [
        "qMoUfjeDS1Y2"
      ],
      "toc_visible": true
    },
    "kernelspec": {
      "name": "python3",
      "display_name": "Python 3"
    },
    "language_info": {
      "name": "python"
    }
  },
  "cells": [
    {
      "cell_type": "markdown",
      "source": [
        "# **Controle da Inadimplência em Operações de Crédito**"
      ],
      "metadata": {
        "id": "KbDHFFywPdYj"
      }
    },
    {
      "cell_type": "markdown",
      "source": [
        "## **1. Introdução**"
      ],
      "metadata": {
        "id": "SeIzMASHPtQR"
      }
    },
    {
      "cell_type": "markdown",
      "source": [
        "### **1.1. Contexto**"
      ],
      "metadata": {
        "id": "lVqic9F6PuK_"
      }
    },
    {
      "cell_type": "markdown",
      "source": [
        "A inadimplência em operações de crédito é um dos principais desafios enfrentados por instituições financeiras, cooperativas de crédito e empresas que atuam no setor de concessão de crédito. Nesse sentido, a inadimplência impacta diretamente na liquidez, rentabilidade e sustentabilidade do negócio, o que traz como consequência determinadas ações e práticas, como: monitoramento, análise e prevenção dos clientes interessados pela concessão.\n",
        "Desta forma, a análise de dados surge como um ferramenta auxiliar e estratégica para o controle da inadimplência. Por meio dessa análise é possível identificar padrões de comportamento, perfis de risco, tendências de pagamento e fatores socioeconômicos que interferem diretamente na capacidade de adimplência dos clientes."
      ],
      "metadata": {
        "id": "hpMSQoj2Pz9k"
      }
    },
    {
      "cell_type": "markdown",
      "source": [
        "### **1.2. Objetivo**"
      ],
      "metadata": {
        "id": "-qZ6R2GASA7F"
      }
    },
    {
      "cell_type": "markdown",
      "source": [
        "O presente projeto tem como objetivo desenvolver uma abordagem analítica para auxiliar no controle da inadimplência em operações de crédito de uma fintech. O desenvolvimento do projeto é baseado em técnicas de análise estatística, visualização de dados e algoritmos de aprendizado de máquina. Desta forma, busca-se fornecer insights que contribuam para tomadas de decisão acertivas e orientadas na concessão de crédito."
      ],
      "metadata": {
        "id": "LqBxeUf9SDpo"
      }
    },
    {
      "cell_type": "markdown",
      "source": [
        "### **1.3. Visão Regulatória**"
      ],
      "metadata": {
        "id": "qMoUfjeDS1Y2"
      }
    },
    {
      "cell_type": "markdown",
      "source": [
        "#### **1.3.1. Gestão de Risco de Crédito - Resolução CMN nº 4.557/2017**"
      ],
      "metadata": {
        "id": "zl16vFM2S4A2"
      }
    },
    {
      "cell_type": "markdown",
      "source": [
        "Estabelece diretrizes para a estrutura de gerenciamento de riscos em instituições financeiras. Além disso, exige a adoção de políticas e procedimentos que permitam identificar, mensura, avaliar e mitigar os riscos de forma contínua e eficaz."
      ],
      "metadata": {
        "id": "Y-axwrzjTuto"
      }
    },
    {
      "cell_type": "markdown",
      "source": [
        "#### **1.3.2. Lei Geral de Proteção de Dados Pessoais (LGPD) – Lei nº 13.709/2018**"
      ],
      "metadata": {
        "id": "1BSQpYRhUExW"
      }
    },
    {
      "cell_type": "markdown",
      "source": [
        "Regulamenta o tratamento de dados pessoais por organizações públicas e privadas. Além disso, impõe uma série de requisitos, como: o consentimento do titular, finalidade específica do uso dos dados, transparência e direito dos usuários perante suas informações."
      ],
      "metadata": {
        "id": "qgFKMZiyUKCA"
      }
    },
    {
      "cell_type": "markdown",
      "source": [
        "#### **1.3.3. Prevenção ao Superendividamento – Lei nº 14.181/2021**"
      ],
      "metadata": {
        "id": "glEf-tAwUm6v"
      }
    },
    {
      "cell_type": "markdown",
      "source": [
        "Diretrizes que visam proteger o consumidor contra o superendividamento, reforçando a necessidade de avaliação responsável da capacidade de pagamento no momento da concessão de crédito."
      ],
      "metadata": {
        "id": "yOA4qHX8VIUA"
      }
    },
    {
      "cell_type": "markdown",
      "source": [
        "#### **1.3.4. Open Finance e Responsabilidade nas Informações – Resolução BCB nº 32/2020 e Circular nº 4.015/2020**"
      ],
      "metadata": {
        "id": "IM3gX6SuVaQC"
      }
    },
    {
      "cell_type": "markdown",
      "source": [
        "Normas que regulamentam o compartilhamento padronizado de dados e serviços por meio do Open Finance, com o consentimento do cliente. Além disso, possui exigências quanto à governança, segurança da informação e qualidade dos dados compartilhados."
      ],
      "metadata": {
        "id": "ftvfqhYuVhSl"
      }
    },
    {
      "cell_type": "markdown",
      "source": [
        "### **1.4. Bases de Dados Utilizadas**"
      ],
      "metadata": {
        "id": "KC4z8WtdV9AN"
      }
    },
    {
      "cell_type": "markdown",
      "source": [
        "#### **1.4.1. Importação das Bibliotecas Necessárias**\n",
        "\n"
      ],
      "metadata": {
        "id": "2LzxvbkGZzeG"
      }
    },
    {
      "cell_type": "markdown",
      "source": [
        "Primeiramente, importa-se as bibliotecas que serão utilizadas ao longo do projeto."
      ],
      "metadata": {
        "id": "u6eM3d6pZ6zU"
      }
    },
    {
      "cell_type": "code",
      "execution_count": 156,
      "metadata": {
        "id": "AL4IPkwbed5v"
      },
      "outputs": [],
      "source": [
        "import pandas as pd\n",
        "import numpy as np\n",
        "import matplotlib.pyplot as plt\n",
        "import seaborn as sns\n",
        "import scipy.stats as ss\n",
        "from scipy import stats\n"
      ]
    },
    {
      "cell_type": "markdown",
      "source": [
        "#### **1.4.2. Importação da Base de Dados**"
      ],
      "metadata": {
        "id": "tj1ar8aIacC9"
      }
    },
    {
      "cell_type": "markdown",
      "source": [
        "A base de dados utilizada neste projeto foi disponibilizada em um único arquivo no formato Excel(.xlsx), contendo duas abas distintas. A primeira apresenta os dados disponibilizados dos clientes da fintech. Já a segunda, apresenta a descrição de cada variável utilizada para a organização das informações dos clientes.\n",
        "Desta forma, a leitura das duas abas foi realizada utilizando a biblioteca pandas no ambiente Python."
      ],
      "metadata": {
        "id": "r5W-qkUqahkS"
      }
    },
    {
      "cell_type": "code",
      "source": [
        "df = pd.read_excel('Base_Inadimplencia.xlsx', sheet_name='Base')"
      ],
      "metadata": {
        "id": "fRkLWXLee64l"
      },
      "execution_count": 7,
      "outputs": []
    },
    {
      "cell_type": "code",
      "source": [
        "df_variaveis = pd.read_excel('Base_Inadimplencia.xlsx', sheet_name='Metadados')"
      ],
      "metadata": {
        "id": "VHXLtj1tOcxY"
      },
      "execution_count": 11,
      "outputs": []
    },
    {
      "cell_type": "markdown",
      "source": [
        "#### **1.4.3. Contextualização da Base de Dados**"
      ],
      "metadata": {
        "id": "HZHgFEPUbh5G"
      }
    },
    {
      "cell_type": "markdown",
      "source": [
        "A base de dados utilizada no projeto contempla informações coletadas ao longo de um período de 1 (um) ano, referentes a 1.000 clientes atendidos pela fintech de concessão de crédito. O conjunto de dados é composto por 9 (nove) variáveis, que representam características individuais de cada cliente e aspectos relacionados ao seu comportamento de crédito. Essas variáveis incluem tanto dados cadastrais quanto indicadores da operação realizada com a empresa, os quais são fundamentais para a análise preditiva de inadimplência e para a construção de modelos analíticos que apoiem a tomada de decisão.\n",
        "\n"
      ],
      "metadata": {
        "id": "rHmCS-aCW7Dj"
      }
    },
    {
      "cell_type": "code",
      "source": [
        "df.info()"
      ],
      "metadata": {
        "colab": {
          "base_uri": "https://localhost:8080/"
        },
        "id": "4hUaVXEvWJRH",
        "outputId": "edd0fbe2-7c69-400e-8810-57efa9fd0235"
      },
      "execution_count": 9,
      "outputs": [
        {
          "output_type": "stream",
          "name": "stdout",
          "text": [
            "<class 'pandas.core.frame.DataFrame'>\n",
            "RangeIndex: 1000 entries, 0 to 999\n",
            "Data columns (total 9 columns):\n",
            " #   Column                Non-Null Count  Dtype \n",
            "---  ------                --------------  ----- \n",
            " 0   Idade                 1000 non-null   int64 \n",
            " 1   Sexo                  1000 non-null   object\n",
            " 2   Escolaridade          1000 non-null   object\n",
            " 3   Tipo_Moradia          1000 non-null   object\n",
            " 4   Saldo_Investimento    1000 non-null   object\n",
            " 5   Saldo_Conta_Corrente  1000 non-null   object\n",
            " 6   Valor_Emprestimo      1000 non-null   int64 \n",
            " 7   Duracao_Emprestimo    1000 non-null   int64 \n",
            " 8   Inadimplencia         1000 non-null   int64 \n",
            "dtypes: int64(4), object(5)\n",
            "memory usage: 70.4+ KB\n"
          ]
        }
      ]
    },
    {
      "cell_type": "markdown",
      "source": [
        "#### **1.4.4. Descrição das Variáveis**"
      ],
      "metadata": {
        "id": "-3dY1As3br4g"
      }
    },
    {
      "cell_type": "code",
      "source": [
        "df_variaveis"
      ],
      "metadata": {
        "colab": {
          "base_uri": "https://localhost:8080/",
          "height": 330
        },
        "id": "NZ6qhgPTXvU7",
        "outputId": "963731f5-cdd9-4d4b-f962-acb55e5bb619"
      },
      "execution_count": 12,
      "outputs": [
        {
          "output_type": "execute_result",
          "data": {
            "text/plain": [
              "               Variável                                          Descrição\n",
              "0                 Idade                                   Idade do cliente\n",
              "1                  Sexo                               H: Homem e M: Mulher\n",
              "2          Escolaridade                  Medio, Graduação e Pós Graduação;\n",
              "3          Tipo_Moradia   Se mora de favor, paga aluguel ou tem casa pr...\n",
              "4    Saldo_Investimento   Se tomador possui alguma conta investimento e...\n",
              "5  Saldo_Conta_Corrente   Se tomador possui alguma conta corrente em ou...\n",
              "6      Valor_Emprestimo            valor do empréstimo pessoal solicitado;\n",
              "7    Duracao_Emprestimo   Duração em meses do empréstimo pessoal solici...\n",
              "8         Inadimplencia  1 se cliente ficou inadimplente em algum momen..."
            ],
            "text/html": [
              "\n",
              "  <div id=\"df-64f35d68-6fc5-4808-9cd2-7b27318b91fc\" class=\"colab-df-container\">\n",
              "    <div>\n",
              "<style scoped>\n",
              "    .dataframe tbody tr th:only-of-type {\n",
              "        vertical-align: middle;\n",
              "    }\n",
              "\n",
              "    .dataframe tbody tr th {\n",
              "        vertical-align: top;\n",
              "    }\n",
              "\n",
              "    .dataframe thead th {\n",
              "        text-align: right;\n",
              "    }\n",
              "</style>\n",
              "<table border=\"1\" class=\"dataframe\">\n",
              "  <thead>\n",
              "    <tr style=\"text-align: right;\">\n",
              "      <th></th>\n",
              "      <th>Variável</th>\n",
              "      <th>Descrição</th>\n",
              "    </tr>\n",
              "  </thead>\n",
              "  <tbody>\n",
              "    <tr>\n",
              "      <th>0</th>\n",
              "      <td>Idade</td>\n",
              "      <td>Idade do cliente</td>\n",
              "    </tr>\n",
              "    <tr>\n",
              "      <th>1</th>\n",
              "      <td>Sexo</td>\n",
              "      <td>H: Homem e M: Mulher</td>\n",
              "    </tr>\n",
              "    <tr>\n",
              "      <th>2</th>\n",
              "      <td>Escolaridade</td>\n",
              "      <td>Medio, Graduação e Pós Graduação;</td>\n",
              "    </tr>\n",
              "    <tr>\n",
              "      <th>3</th>\n",
              "      <td>Tipo_Moradia</td>\n",
              "      <td>Se mora de favor, paga aluguel ou tem casa pr...</td>\n",
              "    </tr>\n",
              "    <tr>\n",
              "      <th>4</th>\n",
              "      <td>Saldo_Investimento</td>\n",
              "      <td>Se tomador possui alguma conta investimento e...</td>\n",
              "    </tr>\n",
              "    <tr>\n",
              "      <th>5</th>\n",
              "      <td>Saldo_Conta_Corrente</td>\n",
              "      <td>Se tomador possui alguma conta corrente em ou...</td>\n",
              "    </tr>\n",
              "    <tr>\n",
              "      <th>6</th>\n",
              "      <td>Valor_Emprestimo</td>\n",
              "      <td>valor do empréstimo pessoal solicitado;</td>\n",
              "    </tr>\n",
              "    <tr>\n",
              "      <th>7</th>\n",
              "      <td>Duracao_Emprestimo</td>\n",
              "      <td>Duração em meses do empréstimo pessoal solici...</td>\n",
              "    </tr>\n",
              "    <tr>\n",
              "      <th>8</th>\n",
              "      <td>Inadimplencia</td>\n",
              "      <td>1 se cliente ficou inadimplente em algum momen...</td>\n",
              "    </tr>\n",
              "  </tbody>\n",
              "</table>\n",
              "</div>\n",
              "    <div class=\"colab-df-buttons\">\n",
              "\n",
              "  <div class=\"colab-df-container\">\n",
              "    <button class=\"colab-df-convert\" onclick=\"convertToInteractive('df-64f35d68-6fc5-4808-9cd2-7b27318b91fc')\"\n",
              "            title=\"Convert this dataframe to an interactive table.\"\n",
              "            style=\"display:none;\">\n",
              "\n",
              "  <svg xmlns=\"http://www.w3.org/2000/svg\" height=\"24px\" viewBox=\"0 -960 960 960\">\n",
              "    <path d=\"M120-120v-720h720v720H120Zm60-500h600v-160H180v160Zm220 220h160v-160H400v160Zm0 220h160v-160H400v160ZM180-400h160v-160H180v160Zm440 0h160v-160H620v160ZM180-180h160v-160H180v160Zm440 0h160v-160H620v160Z\"/>\n",
              "  </svg>\n",
              "    </button>\n",
              "\n",
              "  <style>\n",
              "    .colab-df-container {\n",
              "      display:flex;\n",
              "      gap: 12px;\n",
              "    }\n",
              "\n",
              "    .colab-df-convert {\n",
              "      background-color: #E8F0FE;\n",
              "      border: none;\n",
              "      border-radius: 50%;\n",
              "      cursor: pointer;\n",
              "      display: none;\n",
              "      fill: #1967D2;\n",
              "      height: 32px;\n",
              "      padding: 0 0 0 0;\n",
              "      width: 32px;\n",
              "    }\n",
              "\n",
              "    .colab-df-convert:hover {\n",
              "      background-color: #E2EBFA;\n",
              "      box-shadow: 0px 1px 2px rgba(60, 64, 67, 0.3), 0px 1px 3px 1px rgba(60, 64, 67, 0.15);\n",
              "      fill: #174EA6;\n",
              "    }\n",
              "\n",
              "    .colab-df-buttons div {\n",
              "      margin-bottom: 4px;\n",
              "    }\n",
              "\n",
              "    [theme=dark] .colab-df-convert {\n",
              "      background-color: #3B4455;\n",
              "      fill: #D2E3FC;\n",
              "    }\n",
              "\n",
              "    [theme=dark] .colab-df-convert:hover {\n",
              "      background-color: #434B5C;\n",
              "      box-shadow: 0px 1px 3px 1px rgba(0, 0, 0, 0.15);\n",
              "      filter: drop-shadow(0px 1px 2px rgba(0, 0, 0, 0.3));\n",
              "      fill: #FFFFFF;\n",
              "    }\n",
              "  </style>\n",
              "\n",
              "    <script>\n",
              "      const buttonEl =\n",
              "        document.querySelector('#df-64f35d68-6fc5-4808-9cd2-7b27318b91fc button.colab-df-convert');\n",
              "      buttonEl.style.display =\n",
              "        google.colab.kernel.accessAllowed ? 'block' : 'none';\n",
              "\n",
              "      async function convertToInteractive(key) {\n",
              "        const element = document.querySelector('#df-64f35d68-6fc5-4808-9cd2-7b27318b91fc');\n",
              "        const dataTable =\n",
              "          await google.colab.kernel.invokeFunction('convertToInteractive',\n",
              "                                                    [key], {});\n",
              "        if (!dataTable) return;\n",
              "\n",
              "        const docLinkHtml = 'Like what you see? Visit the ' +\n",
              "          '<a target=\"_blank\" href=https://colab.research.google.com/notebooks/data_table.ipynb>data table notebook</a>'\n",
              "          + ' to learn more about interactive tables.';\n",
              "        element.innerHTML = '';\n",
              "        dataTable['output_type'] = 'display_data';\n",
              "        await google.colab.output.renderOutput(dataTable, element);\n",
              "        const docLink = document.createElement('div');\n",
              "        docLink.innerHTML = docLinkHtml;\n",
              "        element.appendChild(docLink);\n",
              "      }\n",
              "    </script>\n",
              "  </div>\n",
              "\n",
              "\n",
              "<div id=\"df-50f1cc97-2f18-4f4f-9452-c2180454b991\">\n",
              "  <button class=\"colab-df-quickchart\" onclick=\"quickchart('df-50f1cc97-2f18-4f4f-9452-c2180454b991')\"\n",
              "            title=\"Suggest charts\"\n",
              "            style=\"display:none;\">\n",
              "\n",
              "<svg xmlns=\"http://www.w3.org/2000/svg\" height=\"24px\"viewBox=\"0 0 24 24\"\n",
              "     width=\"24px\">\n",
              "    <g>\n",
              "        <path d=\"M19 3H5c-1.1 0-2 .9-2 2v14c0 1.1.9 2 2 2h14c1.1 0 2-.9 2-2V5c0-1.1-.9-2-2-2zM9 17H7v-7h2v7zm4 0h-2V7h2v10zm4 0h-2v-4h2v4z\"/>\n",
              "    </g>\n",
              "</svg>\n",
              "  </button>\n",
              "\n",
              "<style>\n",
              "  .colab-df-quickchart {\n",
              "      --bg-color: #E8F0FE;\n",
              "      --fill-color: #1967D2;\n",
              "      --hover-bg-color: #E2EBFA;\n",
              "      --hover-fill-color: #174EA6;\n",
              "      --disabled-fill-color: #AAA;\n",
              "      --disabled-bg-color: #DDD;\n",
              "  }\n",
              "\n",
              "  [theme=dark] .colab-df-quickchart {\n",
              "      --bg-color: #3B4455;\n",
              "      --fill-color: #D2E3FC;\n",
              "      --hover-bg-color: #434B5C;\n",
              "      --hover-fill-color: #FFFFFF;\n",
              "      --disabled-bg-color: #3B4455;\n",
              "      --disabled-fill-color: #666;\n",
              "  }\n",
              "\n",
              "  .colab-df-quickchart {\n",
              "    background-color: var(--bg-color);\n",
              "    border: none;\n",
              "    border-radius: 50%;\n",
              "    cursor: pointer;\n",
              "    display: none;\n",
              "    fill: var(--fill-color);\n",
              "    height: 32px;\n",
              "    padding: 0;\n",
              "    width: 32px;\n",
              "  }\n",
              "\n",
              "  .colab-df-quickchart:hover {\n",
              "    background-color: var(--hover-bg-color);\n",
              "    box-shadow: 0 1px 2px rgba(60, 64, 67, 0.3), 0 1px 3px 1px rgba(60, 64, 67, 0.15);\n",
              "    fill: var(--button-hover-fill-color);\n",
              "  }\n",
              "\n",
              "  .colab-df-quickchart-complete:disabled,\n",
              "  .colab-df-quickchart-complete:disabled:hover {\n",
              "    background-color: var(--disabled-bg-color);\n",
              "    fill: var(--disabled-fill-color);\n",
              "    box-shadow: none;\n",
              "  }\n",
              "\n",
              "  .colab-df-spinner {\n",
              "    border: 2px solid var(--fill-color);\n",
              "    border-color: transparent;\n",
              "    border-bottom-color: var(--fill-color);\n",
              "    animation:\n",
              "      spin 1s steps(1) infinite;\n",
              "  }\n",
              "\n",
              "  @keyframes spin {\n",
              "    0% {\n",
              "      border-color: transparent;\n",
              "      border-bottom-color: var(--fill-color);\n",
              "      border-left-color: var(--fill-color);\n",
              "    }\n",
              "    20% {\n",
              "      border-color: transparent;\n",
              "      border-left-color: var(--fill-color);\n",
              "      border-top-color: var(--fill-color);\n",
              "    }\n",
              "    30% {\n",
              "      border-color: transparent;\n",
              "      border-left-color: var(--fill-color);\n",
              "      border-top-color: var(--fill-color);\n",
              "      border-right-color: var(--fill-color);\n",
              "    }\n",
              "    40% {\n",
              "      border-color: transparent;\n",
              "      border-right-color: var(--fill-color);\n",
              "      border-top-color: var(--fill-color);\n",
              "    }\n",
              "    60% {\n",
              "      border-color: transparent;\n",
              "      border-right-color: var(--fill-color);\n",
              "    }\n",
              "    80% {\n",
              "      border-color: transparent;\n",
              "      border-right-color: var(--fill-color);\n",
              "      border-bottom-color: var(--fill-color);\n",
              "    }\n",
              "    90% {\n",
              "      border-color: transparent;\n",
              "      border-bottom-color: var(--fill-color);\n",
              "    }\n",
              "  }\n",
              "</style>\n",
              "\n",
              "  <script>\n",
              "    async function quickchart(key) {\n",
              "      const quickchartButtonEl =\n",
              "        document.querySelector('#' + key + ' button');\n",
              "      quickchartButtonEl.disabled = true;  // To prevent multiple clicks.\n",
              "      quickchartButtonEl.classList.add('colab-df-spinner');\n",
              "      try {\n",
              "        const charts = await google.colab.kernel.invokeFunction(\n",
              "            'suggestCharts', [key], {});\n",
              "      } catch (error) {\n",
              "        console.error('Error during call to suggestCharts:', error);\n",
              "      }\n",
              "      quickchartButtonEl.classList.remove('colab-df-spinner');\n",
              "      quickchartButtonEl.classList.add('colab-df-quickchart-complete');\n",
              "    }\n",
              "    (() => {\n",
              "      let quickchartButtonEl =\n",
              "        document.querySelector('#df-50f1cc97-2f18-4f4f-9452-c2180454b991 button');\n",
              "      quickchartButtonEl.style.display =\n",
              "        google.colab.kernel.accessAllowed ? 'block' : 'none';\n",
              "    })();\n",
              "  </script>\n",
              "</div>\n",
              "\n",
              "  <div id=\"id_67e1c322-295c-4eec-a7e7-2093b46a90de\">\n",
              "    <style>\n",
              "      .colab-df-generate {\n",
              "        background-color: #E8F0FE;\n",
              "        border: none;\n",
              "        border-radius: 50%;\n",
              "        cursor: pointer;\n",
              "        display: none;\n",
              "        fill: #1967D2;\n",
              "        height: 32px;\n",
              "        padding: 0 0 0 0;\n",
              "        width: 32px;\n",
              "      }\n",
              "\n",
              "      .colab-df-generate:hover {\n",
              "        background-color: #E2EBFA;\n",
              "        box-shadow: 0px 1px 2px rgba(60, 64, 67, 0.3), 0px 1px 3px 1px rgba(60, 64, 67, 0.15);\n",
              "        fill: #174EA6;\n",
              "      }\n",
              "\n",
              "      [theme=dark] .colab-df-generate {\n",
              "        background-color: #3B4455;\n",
              "        fill: #D2E3FC;\n",
              "      }\n",
              "\n",
              "      [theme=dark] .colab-df-generate:hover {\n",
              "        background-color: #434B5C;\n",
              "        box-shadow: 0px 1px 3px 1px rgba(0, 0, 0, 0.15);\n",
              "        filter: drop-shadow(0px 1px 2px rgba(0, 0, 0, 0.3));\n",
              "        fill: #FFFFFF;\n",
              "      }\n",
              "    </style>\n",
              "    <button class=\"colab-df-generate\" onclick=\"generateWithVariable('df_variaveis')\"\n",
              "            title=\"Generate code using this dataframe.\"\n",
              "            style=\"display:none;\">\n",
              "\n",
              "  <svg xmlns=\"http://www.w3.org/2000/svg\" height=\"24px\"viewBox=\"0 0 24 24\"\n",
              "       width=\"24px\">\n",
              "    <path d=\"M7,19H8.4L18.45,9,17,7.55,7,17.6ZM5,21V16.75L18.45,3.32a2,2,0,0,1,2.83,0l1.4,1.43a1.91,1.91,0,0,1,.58,1.4,1.91,1.91,0,0,1-.58,1.4L9.25,21ZM18.45,9,17,7.55Zm-12,3A5.31,5.31,0,0,0,4.9,8.1,5.31,5.31,0,0,0,1,6.5,5.31,5.31,0,0,0,4.9,4.9,5.31,5.31,0,0,0,6.5,1,5.31,5.31,0,0,0,8.1,4.9,5.31,5.31,0,0,0,12,6.5,5.46,5.46,0,0,0,6.5,12Z\"/>\n",
              "  </svg>\n",
              "    </button>\n",
              "    <script>\n",
              "      (() => {\n",
              "      const buttonEl =\n",
              "        document.querySelector('#id_67e1c322-295c-4eec-a7e7-2093b46a90de button.colab-df-generate');\n",
              "      buttonEl.style.display =\n",
              "        google.colab.kernel.accessAllowed ? 'block' : 'none';\n",
              "\n",
              "      buttonEl.onclick = () => {\n",
              "        google.colab.notebook.generateWithVariable('df_variaveis');\n",
              "      }\n",
              "      })();\n",
              "    </script>\n",
              "  </div>\n",
              "\n",
              "    </div>\n",
              "  </div>\n"
            ],
            "application/vnd.google.colaboratory.intrinsic+json": {
              "type": "dataframe",
              "variable_name": "df_variaveis",
              "summary": "{\n  \"name\": \"df_variaveis\",\n  \"rows\": 9,\n  \"fields\": [\n    {\n      \"column\": \"Vari\\u00e1vel\",\n      \"properties\": {\n        \"dtype\": \"string\",\n        \"num_unique_values\": 9,\n        \"samples\": [\n          \"Duracao_Emprestimo\",\n          \"Sexo\",\n          \"Saldo_Conta_Corrente\"\n        ],\n        \"semantic_type\": \"\",\n        \"description\": \"\"\n      }\n    },\n    {\n      \"column\": \"Descri\\u00e7\\u00e3o\",\n      \"properties\": {\n        \"dtype\": \"string\",\n        \"num_unique_values\": 9,\n        \"samples\": [\n          \" Dura\\u00e7\\u00e3o em meses do empr\\u00e9stimo pessoal solicitado;\",\n          \" H: Homem e M: Mulher\",\n          \" Se tomador possui alguma conta corrente em outro banco e qual sua faixa de saldo;\"\n        ],\n        \"semantic_type\": \"\",\n        \"description\": \"\"\n      }\n    }\n  ]\n}"
            }
          },
          "metadata": {},
          "execution_count": 12
        }
      ]
    },
    {
      "cell_type": "markdown",
      "source": [
        "## **2. Metodologia**"
      ],
      "metadata": {
        "id": "LpwuFi_RcZiK"
      }
    },
    {
      "cell_type": "markdown",
      "source": [
        "#### **2.1. Técnicas Utilizadas**"
      ],
      "metadata": {
        "id": "n4U-56wMcafa"
      }
    },
    {
      "cell_type": "markdown",
      "source": [
        "\n",
        "\n",
        "*   **Estatística Descritiva:** Foram desenvolvidas e utilizadas tabelas de frequência, medidas-resumo (como média, mediana e desvio padrão), além de representações gráficas, com o objetivo de compreender o comportamento geral das variáveis e identificar possíveis outliers e padrões relevantes nos dados.\n",
        "*   **Análise de Correlação:** A relação entre as variáveis foi avaliada por meio do cálculo do coeficiente de correlação de Pearson. Além disso, foi aplicada a técnica de Information Value (IV) para medir a relevância das variáveis preditoras na segmentação entre clientes adimplentes e inadimplentes.\n",
        "*   **Modelagem Preditiva com Machine Learning:** Foram testados e aplicados modelos de aprendizado de máquina para prever a probabilidade de inadimplência dos clientes, utilizando técnicas supervisionadas. Entre os algoritmos utilizados, destacam-se modelos de classificação como Logistic Regression, Random Forest e XGBoost, avaliados com base em métricas como acurácia, precisão e recall.\n",
        "\n"
      ],
      "metadata": {
        "id": "ikZgGa7icdQj"
      }
    },
    {
      "cell_type": "markdown",
      "source": [
        "### **2.2. Insights**"
      ],
      "metadata": {
        "id": "yzd9YuW8dmwv"
      }
    },
    {
      "cell_type": "markdown",
      "source": [
        "#### **2.2.1. Funções Desenvolvidas**"
      ],
      "metadata": {
        "id": "ZEbNGVAe1qiM"
      }
    },
    {
      "cell_type": "markdown",
      "source": [
        "Com o objetivo de tornar o processo de análise mais eficiente e organizado, foram desenvolvidas funções personalizadas em Python para automatizar etapas repetitivas e garantir maior fluidez ao projeto. Essas funções permitem explorar rapidamente as variáveis da base de dados, seja por meio da verificação de distribuições, visualizações gráficas ou análises estatísticas simples."
      ],
      "metadata": {
        "id": "f_FJJP7Riqkp"
      }
    },
    {
      "cell_type": "code",
      "source": [
        "def frequencia_variavel(df, chave_dicionario):\n",
        "    \"\"\"\n",
        "    Calcula a distribuição percentual de uma variável categórica em um DataFrame.\n",
        "\n",
        "    Parâmetros:\n",
        "    df : pandas.DataFrame\n",
        "        O DataFrame que contém os dados a serem analisados.\n",
        "\n",
        "    chave_dicionario : str\n",
        "        O nome da coluna (variável categórica) cujas frequências relativas serão calculadas.\n",
        "\n",
        "    Retorno:\n",
        "    pandas.Series\n",
        "        Uma série contendo a distribuição percentual de cada categoria da variável selecionada.\n",
        "        Os valores são arredondados para duas casas decimais e nomeados como 'Clientes'.\n",
        "    \"\"\"\n",
        "    distribuicao_var = round(df[chave_dicionario].value_counts(normalize=True) * 100, 2)\n",
        "    distribuicao_var.name = \"Clientes\"\n",
        "    return distribuicao_var"
      ],
      "metadata": {
        "id": "rUSeBk75jJc-"
      },
      "execution_count": 71,
      "outputs": []
    },
    {
      "cell_type": "code",
      "source": [
        "def plotar_grafico_pizza(serie, variavel):\n",
        "    \"\"\"\n",
        "    Gera um gráfico de pizza (pie chart) a partir de uma Series com valores percentuais.\n",
        "\n",
        "    Parâmetros:\n",
        "    serie : pandas.Series\n",
        "        Série contendo os percentuais de cada categoria (ex: saída da função frequencia_variavel).\n",
        "\n",
        "    variavel : str\n",
        "        Título exibido no gráfico.\n",
        "\n",
        "    Retorno:\n",
        "    Nenhum. A função apenas exibe o gráfico.\n",
        "    \"\"\"\n",
        "    plt.pie(serie, labels=serie.index, autopct='%1.1f%%', startangle=90)\n",
        "    plt.title(f\"Distribuição da Variável: {variavel}\")\n",
        "    plt.axis('equal')\n",
        "    plt.show()"
      ],
      "metadata": {
        "id": "tdvGXnhyjqvd"
      },
      "execution_count": 36,
      "outputs": []
    },
    {
      "cell_type": "code",
      "source": [
        "def frequencia_variavel_completa(df, chave_dicionario):\n",
        "    \"\"\"\n",
        "    Calcula a distribuição de frequências com opção de ordenação personalizada.\n",
        "\n",
        "    Parâmetros:\n",
        "    ordem_personalizada : list, optional\n",
        "        Lista com a ordem desejada das categorias\n",
        "    \"\"\"\n",
        "    # Calcula frequência absoluta\n",
        "    freq_abs = df[chave_dicionario].value_counts()\n",
        "\n",
        "    # Calcula frequências relativas\n",
        "    freq_rel = round(df[chave_dicionario].value_counts(normalize=True) * 100, 2)\n",
        "    freq_rel_acum = freq_rel.cumsum().round(2)\n",
        "\n",
        "    # Cria DataFrame com resultados\n",
        "    resultado = pd.DataFrame({\n",
        "        'Frequência Absoluta': freq_abs,\n",
        "        'Frequência Relativa (%)': freq_rel,\n",
        "        'Frequência Relativa Acumulada (%)': freq_rel_acum\n",
        "    })\n",
        "\n",
        "    return resultado"
      ],
      "metadata": {
        "id": "0heJ4iuBmryt"
      },
      "execution_count": 126,
      "outputs": []
    },
    {
      "cell_type": "code",
      "source": [
        "def plot_frequencias(df_frequencias, variavel, ordem=None):\n",
        "    \"\"\"\n",
        "    Cria um gráfico combinado de barras (frequência absoluta) e linha (frequência acumulada)\n",
        "    com recálculo correto da acumulada após ordenação.\n",
        "\n",
        "    Parâmetros:\n",
        "    df_frequencias : pandas.DataFrame\n",
        "        DataFrame retornado pela função frequencia_variavel()\n",
        "    variavel : str\n",
        "        Nome da variável para título do gráfico\n",
        "    ordem : list, optional\n",
        "        Ordem personalizada das categorias (recalcula a acumulada se fornecido)\n",
        "    \"\"\"\n",
        "    df_plot = df_frequencias.copy()\n",
        "    if ordem is not None:\n",
        "        ordem = [c for c in ordem if c in df_plot.index]\n",
        "        df_plot = df_plot.loc[ordem]\n",
        "        df_plot['Frequência Relativa Acumulada (%)'] = df_plot['Frequência Relativa (%)'].cumsum()\n",
        "\n",
        "    fig, ax1 = plt.subplots()\n",
        "    ax1.bar(df_plot.index.astype(str),\n",
        "            df_plot['Frequência Absoluta'],\n",
        "            color='blue')\n",
        "    ax1.set_ylabel('Frequência Absoluta')\n",
        "    ax1.tick_params(axis='y')\n",
        "\n",
        "    ax2 = ax1.twinx()\n",
        "    ax2.plot(df_plot.index.astype(str),\n",
        "             df_plot['Frequência Relativa Acumulada (%)'],\n",
        "             color='red', marker='o', linestyle='-',\n",
        "             linewidth=2)\n",
        "    ax2.set_ylabel('Frequência Acumulada (%)')\n",
        "    ax2.tick_params(axis='y')\n",
        "    ax2.grid(False)\n",
        "\n",
        "    plt.title(f\"Distribuição de Frequências: {variavel}\")\n",
        "    plt.tight_layout()\n",
        "    plt.show()"
      ],
      "metadata": {
        "id": "LZUWoge7tdBQ"
      },
      "execution_count": 127,
      "outputs": []
    },
    {
      "cell_type": "code",
      "source": [
        "def medidas_variavel(df, chave_dicionario):\n",
        "    \"\"\"\n",
        "    Calcula estatísticas descritivas básicas para uma variável numérica em um DataFrame.\n",
        "\n",
        "    Parâmetros:\n",
        "    df : pandas.DataFrame\n",
        "        DataFrame contendo os dados a serem analisados.\n",
        "    chave_dicionario : str\n",
        "        Nome da coluna numérica para a qual as estatísticas serão calculadas.\n",
        "\n",
        "    Retorna:\n",
        "    pandas.Series\n",
        "        Série contendo as seguintes medidas estatísticas (em português e arredondadas para 2 casas decimais):\n",
        "        - Mínimo: Valor mínimo observado\n",
        "        - Máximo: Valor máximo observado\n",
        "        - Média: Média aritmética dos valores\n",
        "        - Mediana: Valor que divide a distribuição ao meio (percentil 50)\n",
        "        - Desvio Padrão: Medida de dispersão dos dados\n",
        "\n",
        "    Exemplo:\n",
        "    >>> dados = pd.DataFrame({'idade': [25, 30, 35, 40, 45]})\n",
        "    >>> medidas_variavel(dados, 'idade')\n",
        "    Mínimo          25.00\n",
        "    Máximo          45.00\n",
        "    Média           35.00\n",
        "    Mediana         35.00\n",
        "    Desvio Padrão    7.91\n",
        "    dtype: float64\n",
        "\n",
        "    Observações:\n",
        "    - A função trabalha apenas com variáveis numéricas\n",
        "    - Valores ausentes (NaN) são automaticamente excluídos dos cálculos\n",
        "    - O arredondamento é feito para 2 casas decimais para melhor legibilidade\n",
        "    \"\"\"\n",
        "    medidas = df[chave_dicionario].agg(['min', 'max', 'mean', 'median', 'std']).round(2)\n",
        "    medidas = medidas.rename(index={\n",
        "          \"min\": \"Mínimo\",\n",
        "          \"max\": \"Máximo\",\n",
        "          \"mean\": \"Média\",\n",
        "          \"median\": \"Mediana\",\n",
        "          \"std\": \"Desvio Padrão\"\n",
        "      })\n",
        "    return medidas"
      ],
      "metadata": {
        "id": "IkPmBZ3jDFgX"
      },
      "execution_count": 148,
      "outputs": []
    },
    {
      "cell_type": "code",
      "source": [
        "def grafico_distribuicao(df, chave_dicionario, soma_max, faixa_valor):\n",
        "    \"\"\"\n",
        "    Cria gráfico de distribuição com barras de frequência absoluta e linha de frequência acumulada.\n",
        "\n",
        "    Parâmetros:\n",
        "    df : pandas.DataFrame\n",
        "        DataFrame com os dados\n",
        "    chave_dicionario : str\n",
        "        Nome da coluna numérica a ser analisada\n",
        "    soma_max : int\n",
        "        Valor máximo para o intervalo\n",
        "    faixa_valor : int\n",
        "        Tamanho de cada faixa de valor\n",
        "    \"\"\"\n",
        "    df2 = df.copy()\n",
        "    bins = range(df[chave_dicionario].min(), df[chave_dicionario].max() + soma_max, faixa_valor)\n",
        "    df2[chave_dicionario] = pd.cut(df[chave_dicionario], bins=bins)\n",
        "\n",
        "    freq = df2[chave_dicionario].value_counts().sort_index()\n",
        "    freq_rel = (df2[chave_dicionario].value_counts(normalize=True).sort_index() * 100).round(2)\n",
        "    freq_acum = freq_rel.cumsum()\n",
        "\n",
        "    fig, ax1 = plt.subplots()\n",
        "    sns.countplot(x=chave_dicionario, data=df2, ax=ax1, color='blue')\n",
        "    ax1.set_title(f\"Distribuição por {chave_dicionario}\")\n",
        "    ax1.set_xlabel('')\n",
        "    ax1.set_ylabel(\"Quantidade\")\n",
        "    ax1.tick_params(axis='x', rotation=90)\n",
        "    ax1.tick_params(axis='y')\n",
        "\n",
        "    ax2 = ax1.twinx()\n",
        "    ax2.plot(freq_acum.index.astype(str), freq_acum.values,\n",
        "             color='red', marker='o', linestyle='-',\n",
        "             linewidth=2)\n",
        "    ax2.set_ylabel('Frequência Acumulada (%)')\n",
        "    ax2.tick_params(axis='y')\n",
        "    ax2.grid(False)\n",
        "\n",
        "    plt.tight_layout()\n",
        "    plt.show()"
      ],
      "metadata": {
        "id": "iM-CXRV3FCQL"
      },
      "execution_count": 145,
      "outputs": []
    },
    {
      "cell_type": "markdown",
      "source": [
        "#### **2.2.2. Inadimplência**"
      ],
      "metadata": {
        "id": "PMEX0f98e6au"
      }
    },
    {
      "cell_type": "markdown",
      "source": [
        "Na base de dados disponibilizada pela fintech de concessão de crédito, observa-se que 30% dos clientes encontram-se inadimplentes, o que corresponde a 300 clientes com registros de atraso em seus pagamentos ao longo do período analisado. Esse dado evidencia um desafio significativo no controle de risco da carteira de crédito da empresa, tornando fundamental a aplicação de técnicas analíticas para identificar padrões de inadimplência e apoiar a tomada de decisões preventivas."
      ],
      "metadata": {
        "id": "LtAK6lvbfG4D"
      }
    },
    {
      "cell_type": "code",
      "source": [
        "freq_inadimplencia = frequencia_variavel(df, \"Inadimplencia\")\n",
        "freq_inadimplencia"
      ],
      "metadata": {
        "colab": {
          "base_uri": "https://localhost:8080/",
          "height": 178
        },
        "id": "6kdNzuUAfkcz",
        "outputId": "06606709-8af1-4bd5-bc9b-119ef9f79304"
      },
      "execution_count": 41,
      "outputs": [
        {
          "output_type": "execute_result",
          "data": {
            "text/plain": [
              "Inadimplencia\n",
              "0    70.0\n",
              "1    30.0\n",
              "Name: Clientes, dtype: float64"
            ],
            "text/html": [
              "<div>\n",
              "<style scoped>\n",
              "    .dataframe tbody tr th:only-of-type {\n",
              "        vertical-align: middle;\n",
              "    }\n",
              "\n",
              "    .dataframe tbody tr th {\n",
              "        vertical-align: top;\n",
              "    }\n",
              "\n",
              "    .dataframe thead th {\n",
              "        text-align: right;\n",
              "    }\n",
              "</style>\n",
              "<table border=\"1\" class=\"dataframe\">\n",
              "  <thead>\n",
              "    <tr style=\"text-align: right;\">\n",
              "      <th></th>\n",
              "      <th>Clientes</th>\n",
              "    </tr>\n",
              "    <tr>\n",
              "      <th>Inadimplencia</th>\n",
              "      <th></th>\n",
              "    </tr>\n",
              "  </thead>\n",
              "  <tbody>\n",
              "    <tr>\n",
              "      <th>0</th>\n",
              "      <td>70.0</td>\n",
              "    </tr>\n",
              "    <tr>\n",
              "      <th>1</th>\n",
              "      <td>30.0</td>\n",
              "    </tr>\n",
              "  </tbody>\n",
              "</table>\n",
              "</div><br><label><b>dtype:</b> float64</label>"
            ]
          },
          "metadata": {},
          "execution_count": 41
        }
      ]
    },
    {
      "cell_type": "markdown",
      "source": [
        "Para melhor observação, pode-se observar a distribuição dos clientes da empresa entre adimplentes e inadimplentes no gráfico a seguir (com o auxílio da biblioteca \"matplot\")."
      ],
      "metadata": {
        "id": "g1IHY37af4F2"
      }
    },
    {
      "cell_type": "code",
      "source": [
        "plotar_grafico_pizza(freq_inadimplencia, \"Inadimplência\")"
      ],
      "metadata": {
        "colab": {
          "base_uri": "https://localhost:8080/",
          "height": 429
        },
        "id": "X-Do-oAekuaJ",
        "outputId": "4cf351aa-5245-4989-9c45-5132200c02b8"
      },
      "execution_count": 37,
      "outputs": [
        {
          "output_type": "display_data",
          "data": {
            "text/plain": [
              "<Figure size 640x480 with 1 Axes>"
            ],
            "image/png": "[encoded data removed]"
          },
          "metadata": {}
        }
      ]
    },
    {
      "cell_type": "markdown",
      "source": [
        "#### **2.2.3. Sexo**"
      ],
      "metadata": {
        "id": "8WtrSxpGgswt"
      }
    },
    {
      "cell_type": "markdown",
      "source": [
        "Na base de dados disponibilizada, observa-se que 69% dos clientes da fintech são mulheres, o que representa uma ampla maioria de pessoas do gênero feminino na carteira de clientes. Esse dado pode ser relevante para análises segmentadas de comportamento de crédito."
      ],
      "metadata": {
        "id": "yH6q1ONsgydo"
      }
    },
    {
      "cell_type": "code",
      "source": [
        "freq_sexo = frequencia_variavel(df, \"Sexo\")\n",
        "freq_sexo"
      ],
      "metadata": {
        "colab": {
          "base_uri": "https://localhost:8080/",
          "height": 178
        },
        "id": "8IYXYUSWhuiz",
        "outputId": "4805f1a0-4fdf-476a-979a-279fcfa5c013"
      },
      "execution_count": 44,
      "outputs": [
        {
          "output_type": "execute_result",
          "data": {
            "text/plain": [
              "Sexo\n",
              "M    69.0\n",
              "H    31.0\n",
              "Name: Clientes, dtype: float64"
            ],
            "text/html": [
              "<div>\n",
              "<style scoped>\n",
              "    .dataframe tbody tr th:only-of-type {\n",
              "        vertical-align: middle;\n",
              "    }\n",
              "\n",
              "    .dataframe tbody tr th {\n",
              "        vertical-align: top;\n",
              "    }\n",
              "\n",
              "    .dataframe thead th {\n",
              "        text-align: right;\n",
              "    }\n",
              "</style>\n",
              "<table border=\"1\" class=\"dataframe\">\n",
              "  <thead>\n",
              "    <tr style=\"text-align: right;\">\n",
              "      <th></th>\n",
              "      <th>Clientes</th>\n",
              "    </tr>\n",
              "    <tr>\n",
              "      <th>Sexo</th>\n",
              "      <th></th>\n",
              "    </tr>\n",
              "  </thead>\n",
              "  <tbody>\n",
              "    <tr>\n",
              "      <th>M</th>\n",
              "      <td>69.0</td>\n",
              "    </tr>\n",
              "    <tr>\n",
              "      <th>H</th>\n",
              "      <td>31.0</td>\n",
              "    </tr>\n",
              "  </tbody>\n",
              "</table>\n",
              "</div><br><label><b>dtype:</b> float64</label>"
            ]
          },
          "metadata": {},
          "execution_count": 44
        }
      ]
    },
    {
      "cell_type": "markdown",
      "source": [
        "Para melhor observação, pode-se observar a distribuição dos clientes da empresa em relação ao gênero no gráfico a seguir (com o auxílio da biblioteca \"matplot\")."
      ],
      "metadata": {
        "id": "8_RtsSDNnFI0"
      }
    },
    {
      "cell_type": "code",
      "source": [
        "plotar_grafico_pizza(freq_sexo, \"Sexo\")"
      ],
      "metadata": {
        "colab": {
          "base_uri": "https://localhost:8080/",
          "height": 429
        },
        "id": "9h1BZBpThxhK",
        "outputId": "b4d12a15-9039-4b84-9860-288836efbdfd"
      },
      "execution_count": 45,
      "outputs": [
        {
          "output_type": "display_data",
          "data": {
            "text/plain": [
              "<Figure size 640x480 with 1 Axes>"
            ],
            "image/png": "[encoded data removed]"
          },
          "metadata": {}
        }
      ]
    },
    {
      "cell_type": "markdown",
      "source": [
        "#### **2.2.4. Tipo de Moradia**"
      ],
      "metadata": {
        "id": "N8Zurq0ziOdN"
      }
    },
    {
      "cell_type": "markdown",
      "source": [
        "A partir da base de dados disponibilizada, observa-se que a grande maioria dos clientes possui casa própria, o que pode refletir maior estabilidade patrimonial entre os indivíduos analisados. Por outro lado, menos de 30% dos clientes vivem em moradia alugada ou de favor, indicando que esse grupo representa uma parcela menor da carteira."
      ],
      "metadata": {
        "id": "rneKPw1-lnnN"
      }
    },
    {
      "cell_type": "code",
      "source": [
        "freq_moradia = frequencia_variavel(df, \"Tipo_Moradia\")\n",
        "freq_moradia"
      ],
      "metadata": {
        "colab": {
          "base_uri": "https://localhost:8080/",
          "height": 209
        },
        "id": "xhNZWA5V-P1D",
        "outputId": "dcd84ad6-7b31-410a-f007-63b4b36e4f20"
      },
      "execution_count": 46,
      "outputs": [
        {
          "output_type": "execute_result",
          "data": {
            "text/plain": [
              "Tipo_Moradia\n",
              "Propria     71.3\n",
              "Alugada     17.9\n",
              "De favor    10.8\n",
              "Name: Clientes, dtype: float64"
            ],
            "text/html": [
              "<div>\n",
              "<style scoped>\n",
              "    .dataframe tbody tr th:only-of-type {\n",
              "        vertical-align: middle;\n",
              "    }\n",
              "\n",
              "    .dataframe tbody tr th {\n",
              "        vertical-align: top;\n",
              "    }\n",
              "\n",
              "    .dataframe thead th {\n",
              "        text-align: right;\n",
              "    }\n",
              "</style>\n",
              "<table border=\"1\" class=\"dataframe\">\n",
              "  <thead>\n",
              "    <tr style=\"text-align: right;\">\n",
              "      <th></th>\n",
              "      <th>Clientes</th>\n",
              "    </tr>\n",
              "    <tr>\n",
              "      <th>Tipo_Moradia</th>\n",
              "      <th></th>\n",
              "    </tr>\n",
              "  </thead>\n",
              "  <tbody>\n",
              "    <tr>\n",
              "      <th>Propria</th>\n",
              "      <td>71.3</td>\n",
              "    </tr>\n",
              "    <tr>\n",
              "      <th>Alugada</th>\n",
              "      <td>17.9</td>\n",
              "    </tr>\n",
              "    <tr>\n",
              "      <th>De favor</th>\n",
              "      <td>10.8</td>\n",
              "    </tr>\n",
              "  </tbody>\n",
              "</table>\n",
              "</div><br><label><b>dtype:</b> float64</label>"
            ]
          },
          "metadata": {},
          "execution_count": 46
        }
      ]
    },
    {
      "cell_type": "markdown",
      "source": [
        "Para melhor observação, pode-se observar a distribuição dos clientes da empresa em relação ao tipo de moradia no gráfico a seguir (com o auxílio da biblioteca \"matplot\")."
      ],
      "metadata": {
        "id": "8tlEgpChnLd2"
      }
    },
    {
      "cell_type": "code",
      "source": [
        "plotar_grafico_pizza(freq_moradia, \"Tipo de Moradia\")"
      ],
      "metadata": {
        "colab": {
          "base_uri": "https://localhost:8080/",
          "height": 429
        },
        "id": "nLu-ClpHlj7n",
        "outputId": "475d64cd-e659-4838-cdbe-f0fbfab5e3a7"
      },
      "execution_count": 47,
      "outputs": [
        {
          "output_type": "display_data",
          "data": {
            "text/plain": [
              "<Figure size 640x480 with 1 Axes>"
            ],
            "image/png": "[encoded data removed]"
          },
          "metadata": {}
        }
      ]
    },
    {
      "cell_type": "markdown",
      "source": [
        "#### **2.2.5. Escolaridade**"
      ],
      "metadata": {
        "id": "nkU2HYfEwFLl"
      }
    },
    {
      "cell_type": "markdown",
      "source": [
        "Na variável referente ao nível de escolaridade, observa-se que aproximadamente 85% dos clientes da base de dados possuem, no mínimo, ensino médio ou graduação. Em contrapartida, menos de 20% dos clientes apresentam formação em pós-graduação. Esse cenário indica que a maior parte da carteira de clientes possui um nível educacional intermediário, o que pode refletir diretamente em aspectos como renda, estabilidade profissional e comportamento financeiro."
      ],
      "metadata": {
        "id": "Aeq5FIOswhSu"
      }
    },
    {
      "cell_type": "code",
      "source": [
        "freq_escolaridade = frequencia_variavel_completa(df, \"Escolaridade\")\n",
        "freq_escolaridade"
      ],
      "metadata": {
        "colab": {
          "base_uri": "https://localhost:8080/",
          "height": 175
        },
        "id": "UStJ5Auu-iTh",
        "outputId": "dfcfe2b8-1ca1-41cc-bab6-edfca4c8eb52"
      },
      "execution_count": 130,
      "outputs": [
        {
          "output_type": "execute_result",
          "data": {
            "text/plain": [
              "               Frequência Absoluta  Frequência Relativa (%)  \\\n",
              "Escolaridade                                                  \n",
              "Graduacao                      630                     63.0   \n",
              "Pos Graduacao                  200                     20.0   \n",
              "Ensino Medio                   170                     17.0   \n",
              "\n",
              "               Frequência Relativa Acumulada (%)  \n",
              "Escolaridade                                      \n",
              "Graduacao                                   63.0  \n",
              "Pos Graduacao                               83.0  \n",
              "Ensino Medio                               100.0  "
            ],
            "text/html": [
              "\n",
              "  <div id=\"df-22ca825c-189e-4a56-8d14-ceb5c7cba81e\" class=\"colab-df-container\">\n",
              "    <div>\n",
              "<style scoped>\n",
              "    .dataframe tbody tr th:only-of-type {\n",
              "        vertical-align: middle;\n",
              "    }\n",
              "\n",
              "    .dataframe tbody tr th {\n",
              "        vertical-align: top;\n",
              "    }\n",
              "\n",
              "    .dataframe thead th {\n",
              "        text-align: right;\n",
              "    }\n",
              "</style>\n",
              "<table border=\"1\" class=\"dataframe\">\n",
              "  <thead>\n",
              "    <tr style=\"text-align: right;\">\n",
              "      <th></th>\n",
              "      <th>Frequência Absoluta</th>\n",
              "      <th>Frequência Relativa (%)</th>\n",
              "      <th>Frequência Relativa Acumulada (%)</th>\n",
              "    </tr>\n",
              "    <tr>\n",
              "      <th>Escolaridade</th>\n",
              "      <th></th>\n",
              "      <th></th>\n",
              "      <th></th>\n",
              "    </tr>\n",
              "  </thead>\n",
              "  <tbody>\n",
              "    <tr>\n",
              "      <th>Graduacao</th>\n",
              "      <td>630</td>\n",
              "      <td>63.0</td>\n",
              "      <td>63.0</td>\n",
              "    </tr>\n",
              "    <tr>\n",
              "      <th>Pos Graduacao</th>\n",
              "      <td>200</td>\n",
              "      <td>20.0</td>\n",
              "      <td>83.0</td>\n",
              "    </tr>\n",
              "    <tr>\n",
              "      <th>Ensino Medio</th>\n",
              "      <td>170</td>\n",
              "      <td>17.0</td>\n",
              "      <td>100.0</td>\n",
              "    </tr>\n",
              "  </tbody>\n",
              "</table>\n",
              "</div>\n",
              "    <div class=\"colab-df-buttons\">\n",
              "\n",
              "  <div class=\"colab-df-container\">\n",
              "    <button class=\"colab-df-convert\" onclick=\"convertToInteractive('df-22ca825c-189e-4a56-8d14-ceb5c7cba81e')\"\n",
              "            title=\"Convert this dataframe to an interactive table.\"\n",
              "            style=\"display:none;\">\n",
              "\n",
              "  <svg xmlns=\"http://www.w3.org/2000/svg\" height=\"24px\" viewBox=\"0 -960 960 960\">\n",
              "    <path d=\"M120-120v-720h720v720H120Zm60-500h600v-160H180v160Zm220 220h160v-160H400v160Zm0 220h160v-160H400v160ZM180-400h160v-160H180v160Zm440 0h160v-160H620v160ZM180-180h160v-160H180v160Zm440 0h160v-160H620v160Z\"/>\n",
              "  </svg>\n",
              "    </button>\n",
              "\n",
              "  <style>\n",
              "    .colab-df-container {\n",
              "      display:flex;\n",
              "      gap: 12px;\n",
              "    }\n",
              "\n",
              "    .colab-df-convert {\n",
              "      background-color: #E8F0FE;\n",
              "      border: none;\n",
              "      border-radius: 50%;\n",
              "      cursor: pointer;\n",
              "      display: none;\n",
              "      fill: #1967D2;\n",
              "      height: 32px;\n",
              "      padding: 0 0 0 0;\n",
              "      width: 32px;\n",
              "    }\n",
              "\n",
              "    .colab-df-convert:hover {\n",
              "      background-color: #E2EBFA;\n",
              "      box-shadow: 0px 1px 2px rgba(60, 64, 67, 0.3), 0px 1px 3px 1px rgba(60, 64, 67, 0.15);\n",
              "      fill: #174EA6;\n",
              "    }\n",
              "\n",
              "    .colab-df-buttons div {\n",
              "      margin-bottom: 4px;\n",
              "    }\n",
              "\n",
              "    [theme=dark] .colab-df-convert {\n",
              "      background-color: #3B4455;\n",
              "      fill: #D2E3FC;\n",
              "    }\n",
              "\n",
              "    [theme=dark] .colab-df-convert:hover {\n",
              "      background-color: #434B5C;\n",
              "      box-shadow: 0px 1px 3px 1px rgba(0, 0, 0, 0.15);\n",
              "      filter: drop-shadow(0px 1px 2px rgba(0, 0, 0, 0.3));\n",
              "      fill: #FFFFFF;\n",
              "    }\n",
              "  </style>\n",
              "\n",
              "    <script>\n",
              "      const buttonEl =\n",
              "        document.querySelector('#df-22ca825c-189e-4a56-8d14-ceb5c7cba81e button.colab-df-convert');\n",
              "      buttonEl.style.display =\n",
              "        google.colab.kernel.accessAllowed ? 'block' : 'none';\n",
              "\n",
              "      async function convertToInteractive(key) {\n",
              "        const element = document.querySelector('#df-22ca825c-189e-4a56-8d14-ceb5c7cba81e');\n",
              "        const dataTable =\n",
              "          await google.colab.kernel.invokeFunction('convertToInteractive',\n",
              "                                                    [key], {});\n",
              "        if (!dataTable) return;\n",
              "\n",
              "        const docLinkHtml = 'Like what you see? Visit the ' +\n",
              "          '<a target=\"_blank\" href=https://colab.research.google.com/notebooks/data_table.ipynb>data table notebook</a>'\n",
              "          + ' to learn more about interactive tables.';\n",
              "        element.innerHTML = '';\n",
              "        dataTable['output_type'] = 'display_data';\n",
              "        await google.colab.output.renderOutput(dataTable, element);\n",
              "        const docLink = document.createElement('div');\n",
              "        docLink.innerHTML = docLinkHtml;\n",
              "        element.appendChild(docLink);\n",
              "      }\n",
              "    </script>\n",
              "  </div>\n",
              "\n",
              "\n",
              "<div id=\"df-d4c8ead5-5f62-415b-bb52-fac3900f7cc7\">\n",
              "  <button class=\"colab-df-quickchart\" onclick=\"quickchart('df-d4c8ead5-5f62-415b-bb52-fac3900f7cc7')\"\n",
              "            title=\"Suggest charts\"\n",
              "            style=\"display:none;\">\n",
              "\n",
              "<svg xmlns=\"http://www.w3.org/2000/svg\" height=\"24px\"viewBox=\"0 0 24 24\"\n",
              "     width=\"24px\">\n",
              "    <g>\n",
              "        <path d=\"M19 3H5c-1.1 0-2 .9-2 2v14c0 1.1.9 2 2 2h14c1.1 0 2-.9 2-2V5c0-1.1-.9-2-2-2zM9 17H7v-7h2v7zm4 0h-2V7h2v10zm4 0h-2v-4h2v4z\"/>\n",
              "    </g>\n",
              "</svg>\n",
              "  </button>\n",
              "\n",
              "<style>\n",
              "  .colab-df-quickchart {\n",
              "      --bg-color: #E8F0FE;\n",
              "      --fill-color: #1967D2;\n",
              "      --hover-bg-color: #E2EBFA;\n",
              "      --hover-fill-color: #174EA6;\n",
              "      --disabled-fill-color: #AAA;\n",
              "      --disabled-bg-color: #DDD;\n",
              "  }\n",
              "\n",
              "  [theme=dark] .colab-df-quickchart {\n",
              "      --bg-color: #3B4455;\n",
              "      --fill-color: #D2E3FC;\n",
              "      --hover-bg-color: #434B5C;\n",
              "      --hover-fill-color: #FFFFFF;\n",
              "      --disabled-bg-color: #3B4455;\n",
              "      --disabled-fill-color: #666;\n",
              "  }\n",
              "\n",
              "  .colab-df-quickchart {\n",
              "    background-color: var(--bg-color);\n",
              "    border: none;\n",
              "    border-radius: 50%;\n",
              "    cursor: pointer;\n",
              "    display: none;\n",
              "    fill: var(--fill-color);\n",
              "    height: 32px;\n",
              "    padding: 0;\n",
              "    width: 32px;\n",
              "  }\n",
              "\n",
              "  .colab-df-quickchart:hover {\n",
              "    background-color: var(--hover-bg-color);\n",
              "    box-shadow: 0 1px 2px rgba(60, 64, 67, 0.3), 0 1px 3px 1px rgba(60, 64, 67, 0.15);\n",
              "    fill: var(--button-hover-fill-color);\n",
              "  }\n",
              "\n",
              "  .colab-df-quickchart-complete:disabled,\n",
              "  .colab-df-quickchart-complete:disabled:hover {\n",
              "    background-color: var(--disabled-bg-color);\n",
              "    fill: var(--disabled-fill-color);\n",
              "    box-shadow: none;\n",
              "  }\n",
              "\n",
              "  .colab-df-spinner {\n",
              "    border: 2px solid var(--fill-color);\n",
              "    border-color: transparent;\n",
              "    border-bottom-color: var(--fill-color);\n",
              "    animation:\n",
              "      spin 1s steps(1) infinite;\n",
              "  }\n",
              "\n",
              "  @keyframes spin {\n",
              "    0% {\n",
              "      border-color: transparent;\n",
              "      border-bottom-color: var(--fill-color);\n",
              "      border-left-color: var(--fill-color);\n",
              "    }\n",
              "    20% {\n",
              "      border-color: transparent;\n",
              "      border-left-color: var(--fill-color);\n",
              "      border-top-color: var(--fill-color);\n",
              "    }\n",
              "    30% {\n",
              "      border-color: transparent;\n",
              "      border-left-color: var(--fill-color);\n",
              "      border-top-color: var(--fill-color);\n",
              "      border-right-color: var(--fill-color);\n",
              "    }\n",
              "    40% {\n",
              "      border-color: transparent;\n",
              "      border-right-color: var(--fill-color);\n",
              "      border-top-color: var(--fill-color);\n",
              "    }\n",
              "    60% {\n",
              "      border-color: transparent;\n",
              "      border-right-color: var(--fill-color);\n",
              "    }\n",
              "    80% {\n",
              "      border-color: transparent;\n",
              "      border-right-color: var(--fill-color);\n",
              "      border-bottom-color: var(--fill-color);\n",
              "    }\n",
              "    90% {\n",
              "      border-color: transparent;\n",
              "      border-bottom-color: var(--fill-color);\n",
              "    }\n",
              "  }\n",
              "</style>\n",
              "\n",
              "  <script>\n",
              "    async function quickchart(key) {\n",
              "      const quickchartButtonEl =\n",
              "        document.querySelector('#' + key + ' button');\n",
              "      quickchartButtonEl.disabled = true;  // To prevent multiple clicks.\n",
              "      quickchartButtonEl.classList.add('colab-df-spinner');\n",
              "      try {\n",
              "        const charts = await google.colab.kernel.invokeFunction(\n",
              "            'suggestCharts', [key], {});\n",
              "      } catch (error) {\n",
              "        console.error('Error during call to suggestCharts:', error);\n",
              "      }\n",
              "      quickchartButtonEl.classList.remove('colab-df-spinner');\n",
              "      quickchartButtonEl.classList.add('colab-df-quickchart-complete');\n",
              "    }\n",
              "    (() => {\n",
              "      let quickchartButtonEl =\n",
              "        document.querySelector('#df-d4c8ead5-5f62-415b-bb52-fac3900f7cc7 button');\n",
              "      quickchartButtonEl.style.display =\n",
              "        google.colab.kernel.accessAllowed ? 'block' : 'none';\n",
              "    })();\n",
              "  </script>\n",
              "</div>\n",
              "\n",
              "  <div id=\"id_93b66567-56aa-4ffe-9bd7-b0f842ccd8f1\">\n",
              "    <style>\n",
              "      .colab-df-generate {\n",
              "        background-color: #E8F0FE;\n",
              "        border: none;\n",
              "        border-radius: 50%;\n",
              "        cursor: pointer;\n",
              "        display: none;\n",
              "        fill: #1967D2;\n",
              "        height: 32px;\n",
              "        padding: 0 0 0 0;\n",
              "        width: 32px;\n",
              "      }\n",
              "\n",
              "      .colab-df-generate:hover {\n",
              "        background-color: #E2EBFA;\n",
              "        box-shadow: 0px 1px 2px rgba(60, 64, 67, 0.3), 0px 1px 3px 1px rgba(60, 64, 67, 0.15);\n",
              "        fill: #174EA6;\n",
              "      }\n",
              "\n",
              "      [theme=dark] .colab-df-generate {\n",
              "        background-color: #3B4455;\n",
              "        fill: #D2E3FC;\n",
              "      }\n",
              "\n",
              "      [theme=dark] .colab-df-generate:hover {\n",
              "        background-color: #434B5C;\n",
              "        box-shadow: 0px 1px 3px 1px rgba(0, 0, 0, 0.15);\n",
              "        filter: drop-shadow(0px 1px 2px rgba(0, 0, 0, 0.3));\n",
              "        fill: #FFFFFF;\n",
              "      }\n",
              "    </style>\n",
              "    <button class=\"colab-df-generate\" onclick=\"generateWithVariable('freq_escolaridade')\"\n",
              "            title=\"Generate code using this dataframe.\"\n",
              "            style=\"display:none;\">\n",
              "\n",
              "  <svg xmlns=\"http://www.w3.org/2000/svg\" height=\"24px\"viewBox=\"0 0 24 24\"\n",
              "       width=\"24px\">\n",
              "    <path d=\"M7,19H8.4L18.45,9,17,7.55,7,17.6ZM5,21V16.75L18.45,3.32a2,2,0,0,1,2.83,0l1.4,1.43a1.91,1.91,0,0,1,.58,1.4,1.91,1.91,0,0,1-.58,1.4L9.25,21ZM18.45,9,17,7.55Zm-12,3A5.31,5.31,0,0,0,4.9,8.1,5.31,5.31,0,0,0,1,6.5,5.31,5.31,0,0,0,4.9,4.9,5.31,5.31,0,0,0,6.5,1,5.31,5.31,0,0,0,8.1,4.9,5.31,5.31,0,0,0,12,6.5,5.46,5.46,0,0,0,6.5,12Z\"/>\n",
              "  </svg>\n",
              "    </button>\n",
              "    <script>\n",
              "      (() => {\n",
              "      const buttonEl =\n",
              "        document.querySelector('#id_93b66567-56aa-4ffe-9bd7-b0f842ccd8f1 button.colab-df-generate');\n",
              "      buttonEl.style.display =\n",
              "        google.colab.kernel.accessAllowed ? 'block' : 'none';\n",
              "\n",
              "      buttonEl.onclick = () => {\n",
              "        google.colab.notebook.generateWithVariable('freq_escolaridade');\n",
              "      }\n",
              "      })();\n",
              "    </script>\n",
              "  </div>\n",
              "\n",
              "    </div>\n",
              "  </div>\n"
            ],
            "application/vnd.google.colaboratory.intrinsic+json": {
              "type": "dataframe",
              "variable_name": "freq_escolaridade",
              "summary": "{\n  \"name\": \"freq_escolaridade\",\n  \"rows\": 3,\n  \"fields\": [\n    {\n      \"column\": \"Escolaridade\",\n      \"properties\": {\n        \"dtype\": \"string\",\n        \"num_unique_values\": 3,\n        \"samples\": [\n          \"Graduacao\",\n          \"Pos Graduacao\",\n          \"Ensino Medio\"\n        ],\n        \"semantic_type\": \"\",\n        \"description\": \"\"\n      }\n    },\n    {\n      \"column\": \"Frequ\\u00eancia Absoluta\",\n      \"properties\": {\n        \"dtype\": \"number\",\n        \"std\": 257,\n        \"min\": 170,\n        \"max\": 630,\n        \"num_unique_values\": 3,\n        \"samples\": [\n          630,\n          200,\n          170\n        ],\n        \"semantic_type\": \"\",\n        \"description\": \"\"\n      }\n    },\n    {\n      \"column\": \"Frequ\\u00eancia Relativa (%)\",\n      \"properties\": {\n        \"dtype\": \"number\",\n        \"std\": 25.73583752927682,\n        \"min\": 17.0,\n        \"max\": 63.0,\n        \"num_unique_values\": 3,\n        \"samples\": [\n          63.0,\n          20.0,\n          17.0\n        ],\n        \"semantic_type\": \"\",\n        \"description\": \"\"\n      }\n    },\n    {\n      \"column\": \"Frequ\\u00eancia Relativa Acumulada (%)\",\n      \"properties\": {\n        \"dtype\": \"number\",\n        \"std\": 18.520259177452136,\n        \"min\": 63.0,\n        \"max\": 100.0,\n        \"num_unique_values\": 3,\n        \"samples\": [\n          63.0,\n          83.0,\n          100.0\n        ],\n        \"semantic_type\": \"\",\n        \"description\": \"\"\n      }\n    }\n  ]\n}"
            }
          },
          "metadata": {},
          "execution_count": 130
        }
      ]
    },
    {
      "cell_type": "markdown",
      "source": [
        "Para melhor observação, pode-se observar a distribuição dos clientes da empresa em relação à escolaridade no gráfico a seguir (com o auxílio da biblioteca \"matplot\")."
      ],
      "metadata": {
        "id": "KxpDILeEwZJq"
      }
    },
    {
      "cell_type": "code",
      "source": [
        "ordem_escolaridade = ['Ensino Medio', 'Graduacao', 'Pos Graduacao']\n",
        "plot_frequencias(freq_escolaridade, \"Escolaridade\", ordem=ordem_escolaridade)"
      ],
      "metadata": {
        "colab": {
          "base_uri": "https://localhost:8080/",
          "height": 487
        },
        "id": "iWqU0Ki9wcpN",
        "outputId": "13e02ac0-66a6-4588-a15b-de043db2d8f3"
      },
      "execution_count": 131,
      "outputs": [
        {
          "output_type": "display_data",
          "data": {
            "text/plain": [
              "<Figure size 640x480 with 2 Axes>"
            ],
            "image/png": "[encoded data removed]"
          },
          "metadata": {}
        }
      ]
    },
    {
      "cell_type": "markdown",
      "source": [
        "#### **2.2.6. Saldo Investimento**"
      ],
      "metadata": {
        "id": "TvQXapLdnTW_"
      }
    },
    {
      "cell_type": "markdown",
      "source": [
        "Na variável referente ao nível de investimento dos clientes, observa-se que aproximadamente 80% da base possui poucos investimentos ou nenhum. Esse dado revela uma predominância de clientes com baixa participação em aplicações financeiras, o que pode indicar menor estabilidade econômica e maior vulnerabilidade a imprevistos financeiros."
      ],
      "metadata": {
        "id": "WOQdUq9uu1-I"
      }
    },
    {
      "cell_type": "code",
      "source": [
        "freq_saldo = frequencia_variavel_completa(df, \"Saldo_Investimento\")\n",
        "freq_saldo"
      ],
      "metadata": {
        "colab": {
          "base_uri": "https://localhost:8080/",
          "height": 206
        },
        "id": "dUxMrEGH-bC2",
        "outputId": "bc24b92f-5a55-4d3a-a565-9fbeac7ceeac"
      },
      "execution_count": 128,
      "outputs": [
        {
          "output_type": "execute_result",
          "data": {
            "text/plain": [
              "                    Frequência Absoluta  Frequência Relativa (%)  \\\n",
              "Saldo_Investimento                                                 \n",
              "Pouco                               603                     60.3   \n",
              "Sem investimento                    183                     18.3   \n",
              "Alto                                111                     11.1   \n",
              "Moderado                            103                     10.3   \n",
              "\n",
              "                    Frequência Relativa Acumulada (%)  \n",
              "Saldo_Investimento                                     \n",
              "Pouco                                            60.3  \n",
              "Sem investimento                                 78.6  \n",
              "Alto                                             89.7  \n",
              "Moderado                                        100.0  "
            ],
            "text/html": [
              "\n",
              "  <div id=\"df-8c735236-02f7-401e-a5d2-5263f4b04132\" class=\"colab-df-container\">\n",
              "    <div>\n",
              "<style scoped>\n",
              "    .dataframe tbody tr th:only-of-type {\n",
              "        vertical-align: middle;\n",
              "    }\n",
              "\n",
              "    .dataframe tbody tr th {\n",
              "        vertical-align: top;\n",
              "    }\n",
              "\n",
              "    .dataframe thead th {\n",
              "        text-align: right;\n",
              "    }\n",
              "</style>\n",
              "<table border=\"1\" class=\"dataframe\">\n",
              "  <thead>\n",
              "    <tr style=\"text-align: right;\">\n",
              "      <th></th>\n",
              "      <th>Frequência Absoluta</th>\n",
              "      <th>Frequência Relativa (%)</th>\n",
              "      <th>Frequência Relativa Acumulada (%)</th>\n",
              "    </tr>\n",
              "    <tr>\n",
              "      <th>Saldo_Investimento</th>\n",
              "      <th></th>\n",
              "      <th></th>\n",
              "      <th></th>\n",
              "    </tr>\n",
              "  </thead>\n",
              "  <tbody>\n",
              "    <tr>\n",
              "      <th>Pouco</th>\n",
              "      <td>603</td>\n",
              "      <td>60.3</td>\n",
              "      <td>60.3</td>\n",
              "    </tr>\n",
              "    <tr>\n",
              "      <th>Sem investimento</th>\n",
              "      <td>183</td>\n",
              "      <td>18.3</td>\n",
              "      <td>78.6</td>\n",
              "    </tr>\n",
              "    <tr>\n",
              "      <th>Alto</th>\n",
              "      <td>111</td>\n",
              "      <td>11.1</td>\n",
              "      <td>89.7</td>\n",
              "    </tr>\n",
              "    <tr>\n",
              "      <th>Moderado</th>\n",
              "      <td>103</td>\n",
              "      <td>10.3</td>\n",
              "      <td>100.0</td>\n",
              "    </tr>\n",
              "  </tbody>\n",
              "</table>\n",
              "</div>\n",
              "    <div class=\"colab-df-buttons\">\n",
              "\n",
              "  <div class=\"colab-df-container\">\n",
              "    <button class=\"colab-df-convert\" onclick=\"convertToInteractive('df-8c735236-02f7-401e-a5d2-5263f4b04132')\"\n",
              "            title=\"Convert this dataframe to an interactive table.\"\n",
              "            style=\"display:none;\">\n",
              "\n",
              "  <svg xmlns=\"http://www.w3.org/2000/svg\" height=\"24px\" viewBox=\"0 -960 960 960\">\n",
              "    <path d=\"M120-120v-720h720v720H120Zm60-500h600v-160H180v160Zm220 220h160v-160H400v160Zm0 220h160v-160H400v160ZM180-400h160v-160H180v160Zm440 0h160v-160H620v160ZM180-180h160v-160H180v160Zm440 0h160v-160H620v160Z\"/>\n",
              "  </svg>\n",
              "    </button>\n",
              "\n",
              "  <style>\n",
              "    .colab-df-container {\n",
              "      display:flex;\n",
              "      gap: 12px;\n",
              "    }\n",
              "\n",
              "    .colab-df-convert {\n",
              "      background-color: #E8F0FE;\n",
              "      border: none;\n",
              "      border-radius: 50%;\n",
              "      cursor: pointer;\n",
              "      display: none;\n",
              "      fill: #1967D2;\n",
              "      height: 32px;\n",
              "      padding: 0 0 0 0;\n",
              "      width: 32px;\n",
              "    }\n",
              "\n",
              "    .colab-df-convert:hover {\n",
              "      background-color: #E2EBFA;\n",
              "      box-shadow: 0px 1px 2px rgba(60, 64, 67, 0.3), 0px 1px 3px 1px rgba(60, 64, 67, 0.15);\n",
              "      fill: #174EA6;\n",
              "    }\n",
              "\n",
              "    .colab-df-buttons div {\n",
              "      margin-bottom: 4px;\n",
              "    }\n",
              "\n",
              "    [theme=dark] .colab-df-convert {\n",
              "      background-color: #3B4455;\n",
              "      fill: #D2E3FC;\n",
              "    }\n",
              "\n",
              "    [theme=dark] .colab-df-convert:hover {\n",
              "      background-color: #434B5C;\n",
              "      box-shadow: 0px 1px 3px 1px rgba(0, 0, 0, 0.15);\n",
              "      filter: drop-shadow(0px 1px 2px rgba(0, 0, 0, 0.3));\n",
              "      fill: #FFFFFF;\n",
              "    }\n",
              "  </style>\n",
              "\n",
              "    <script>\n",
              "      const buttonEl =\n",
              "        document.querySelector('#df-8c735236-02f7-401e-a5d2-5263f4b04132 button.colab-df-convert');\n",
              "      buttonEl.style.display =\n",
              "        google.colab.kernel.accessAllowed ? 'block' : 'none';\n",
              "\n",
              "      async function convertToInteractive(key) {\n",
              "        const element = document.querySelector('#df-8c735236-02f7-401e-a5d2-5263f4b04132');\n",
              "        const dataTable =\n",
              "          await google.colab.kernel.invokeFunction('convertToInteractive',\n",
              "                                                    [key], {});\n",
              "        if (!dataTable) return;\n",
              "\n",
              "        const docLinkHtml = 'Like what you see? Visit the ' +\n",
              "          '<a target=\"_blank\" href=https://colab.research.google.com/notebooks/data_table.ipynb>data table notebook</a>'\n",
              "          + ' to learn more about interactive tables.';\n",
              "        element.innerHTML = '';\n",
              "        dataTable['output_type'] = 'display_data';\n",
              "        await google.colab.output.renderOutput(dataTable, element);\n",
              "        const docLink = document.createElement('div');\n",
              "        docLink.innerHTML = docLinkHtml;\n",
              "        element.appendChild(docLink);\n",
              "      }\n",
              "    </script>\n",
              "  </div>\n",
              "\n",
              "\n",
              "<div id=\"df-c0d8500a-cf00-4578-a993-2921fa4d9a5e\">\n",
              "  <button class=\"colab-df-quickchart\" onclick=\"quickchart('df-c0d8500a-cf00-4578-a993-2921fa4d9a5e')\"\n",
              "            title=\"Suggest charts\"\n",
              "            style=\"display:none;\">\n",
              "\n",
              "<svg xmlns=\"http://www.w3.org/2000/svg\" height=\"24px\"viewBox=\"0 0 24 24\"\n",
              "     width=\"24px\">\n",
              "    <g>\n",
              "        <path d=\"M19 3H5c-1.1 0-2 .9-2 2v14c0 1.1.9 2 2 2h14c1.1 0 2-.9 2-2V5c0-1.1-.9-2-2-2zM9 17H7v-7h2v7zm4 0h-2V7h2v10zm4 0h-2v-4h2v4z\"/>\n",
              "    </g>\n",
              "</svg>\n",
              "  </button>\n",
              "\n",
              "<style>\n",
              "  .colab-df-quickchart {\n",
              "      --bg-color: #E8F0FE;\n",
              "      --fill-color: #1967D2;\n",
              "      --hover-bg-color: #E2EBFA;\n",
              "      --hover-fill-color: #174EA6;\n",
              "      --disabled-fill-color: #AAA;\n",
              "      --disabled-bg-color: #DDD;\n",
              "  }\n",
              "\n",
              "  [theme=dark] .colab-df-quickchart {\n",
              "      --bg-color: #3B4455;\n",
              "      --fill-color: #D2E3FC;\n",
              "      --hover-bg-color: #434B5C;\n",
              "      --hover-fill-color: #FFFFFF;\n",
              "      --disabled-bg-color: #3B4455;\n",
              "      --disabled-fill-color: #666;\n",
              "  }\n",
              "\n",
              "  .colab-df-quickchart {\n",
              "    background-color: var(--bg-color);\n",
              "    border: none;\n",
              "    border-radius: 50%;\n",
              "    cursor: pointer;\n",
              "    display: none;\n",
              "    fill: var(--fill-color);\n",
              "    height: 32px;\n",
              "    padding: 0;\n",
              "    width: 32px;\n",
              "  }\n",
              "\n",
              "  .colab-df-quickchart:hover {\n",
              "    background-color: var(--hover-bg-color);\n",
              "    box-shadow: 0 1px 2px rgba(60, 64, 67, 0.3), 0 1px 3px 1px rgba(60, 64, 67, 0.15);\n",
              "    fill: var(--button-hover-fill-color);\n",
              "  }\n",
              "\n",
              "  .colab-df-quickchart-complete:disabled,\n",
              "  .colab-df-quickchart-complete:disabled:hover {\n",
              "    background-color: var(--disabled-bg-color);\n",
              "    fill: var(--disabled-fill-color);\n",
              "    box-shadow: none;\n",
              "  }\n",
              "\n",
              "  .colab-df-spinner {\n",
              "    border: 2px solid var(--fill-color);\n",
              "    border-color: transparent;\n",
              "    border-bottom-color: var(--fill-color);\n",
              "    animation:\n",
              "      spin 1s steps(1) infinite;\n",
              "  }\n",
              "\n",
              "  @keyframes spin {\n",
              "    0% {\n",
              "      border-color: transparent;\n",
              "      border-bottom-color: var(--fill-color);\n",
              "      border-left-color: var(--fill-color);\n",
              "    }\n",
              "    20% {\n",
              "      border-color: transparent;\n",
              "      border-left-color: var(--fill-color);\n",
              "      border-top-color: var(--fill-color);\n",
              "    }\n",
              "    30% {\n",
              "      border-color: transparent;\n",
              "      border-left-color: var(--fill-color);\n",
              "      border-top-color: var(--fill-color);\n",
              "      border-right-color: var(--fill-color);\n",
              "    }\n",
              "    40% {\n",
              "      border-color: transparent;\n",
              "      border-right-color: var(--fill-color);\n",
              "      border-top-color: var(--fill-color);\n",
              "    }\n",
              "    60% {\n",
              "      border-color: transparent;\n",
              "      border-right-color: var(--fill-color);\n",
              "    }\n",
              "    80% {\n",
              "      border-color: transparent;\n",
              "      border-right-color: var(--fill-color);\n",
              "      border-bottom-color: var(--fill-color);\n",
              "    }\n",
              "    90% {\n",
              "      border-color: transparent;\n",
              "      border-bottom-color: var(--fill-color);\n",
              "    }\n",
              "  }\n",
              "</style>\n",
              "\n",
              "  <script>\n",
              "    async function quickchart(key) {\n",
              "      const quickchartButtonEl =\n",
              "        document.querySelector('#' + key + ' button');\n",
              "      quickchartButtonEl.disabled = true;  // To prevent multiple clicks.\n",
              "      quickchartButtonEl.classList.add('colab-df-spinner');\n",
              "      try {\n",
              "        const charts = await google.colab.kernel.invokeFunction(\n",
              "            'suggestCharts', [key], {});\n",
              "      } catch (error) {\n",
              "        console.error('Error during call to suggestCharts:', error);\n",
              "      }\n",
              "      quickchartButtonEl.classList.remove('colab-df-spinner');\n",
              "      quickchartButtonEl.classList.add('colab-df-quickchart-complete');\n",
              "    }\n",
              "    (() => {\n",
              "      let quickchartButtonEl =\n",
              "        document.querySelector('#df-c0d8500a-cf00-4578-a993-2921fa4d9a5e button');\n",
              "      quickchartButtonEl.style.display =\n",
              "        google.colab.kernel.accessAllowed ? 'block' : 'none';\n",
              "    })();\n",
              "  </script>\n",
              "</div>\n",
              "\n",
              "  <div id=\"id_5ef1c9c1-6be0-4f16-884f-9e9010b90fe2\">\n",
              "    <style>\n",
              "      .colab-df-generate {\n",
              "        background-color: #E8F0FE;\n",
              "        border: none;\n",
              "        border-radius: 50%;\n",
              "        cursor: pointer;\n",
              "        display: none;\n",
              "        fill: #1967D2;\n",
              "        height: 32px;\n",
              "        padding: 0 0 0 0;\n",
              "        width: 32px;\n",
              "      }\n",
              "\n",
              "      .colab-df-generate:hover {\n",
              "        background-color: #E2EBFA;\n",
              "        box-shadow: 0px 1px 2px rgba(60, 64, 67, 0.3), 0px 1px 3px 1px rgba(60, 64, 67, 0.15);\n",
              "        fill: #174EA6;\n",
              "      }\n",
              "\n",
              "      [theme=dark] .colab-df-generate {\n",
              "        background-color: #3B4455;\n",
              "        fill: #D2E3FC;\n",
              "      }\n",
              "\n",
              "      [theme=dark] .colab-df-generate:hover {\n",
              "        background-color: #434B5C;\n",
              "        box-shadow: 0px 1px 3px 1px rgba(0, 0, 0, 0.15);\n",
              "        filter: drop-shadow(0px 1px 2px rgba(0, 0, 0, 0.3));\n",
              "        fill: #FFFFFF;\n",
              "      }\n",
              "    </style>\n",
              "    <button class=\"colab-df-generate\" onclick=\"generateWithVariable('freq_saldo')\"\n",
              "            title=\"Generate code using this dataframe.\"\n",
              "            style=\"display:none;\">\n",
              "\n",
              "  <svg xmlns=\"http://www.w3.org/2000/svg\" height=\"24px\"viewBox=\"0 0 24 24\"\n",
              "       width=\"24px\">\n",
              "    <path d=\"M7,19H8.4L18.45,9,17,7.55,7,17.6ZM5,21V16.75L18.45,3.32a2,2,0,0,1,2.83,0l1.4,1.43a1.91,1.91,0,0,1,.58,1.4,1.91,1.91,0,0,1-.58,1.4L9.25,21ZM18.45,9,17,7.55Zm-12,3A5.31,5.31,0,0,0,4.9,8.1,5.31,5.31,0,0,0,1,6.5,5.31,5.31,0,0,0,4.9,4.9,5.31,5.31,0,0,0,6.5,1,5.31,5.31,0,0,0,8.1,4.9,5.31,5.31,0,0,0,12,6.5,5.46,5.46,0,0,0,6.5,12Z\"/>\n",
              "  </svg>\n",
              "    </button>\n",
              "    <script>\n",
              "      (() => {\n",
              "      const buttonEl =\n",
              "        document.querySelector('#id_5ef1c9c1-6be0-4f16-884f-9e9010b90fe2 button.colab-df-generate');\n",
              "      buttonEl.style.display =\n",
              "        google.colab.kernel.accessAllowed ? 'block' : 'none';\n",
              "\n",
              "      buttonEl.onclick = () => {\n",
              "        google.colab.notebook.generateWithVariable('freq_saldo');\n",
              "      }\n",
              "      })();\n",
              "    </script>\n",
              "  </div>\n",
              "\n",
              "    </div>\n",
              "  </div>\n"
            ],
            "application/vnd.google.colaboratory.intrinsic+json": {
              "type": "dataframe",
              "variable_name": "freq_saldo",
              "summary": "{\n  \"name\": \"freq_saldo\",\n  \"rows\": 4,\n  \"fields\": [\n    {\n      \"column\": \"Saldo_Investimento\",\n      \"properties\": {\n        \"dtype\": \"string\",\n        \"num_unique_values\": 4,\n        \"samples\": [\n          \"Sem investimento\",\n          \"Moderado\",\n          \"Pouco\"\n        ],\n        \"semantic_type\": \"\",\n        \"description\": \"\"\n      }\n    },\n    {\n      \"column\": \"Frequ\\u00eancia Absoluta\",\n      \"properties\": {\n        \"dtype\": \"number\",\n        \"std\": 238,\n        \"min\": 103,\n        \"max\": 603,\n        \"num_unique_values\": 4,\n        \"samples\": [\n          183,\n          103,\n          603\n        ],\n        \"semantic_type\": \"\",\n        \"description\": \"\"\n      }\n    },\n    {\n      \"column\": \"Frequ\\u00eancia Relativa (%)\",\n      \"properties\": {\n        \"dtype\": \"number\",\n        \"std\": 23.806721739878423,\n        \"min\": 10.3,\n        \"max\": 60.3,\n        \"num_unique_values\": 4,\n        \"samples\": [\n          18.3,\n          10.3,\n          60.3\n        ],\n        \"semantic_type\": \"\",\n        \"description\": \"\"\n      }\n    },\n    {\n      \"column\": \"Frequ\\u00eancia Relativa Acumulada (%)\",\n      \"properties\": {\n        \"dtype\": \"number\",\n        \"std\": 16.986759549719896,\n        \"min\": 60.3,\n        \"max\": 100.0,\n        \"num_unique_values\": 4,\n        \"samples\": [\n          78.6,\n          100.0,\n          60.3\n        ],\n        \"semantic_type\": \"\",\n        \"description\": \"\"\n      }\n    }\n  ]\n}"
            }
          },
          "metadata": {},
          "execution_count": 128
        }
      ]
    },
    {
      "cell_type": "markdown",
      "source": [
        "Para melhor observação, pode-se observar a distribuição dos clientes da empresa em relação ao saldo de investimento no gráfico a seguir (com o auxílio da biblioteca \"matplot\")."
      ],
      "metadata": {
        "id": "V_OxWAV2wTDs"
      }
    },
    {
      "cell_type": "code",
      "source": [
        "plot_frequencias(freq_saldo, \"Saldo Investimento\")"
      ],
      "metadata": {
        "colab": {
          "base_uri": "https://localhost:8080/",
          "height": 487
        },
        "id": "kMWNPjhutkO5",
        "outputId": "f9bdb416-6556-4dea-9111-51d7ff9b13e9"
      },
      "execution_count": 129,
      "outputs": [
        {
          "output_type": "display_data",
          "data": {
            "text/plain": [
              "<Figure size 640x480 with 2 Axes>"
            ],
            "image/png": "[encoded data removed]"
          },
          "metadata": {}
        }
      ]
    },
    {
      "cell_type": "markdown",
      "source": [
        "#### **2.2.7. Saldo da Conta Corrente**"
      ],
      "metadata": {
        "id": "itrL5fMe0h16"
      }
    },
    {
      "cell_type": "markdown",
      "source": [
        "Na variável referente ao saldo em conta corrente, observa-se que aproximadamente 70% dos clientes da fintech não possuem conta ou apresentam baixo saldo disponível. Em contraste, apenas cerca de 10% dos clientes possuem saldo elevado. Esse dado sugere uma predominância de clientes com baixa liquidez imediata, o que pode impactar negativamente sua capacidade de honrar compromissos financeiros em curto prazo."
      ],
      "metadata": {
        "id": "oCdTqRbX0_D3"
      }
    },
    {
      "cell_type": "code",
      "source": [
        "freq_saldo = frequencia_variavel_completa(df, \"Saldo_Conta_Corrente\")\n",
        "freq_saldo"
      ],
      "metadata": {
        "colab": {
          "base_uri": "https://localhost:8080/",
          "height": 206
        },
        "id": "uD7K-qeq-ojR",
        "outputId": "0587fb4f-4c72-428e-d061-ae407d2c6adb"
      },
      "execution_count": 133,
      "outputs": [
        {
          "output_type": "execute_result",
          "data": {
            "text/plain": [
              "                      Frequência Absoluta  Frequência Relativa (%)  \\\n",
              "Saldo_Conta_Corrente                                                 \n",
              "Sem conta                             394                     39.4   \n",
              "Pouco                                 274                     27.4   \n",
              "Moderado                              224                     22.4   \n",
              "Alto                                  108                     10.8   \n",
              "\n",
              "                      Frequência Relativa Acumulada (%)  \n",
              "Saldo_Conta_Corrente                                     \n",
              "Sem conta                                          39.4  \n",
              "Pouco                                              66.8  \n",
              "Moderado                                           89.2  \n",
              "Alto                                              100.0  "
            ],
            "text/html": [
              "\n",
              "  <div id=\"df-326c636d-9a80-42b1-9488-609941b9995d\" class=\"colab-df-container\">\n",
              "    <div>\n",
              "<style scoped>\n",
              "    .dataframe tbody tr th:only-of-type {\n",
              "        vertical-align: middle;\n",
              "    }\n",
              "\n",
              "    .dataframe tbody tr th {\n",
              "        vertical-align: top;\n",
              "    }\n",
              "\n",
              "    .dataframe thead th {\n",
              "        text-align: right;\n",
              "    }\n",
              "</style>\n",
              "<table border=\"1\" class=\"dataframe\">\n",
              "  <thead>\n",
              "    <tr style=\"text-align: right;\">\n",
              "      <th></th>\n",
              "      <th>Frequência Absoluta</th>\n",
              "      <th>Frequência Relativa (%)</th>\n",
              "      <th>Frequência Relativa Acumulada (%)</th>\n",
              "    </tr>\n",
              "    <tr>\n",
              "      <th>Saldo_Conta_Corrente</th>\n",
              "      <th></th>\n",
              "      <th></th>\n",
              "      <th></th>\n",
              "    </tr>\n",
              "  </thead>\n",
              "  <tbody>\n",
              "    <tr>\n",
              "      <th>Sem conta</th>\n",
              "      <td>394</td>\n",
              "      <td>39.4</td>\n",
              "      <td>39.4</td>\n",
              "    </tr>\n",
              "    <tr>\n",
              "      <th>Pouco</th>\n",
              "      <td>274</td>\n",
              "      <td>27.4</td>\n",
              "      <td>66.8</td>\n",
              "    </tr>\n",
              "    <tr>\n",
              "      <th>Moderado</th>\n",
              "      <td>224</td>\n",
              "      <td>22.4</td>\n",
              "      <td>89.2</td>\n",
              "    </tr>\n",
              "    <tr>\n",
              "      <th>Alto</th>\n",
              "      <td>108</td>\n",
              "      <td>10.8</td>\n",
              "      <td>100.0</td>\n",
              "    </tr>\n",
              "  </tbody>\n",
              "</table>\n",
              "</div>\n",
              "    <div class=\"colab-df-buttons\">\n",
              "\n",
              "  <div class=\"colab-df-container\">\n",
              "    <button class=\"colab-df-convert\" onclick=\"convertToInteractive('df-326c636d-9a80-42b1-9488-609941b9995d')\"\n",
              "            title=\"Convert this dataframe to an interactive table.\"\n",
              "            style=\"display:none;\">\n",
              "\n",
              "  <svg xmlns=\"http://www.w3.org/2000/svg\" height=\"24px\" viewBox=\"0 -960 960 960\">\n",
              "    <path d=\"M120-120v-720h720v720H120Zm60-500h600v-160H180v160Zm220 220h160v-160H400v160Zm0 220h160v-160H400v160ZM180-400h160v-160H180v160Zm440 0h160v-160H620v160ZM180-180h160v-160H180v160Zm440 0h160v-160H620v160Z\"/>\n",
              "  </svg>\n",
              "    </button>\n",
              "\n",
              "  <style>\n",
              "    .colab-df-container {\n",
              "      display:flex;\n",
              "      gap: 12px;\n",
              "    }\n",
              "\n",
              "    .colab-df-convert {\n",
              "      background-color: #E8F0FE;\n",
              "      border: none;\n",
              "      border-radius: 50%;\n",
              "      cursor: pointer;\n",
              "      display: none;\n",
              "      fill: #1967D2;\n",
              "      height: 32px;\n",
              "      padding: 0 0 0 0;\n",
              "      width: 32px;\n",
              "    }\n",
              "\n",
              "    .colab-df-convert:hover {\n",
              "      background-color: #E2EBFA;\n",
              "      box-shadow: 0px 1px 2px rgba(60, 64, 67, 0.3), 0px 1px 3px 1px rgba(60, 64, 67, 0.15);\n",
              "      fill: #174EA6;\n",
              "    }\n",
              "\n",
              "    .colab-df-buttons div {\n",
              "      margin-bottom: 4px;\n",
              "    }\n",
              "\n",
              "    [theme=dark] .colab-df-convert {\n",
              "      background-color: #3B4455;\n",
              "      fill: #D2E3FC;\n",
              "    }\n",
              "\n",
              "    [theme=dark] .colab-df-convert:hover {\n",
              "      background-color: #434B5C;\n",
              "      box-shadow: 0px 1px 3px 1px rgba(0, 0, 0, 0.15);\n",
              "      filter: drop-shadow(0px 1px 2px rgba(0, 0, 0, 0.3));\n",
              "      fill: #FFFFFF;\n",
              "    }\n",
              "  </style>\n",
              "\n",
              "    <script>\n",
              "      const buttonEl =\n",
              "        document.querySelector('#df-326c636d-9a80-42b1-9488-609941b9995d button.colab-df-convert');\n",
              "      buttonEl.style.display =\n",
              "        google.colab.kernel.accessAllowed ? 'block' : 'none';\n",
              "\n",
              "      async function convertToInteractive(key) {\n",
              "        const element = document.querySelector('#df-326c636d-9a80-42b1-9488-609941b9995d');\n",
              "        const dataTable =\n",
              "          await google.colab.kernel.invokeFunction('convertToInteractive',\n",
              "                                                    [key], {});\n",
              "        if (!dataTable) return;\n",
              "\n",
              "        const docLinkHtml = 'Like what you see? Visit the ' +\n",
              "          '<a target=\"_blank\" href=https://colab.research.google.com/notebooks/data_table.ipynb>data table notebook</a>'\n",
              "          + ' to learn more about interactive tables.';\n",
              "        element.innerHTML = '';\n",
              "        dataTable['output_type'] = 'display_data';\n",
              "        await google.colab.output.renderOutput(dataTable, element);\n",
              "        const docLink = document.createElement('div');\n",
              "        docLink.innerHTML = docLinkHtml;\n",
              "        element.appendChild(docLink);\n",
              "      }\n",
              "    </script>\n",
              "  </div>\n",
              "\n",
              "\n",
              "<div id=\"df-6f43b82d-8f4b-4750-9bb3-48c61d2d30d4\">\n",
              "  <button class=\"colab-df-quickchart\" onclick=\"quickchart('df-6f43b82d-8f4b-4750-9bb3-48c61d2d30d4')\"\n",
              "            title=\"Suggest charts\"\n",
              "            style=\"display:none;\">\n",
              "\n",
              "<svg xmlns=\"http://www.w3.org/2000/svg\" height=\"24px\"viewBox=\"0 0 24 24\"\n",
              "     width=\"24px\">\n",
              "    <g>\n",
              "        <path d=\"M19 3H5c-1.1 0-2 .9-2 2v14c0 1.1.9 2 2 2h14c1.1 0 2-.9 2-2V5c0-1.1-.9-2-2-2zM9 17H7v-7h2v7zm4 0h-2V7h2v10zm4 0h-2v-4h2v4z\"/>\n",
              "    </g>\n",
              "</svg>\n",
              "  </button>\n",
              "\n",
              "<style>\n",
              "  .colab-df-quickchart {\n",
              "      --bg-color: #E8F0FE;\n",
              "      --fill-color: #1967D2;\n",
              "      --hover-bg-color: #E2EBFA;\n",
              "      --hover-fill-color: #174EA6;\n",
              "      --disabled-fill-color: #AAA;\n",
              "      --disabled-bg-color: #DDD;\n",
              "  }\n",
              "\n",
              "  [theme=dark] .colab-df-quickchart {\n",
              "      --bg-color: #3B4455;\n",
              "      --fill-color: #D2E3FC;\n",
              "      --hover-bg-color: #434B5C;\n",
              "      --hover-fill-color: #FFFFFF;\n",
              "      --disabled-bg-color: #3B4455;\n",
              "      --disabled-fill-color: #666;\n",
              "  }\n",
              "\n",
              "  .colab-df-quickchart {\n",
              "    background-color: var(--bg-color);\n",
              "    border: none;\n",
              "    border-radius: 50%;\n",
              "    cursor: pointer;\n",
              "    display: none;\n",
              "    fill: var(--fill-color);\n",
              "    height: 32px;\n",
              "    padding: 0;\n",
              "    width: 32px;\n",
              "  }\n",
              "\n",
              "  .colab-df-quickchart:hover {\n",
              "    background-color: var(--hover-bg-color);\n",
              "    box-shadow: 0 1px 2px rgba(60, 64, 67, 0.3), 0 1px 3px 1px rgba(60, 64, 67, 0.15);\n",
              "    fill: var(--button-hover-fill-color);\n",
              "  }\n",
              "\n",
              "  .colab-df-quickchart-complete:disabled,\n",
              "  .colab-df-quickchart-complete:disabled:hover {\n",
              "    background-color: var(--disabled-bg-color);\n",
              "    fill: var(--disabled-fill-color);\n",
              "    box-shadow: none;\n",
              "  }\n",
              "\n",
              "  .colab-df-spinner {\n",
              "    border: 2px solid var(--fill-color);\n",
              "    border-color: transparent;\n",
              "    border-bottom-color: var(--fill-color);\n",
              "    animation:\n",
              "      spin 1s steps(1) infinite;\n",
              "  }\n",
              "\n",
              "  @keyframes spin {\n",
              "    0% {\n",
              "      border-color: transparent;\n",
              "      border-bottom-color: var(--fill-color);\n",
              "      border-left-color: var(--fill-color);\n",
              "    }\n",
              "    20% {\n",
              "      border-color: transparent;\n",
              "      border-left-color: var(--fill-color);\n",
              "      border-top-color: var(--fill-color);\n",
              "    }\n",
              "    30% {\n",
              "      border-color: transparent;\n",
              "      border-left-color: var(--fill-color);\n",
              "      border-top-color: var(--fill-color);\n",
              "      border-right-color: var(--fill-color);\n",
              "    }\n",
              "    40% {\n",
              "      border-color: transparent;\n",
              "      border-right-color: var(--fill-color);\n",
              "      border-top-color: var(--fill-color);\n",
              "    }\n",
              "    60% {\n",
              "      border-color: transparent;\n",
              "      border-right-color: var(--fill-color);\n",
              "    }\n",
              "    80% {\n",
              "      border-color: transparent;\n",
              "      border-right-color: var(--fill-color);\n",
              "      border-bottom-color: var(--fill-color);\n",
              "    }\n",
              "    90% {\n",
              "      border-color: transparent;\n",
              "      border-bottom-color: var(--fill-color);\n",
              "    }\n",
              "  }\n",
              "</style>\n",
              "\n",
              "  <script>\n",
              "    async function quickchart(key) {\n",
              "      const quickchartButtonEl =\n",
              "        document.querySelector('#' + key + ' button');\n",
              "      quickchartButtonEl.disabled = true;  // To prevent multiple clicks.\n",
              "      quickchartButtonEl.classList.add('colab-df-spinner');\n",
              "      try {\n",
              "        const charts = await google.colab.kernel.invokeFunction(\n",
              "            'suggestCharts', [key], {});\n",
              "      } catch (error) {\n",
              "        console.error('Error during call to suggestCharts:', error);\n",
              "      }\n",
              "      quickchartButtonEl.classList.remove('colab-df-spinner');\n",
              "      quickchartButtonEl.classList.add('colab-df-quickchart-complete');\n",
              "    }\n",
              "    (() => {\n",
              "      let quickchartButtonEl =\n",
              "        document.querySelector('#df-6f43b82d-8f4b-4750-9bb3-48c61d2d30d4 button');\n",
              "      quickchartButtonEl.style.display =\n",
              "        google.colab.kernel.accessAllowed ? 'block' : 'none';\n",
              "    })();\n",
              "  </script>\n",
              "</div>\n",
              "\n",
              "  <div id=\"id_3d8ee3f0-f8a2-44df-aa5d-810c1b71ecfa\">\n",
              "    <style>\n",
              "      .colab-df-generate {\n",
              "        background-color: #E8F0FE;\n",
              "        border: none;\n",
              "        border-radius: 50%;\n",
              "        cursor: pointer;\n",
              "        display: none;\n",
              "        fill: #1967D2;\n",
              "        height: 32px;\n",
              "        padding: 0 0 0 0;\n",
              "        width: 32px;\n",
              "      }\n",
              "\n",
              "      .colab-df-generate:hover {\n",
              "        background-color: #E2EBFA;\n",
              "        box-shadow: 0px 1px 2px rgba(60, 64, 67, 0.3), 0px 1px 3px 1px rgba(60, 64, 67, 0.15);\n",
              "        fill: #174EA6;\n",
              "      }\n",
              "\n",
              "      [theme=dark] .colab-df-generate {\n",
              "        background-color: #3B4455;\n",
              "        fill: #D2E3FC;\n",
              "      }\n",
              "\n",
              "      [theme=dark] .colab-df-generate:hover {\n",
              "        background-color: #434B5C;\n",
              "        box-shadow: 0px 1px 3px 1px rgba(0, 0, 0, 0.15);\n",
              "        filter: drop-shadow(0px 1px 2px rgba(0, 0, 0, 0.3));\n",
              "        fill: #FFFFFF;\n",
              "      }\n",
              "    </style>\n",
              "    <button class=\"colab-df-generate\" onclick=\"generateWithVariable('freq_saldo')\"\n",
              "            title=\"Generate code using this dataframe.\"\n",
              "            style=\"display:none;\">\n",
              "\n",
              "  <svg xmlns=\"http://www.w3.org/2000/svg\" height=\"24px\"viewBox=\"0 0 24 24\"\n",
              "       width=\"24px\">\n",
              "    <path d=\"M7,19H8.4L18.45,9,17,7.55,7,17.6ZM5,21V16.75L18.45,3.32a2,2,0,0,1,2.83,0l1.4,1.43a1.91,1.91,0,0,1,.58,1.4,1.91,1.91,0,0,1-.58,1.4L9.25,21ZM18.45,9,17,7.55Zm-12,3A5.31,5.31,0,0,0,4.9,8.1,5.31,5.31,0,0,0,1,6.5,5.31,5.31,0,0,0,4.9,4.9,5.31,5.31,0,0,0,6.5,1,5.31,5.31,0,0,0,8.1,4.9,5.31,5.31,0,0,0,12,6.5,5.46,5.46,0,0,0,6.5,12Z\"/>\n",
              "  </svg>\n",
              "    </button>\n",
              "    <script>\n",
              "      (() => {\n",
              "      const buttonEl =\n",
              "        document.querySelector('#id_3d8ee3f0-f8a2-44df-aa5d-810c1b71ecfa button.colab-df-generate');\n",
              "      buttonEl.style.display =\n",
              "        google.colab.kernel.accessAllowed ? 'block' : 'none';\n",
              "\n",
              "      buttonEl.onclick = () => {\n",
              "        google.colab.notebook.generateWithVariable('freq_saldo');\n",
              "      }\n",
              "      })();\n",
              "    </script>\n",
              "  </div>\n",
              "\n",
              "    </div>\n",
              "  </div>\n"
            ],
            "application/vnd.google.colaboratory.intrinsic+json": {
              "type": "dataframe",
              "variable_name": "freq_saldo",
              "summary": "{\n  \"name\": \"freq_saldo\",\n  \"rows\": 4,\n  \"fields\": [\n    {\n      \"column\": \"Saldo_Conta_Corrente\",\n      \"properties\": {\n        \"dtype\": \"string\",\n        \"num_unique_values\": 4,\n        \"samples\": [\n          \"Pouco\",\n          \"Alto\",\n          \"Sem conta\"\n        ],\n        \"semantic_type\": \"\",\n        \"description\": \"\"\n      }\n    },\n    {\n      \"column\": \"Frequ\\u00eancia Absoluta\",\n      \"properties\": {\n        \"dtype\": \"number\",\n        \"std\": 118,\n        \"min\": 108,\n        \"max\": 394,\n        \"num_unique_values\": 4,\n        \"samples\": [\n          274,\n          108,\n          394\n        ],\n        \"semantic_type\": \"\",\n        \"description\": \"\"\n      }\n    },\n    {\n      \"column\": \"Frequ\\u00eancia Relativa (%)\",\n      \"properties\": {\n        \"dtype\": \"number\",\n        \"std\": 11.853550804154283,\n        \"min\": 10.8,\n        \"max\": 39.4,\n        \"num_unique_values\": 4,\n        \"samples\": [\n          27.4,\n          10.8,\n          39.4\n        ],\n        \"semantic_type\": \"\",\n        \"description\": \"\"\n      }\n    },\n    {\n      \"column\": \"Frequ\\u00eancia Relativa Acumulada (%)\",\n      \"properties\": {\n        \"dtype\": \"number\",\n        \"std\": 26.80764816241813,\n        \"min\": 39.4,\n        \"max\": 100.0,\n        \"num_unique_values\": 4,\n        \"samples\": [\n          66.8,\n          100.0,\n          39.4\n        ],\n        \"semantic_type\": \"\",\n        \"description\": \"\"\n      }\n    }\n  ]\n}"
            }
          },
          "metadata": {},
          "execution_count": 133
        }
      ]
    },
    {
      "cell_type": "markdown",
      "source": [
        "Para melhor observação, pode-se observar a distribuição dos clientes da empresa em relação ao saldo da conta corrente no gráfico a seguir (com o auxílio da biblioteca \"matplot\")."
      ],
      "metadata": {
        "id": "pQNqBhxl1diu"
      }
    },
    {
      "cell_type": "code",
      "source": [
        "plot_frequencias(freq_saldo, \"Saldo Conta Corrente\")"
      ],
      "metadata": {
        "colab": {
          "base_uri": "https://localhost:8080/",
          "height": 487
        },
        "id": "EXEt4uCF0uUM",
        "outputId": "ac174c01-e17d-4dba-db65-6500138594ac"
      },
      "execution_count": 134,
      "outputs": [
        {
          "output_type": "display_data",
          "data": {
            "text/plain": [
              "<Figure size 640x480 with 2 Axes>"
            ],
            "image/png": "[encoded data removed]"
          },
          "metadata": {}
        }
      ]
    },
    {
      "cell_type": "markdown",
      "source": [
        "#### **2.2.8. Valor Empréstimo**"
      ],
      "metadata": {
        "id": "X3jS_akB6BlQ"
      }
    },
    {
      "cell_type": "markdown",
      "source": [
        "Na variável relacionada aos valores de empréstimo, observa-se que os montantes concedidos variam entre 250 reais e aproximadamente 18.000 reais. A distribuição apresenta uma forte concentração de aproximadamente 80% dos clientes com valores até 4.250 reais, indicando uma predominância de operações de menor porte. O desvio padrão de 2.822 reais sugere uma variabilidade moderada nos valores concedidos, refletindo diferentes perfis de crédito dentro da base analisada."
      ],
      "metadata": {
        "id": "HltQNzWk6mUJ"
      }
    },
    {
      "cell_type": "code",
      "source": [
        "medidas_variavel(df, \"Valor_Emprestimo\")"
      ],
      "metadata": {
        "colab": {
          "base_uri": "https://localhost:8080/",
          "height": 241
        },
        "id": "UIc8NmkBDa2M",
        "outputId": "23762d9d-a18f-4fc5-c48a-412e17d1c0a0"
      },
      "execution_count": 149,
      "outputs": [
        {
          "output_type": "execute_result",
          "data": {
            "text/plain": [
              "Mínimo             250.00\n",
              "Máximo           18424.00\n",
              "Média             3271.26\n",
              "Mediana           2319.50\n",
              "Desvio Padrão     2822.74\n",
              "Name: Valor_Emprestimo, dtype: float64"
            ],
            "text/html": [
              "<div>\n",
              "<style scoped>\n",
              "    .dataframe tbody tr th:only-of-type {\n",
              "        vertical-align: middle;\n",
              "    }\n",
              "\n",
              "    .dataframe tbody tr th {\n",
              "        vertical-align: top;\n",
              "    }\n",
              "\n",
              "    .dataframe thead th {\n",
              "        text-align: right;\n",
              "    }\n",
              "</style>\n",
              "<table border=\"1\" class=\"dataframe\">\n",
              "  <thead>\n",
              "    <tr style=\"text-align: right;\">\n",
              "      <th></th>\n",
              "      <th>Valor_Emprestimo</th>\n",
              "    </tr>\n",
              "  </thead>\n",
              "  <tbody>\n",
              "    <tr>\n",
              "      <th>Mínimo</th>\n",
              "      <td>250.00</td>\n",
              "    </tr>\n",
              "    <tr>\n",
              "      <th>Máximo</th>\n",
              "      <td>18424.00</td>\n",
              "    </tr>\n",
              "    <tr>\n",
              "      <th>Média</th>\n",
              "      <td>3271.26</td>\n",
              "    </tr>\n",
              "    <tr>\n",
              "      <th>Mediana</th>\n",
              "      <td>2319.50</td>\n",
              "    </tr>\n",
              "    <tr>\n",
              "      <th>Desvio Padrão</th>\n",
              "      <td>2822.74</td>\n",
              "    </tr>\n",
              "  </tbody>\n",
              "</table>\n",
              "</div><br><label><b>dtype:</b> float64</label>"
            ]
          },
          "metadata": {},
          "execution_count": 149
        }
      ]
    },
    {
      "cell_type": "code",
      "source": [
        "grafico_distribuicao(df, \"Valor_Emprestimo\", 1000, 1000)"
      ],
      "metadata": {
        "colab": {
          "base_uri": "https://localhost:8080/",
          "height": 487
        },
        "id": "depVxrCdFpqc",
        "outputId": "e6cccd80-dfc3-4178-81a8-1d6ed434950b"
      },
      "execution_count": 146,
      "outputs": [
        {
          "output_type": "display_data",
          "data": {
            "text/plain": [
              "<Figure size 640x480 with 2 Axes>"
            ],
            "image/png": "[encoded data removed]"
          },
          "metadata": {}
        }
      ]
    },
    {
      "cell_type": "markdown",
      "source": [
        "#### **2.2.9. Duração Empréstimo**"
      ],
      "metadata": {
        "id": "PnG3_TIf7-ee"
      }
    },
    {
      "cell_type": "markdown",
      "source": [
        "Na variável referente à duração dos empréstimos disponibilizados, observa-se que o período mais curto é de 4 meses, enquanto o mais longo chega a 72 meses. A distribuição indica que cerca de 60% dos empréstimos têm duração entre 4 e 18 meses, sugerindo uma tendência a prazos mais curtos. O desvio padrão de aproximadamente 12 meses indica uma variação significativa nas durações dos empréstimos, o que refleti uma diversidade nas necessidades de prazos para quitação das dívidas por parte dos clientes."
      ],
      "metadata": {
        "id": "aWczc4Cn8r7t"
      }
    },
    {
      "cell_type": "code",
      "source": [
        "medidas_variavel(df, \"Duracao_Emprestimo\")"
      ],
      "metadata": {
        "colab": {
          "base_uri": "https://localhost:8080/",
          "height": 241
        },
        "id": "RX52oQDapYlb",
        "outputId": "99f4837b-c583-461f-a32a-7636c8244e61"
      },
      "execution_count": 150,
      "outputs": [
        {
          "output_type": "execute_result",
          "data": {
            "text/plain": [
              "Mínimo            4.00\n",
              "Máximo           72.00\n",
              "Média            20.90\n",
              "Mediana          18.00\n",
              "Desvio Padrão    12.06\n",
              "Name: Duracao_Emprestimo, dtype: float64"
            ],
            "text/html": [
              "<div>\n",
              "<style scoped>\n",
              "    .dataframe tbody tr th:only-of-type {\n",
              "        vertical-align: middle;\n",
              "    }\n",
              "\n",
              "    .dataframe tbody tr th {\n",
              "        vertical-align: top;\n",
              "    }\n",
              "\n",
              "    .dataframe thead th {\n",
              "        text-align: right;\n",
              "    }\n",
              "</style>\n",
              "<table border=\"1\" class=\"dataframe\">\n",
              "  <thead>\n",
              "    <tr style=\"text-align: right;\">\n",
              "      <th></th>\n",
              "      <th>Duracao_Emprestimo</th>\n",
              "    </tr>\n",
              "  </thead>\n",
              "  <tbody>\n",
              "    <tr>\n",
              "      <th>Mínimo</th>\n",
              "      <td>4.00</td>\n",
              "    </tr>\n",
              "    <tr>\n",
              "      <th>Máximo</th>\n",
              "      <td>72.00</td>\n",
              "    </tr>\n",
              "    <tr>\n",
              "      <th>Média</th>\n",
              "      <td>20.90</td>\n",
              "    </tr>\n",
              "    <tr>\n",
              "      <th>Mediana</th>\n",
              "      <td>18.00</td>\n",
              "    </tr>\n",
              "    <tr>\n",
              "      <th>Desvio Padrão</th>\n",
              "      <td>12.06</td>\n",
              "    </tr>\n",
              "  </tbody>\n",
              "</table>\n",
              "</div><br><label><b>dtype:</b> float64</label>"
            ]
          },
          "metadata": {},
          "execution_count": 150
        }
      ]
    },
    {
      "cell_type": "code",
      "source": [
        "grafico_distribuicao(df, \"Duracao_Emprestimo\", 1, 7)"
      ],
      "metadata": {
        "colab": {
          "base_uri": "https://localhost:8080/",
          "height": 487
        },
        "id": "xuIoqHM6ohOp",
        "outputId": "9bf5da6a-2e17-45dd-b435-7d48e762673b"
      },
      "execution_count": 151,
      "outputs": [
        {
          "output_type": "display_data",
          "data": {
            "text/plain": [
              "<Figure size 640x480 with 2 Axes>"
            ],
            "image/png": "[encoded data removed]"
          },
          "metadata": {}
        }
      ]
    },
    {
      "cell_type": "markdown",
      "source": [
        "#### **2.2.10. Idade**"
      ],
      "metadata": {
        "id": "C1AgQHyW9sFX"
      }
    },
    {
      "cell_type": "markdown",
      "source": [
        "Na variável referente à idade dos clientes, observa-se que a idade mínima para a concessão de crédito é de 19 anos, enquanto a máxima é de 75 anos. A distribuição indica que cerca de 60% dos clientes possuem idades entre 19 e 34 anos, evidenciando uma concentração significativa em clientes mais jovens. O desvio padrão de 11 anos sugere uma variação considerável na faixa etária dos clientes, enquanto a mediana de 33 anos reforça que a maioria dos clientes está concentrada em uma faixa etária próxima à média."
      ],
      "metadata": {
        "id": "RMmyZEO0-MUb"
      }
    },
    {
      "cell_type": "code",
      "source": [
        "medidas_variavel(df, \"Idade\")"
      ],
      "metadata": {
        "colab": {
          "base_uri": "https://localhost:8080/",
          "height": 241
        },
        "id": "x1kgiiLaiGw9",
        "outputId": "4f00fa7b-bc4b-4db3-fde6-d77bb0663c44"
      },
      "execution_count": 154,
      "outputs": [
        {
          "output_type": "execute_result",
          "data": {
            "text/plain": [
              "Mínimo           19.00\n",
              "Máximo           75.00\n",
              "Média            35.55\n",
              "Mediana          33.00\n",
              "Desvio Padrão    11.38\n",
              "Name: Idade, dtype: float64"
            ],
            "text/html": [
              "<div>\n",
              "<style scoped>\n",
              "    .dataframe tbody tr th:only-of-type {\n",
              "        vertical-align: middle;\n",
              "    }\n",
              "\n",
              "    .dataframe tbody tr th {\n",
              "        vertical-align: top;\n",
              "    }\n",
              "\n",
              "    .dataframe thead th {\n",
              "        text-align: right;\n",
              "    }\n",
              "</style>\n",
              "<table border=\"1\" class=\"dataframe\">\n",
              "  <thead>\n",
              "    <tr style=\"text-align: right;\">\n",
              "      <th></th>\n",
              "      <th>Idade</th>\n",
              "    </tr>\n",
              "  </thead>\n",
              "  <tbody>\n",
              "    <tr>\n",
              "      <th>Mínimo</th>\n",
              "      <td>19.00</td>\n",
              "    </tr>\n",
              "    <tr>\n",
              "      <th>Máximo</th>\n",
              "      <td>75.00</td>\n",
              "    </tr>\n",
              "    <tr>\n",
              "      <th>Média</th>\n",
              "      <td>35.55</td>\n",
              "    </tr>\n",
              "    <tr>\n",
              "      <th>Mediana</th>\n",
              "      <td>33.00</td>\n",
              "    </tr>\n",
              "    <tr>\n",
              "      <th>Desvio Padrão</th>\n",
              "      <td>11.38</td>\n",
              "    </tr>\n",
              "  </tbody>\n",
              "</table>\n",
              "</div><br><label><b>dtype:</b> float64</label>"
            ]
          },
          "metadata": {},
          "execution_count": 154
        }
      ]
    },
    {
      "cell_type": "code",
      "source": [
        "grafico_distribuicao(df, \"Idade\", 5, 5)"
      ],
      "metadata": {
        "colab": {
          "base_uri": "https://localhost:8080/",
          "height": 487
        },
        "id": "yOr9iR9cgY2q",
        "outputId": "c51de5d9-1367-4f4b-b7ad-98155312821e"
      },
      "execution_count": 155,
      "outputs": [
        {
          "output_type": "display_data",
          "data": {
            "text/plain": [
              "<Figure size 640x480 with 2 Axes>"
            ],
            "image/png": "[encoded data removed]"
          },
          "metadata": {}
        }
      ]
    },
    {
      "cell_type": "markdown",
      "source": [
        "### **2.3. Resultados**"
      ],
      "metadata": {
        "id": "1VodciZICxZ9"
      }
    },
    {
      "cell_type": "markdown",
      "source": [
        "#### **2.3.1. Correlação entre as variáveis**"
      ],
      "metadata": {
        "id": "1vfJ3m2JGACX"
      }
    },
    {
      "cell_type": "markdown",
      "source": [
        "Com o intuito de observar a correlação entre as variáveis presentes na base de dados disponibilizada, foi desenvolvida uma função que calcula o nível de correlação entre as variáveis e identifica as variáveis qualitativas e quantitativas. Para realizar essa análise, foram utilizados três métodos distintos, cada um apropriado para o tipo de variável analisada:\n",
        "\n",
        "1.   **Correlação de Pearson:** Utilizada para avaliar a correlação entre variáveis quantitativas. Esse método mede a relação linear entre duas variáveis, fornecendo um coeficiente que varia entre -1 (correlação negativa perfeita) e +1 (correlação positiva perfeita).\n",
        "2.   **Cramer’s V:** Empregado para variáveis qualitativas. O índice de Cramer’s V é uma medida da associação entre duas variáveis categóricas, com valores que variam entre 0 e 1.\n",
        "3. **ANOVA (Análise de Variância):** Utilizada para comparar uma variável qualitativa com uma variável quantitativa, verificando se existe diferença significativa nas médias das diferentes categorias da variável qualitativa.\n",
        "Esses três métodos são responsáveis por proporcionar uma análise abrangente, permitindo identificar relações entre as variáveis, sejam elas quantitativas ou qualitativas, e entender melhor os fatores que influenciam os comportamentos dos clientes da fintech.\n",
        "\n"
      ],
      "metadata": {
        "id": "1vqTtSQPGETi"
      }
    },
    {
      "cell_type": "code",
      "source": [
        "def heatmap_correlacao_mista(df, variaveis_quantitativas, variaveis_qualitativas):\n",
        "    \"\"\"\n",
        "    Gera um heatmap de correlações entre variáveis qualitativas e quantitativas.\n",
        "\n",
        "    Parâmetros:\n",
        "    ----------\n",
        "    df : pandas.DataFrame\n",
        "        DataFrame contendo os dados\n",
        "    variaveis_quantitativas : list\n",
        "        Lista de nomes de colunas numéricas\n",
        "    variaveis_qualitativas : list\n",
        "        Lista de nomes de colunas categóricas\n",
        "\n",
        "    Retorna:\n",
        "    -------\n",
        "    matplotlib.figure.Figure\n",
        "        Objeto da figura contendo o heatmap\n",
        "    \"\"\"\n",
        "\n",
        "    todas_variaveis = variaveis_quantitativas + variaveis_qualitativas\n",
        "    corr_matrix = pd.DataFrame(index=todas_variaveis, columns=todas_variaveis)\n",
        "\n",
        "    def cramers_v(x, y):\n",
        "        matriz_confusao = pd.crosstab(x, y)\n",
        "        chi2 = stats.chi2_contingency(matriz_confusao)[0]\n",
        "        n = matriz_confusao.sum().sum()\n",
        "        phi2 = chi2/n\n",
        "        r,k = matriz_confusao.shape\n",
        "        return np.sqrt(phi2 / min(k-1, r-1))\n",
        "\n",
        "    for col1 in todas_variaveis:\n",
        "        for col2 in todas_variaveis:\n",
        "            if col1 == col2:\n",
        "                corr_matrix.loc[col1, col2] = 1.0\n",
        "            elif col1 in variaveis_quantitativas and col2 in variaveis_quantitativas:\n",
        "                corr = df[[col1, col2]].corr().iloc[0,1]\n",
        "            elif col1 in variaveis_qualitativas and col2 in variaveis_qualitativas:\n",
        "                corr = cramers_v(df[col1], df[col2])\n",
        "            else:\n",
        "                qual, quant = (col1, col2) if col1 in variaveis_qualitativas else (col2, col1)\n",
        "                agrupar = df.groupby(qual)[quant].apply(list)\n",
        "                f_val = stats.f_oneway(*agrupar)[0]\n",
        "                n = len(df)\n",
        "                eta_sq = f_val / (f_val + (n - len(agrupar)))\n",
        "                corr = eta_sq\n",
        "\n",
        "            corr_matrix.loc[col1, col2] = corr\n",
        "            corr_matrix.loc[col2, col1] = corr\n",
        "\n",
        "    corr_matrix = corr_matrix.astype(float)\n",
        "\n",
        "    fig, ax = plt.subplots()\n",
        "    sns.heatmap(corr_matrix,\n",
        "                annot=True,\n",
        "                fmt=\".2f\",\n",
        "                cmap='coolwarm',\n",
        "                center=0,\n",
        "                vmin=-1,\n",
        "                vmax=1,\n",
        "                ax=ax)\n",
        "\n",
        "    ax.set_title('Heatmap de Correlações Mistas')\n",
        "    plt.tight_layout()\n",
        "    return fig"
      ],
      "metadata": {
        "id": "pME-WMwoEMnl"
      },
      "execution_count": 173,
      "outputs": []
    },
    {
      "cell_type": "markdown",
      "source": [
        "Para facilitar a interpretação visual das relações entre as variáveis presentes na base de dados, foi realizada a chamada da função correlacao_mista. A matriz resultante foi exibida de forma visual, permitindo uma análise mais intuitiva sobre o grau de associação entre as variáveis. A utilização de cores e intensidades distintas auxilia na identificação da força e da direção das correlações, tornando mais fácil reconhecer padrões e variáveis com possível impacto na inadimplência.\n",
        "\n",
        "Observa-se que, de forma geral, as variáveis apresentam baixa correlação entre si. No entanto, destaca-se a relação entre as variáveis valor_emprestimo e duracao_emprestimo, que possuem um coeficiente de correlação de 0,62, indicando uma associação moderada positiva entre elas."
      ],
      "metadata": {
        "id": "3zF_cKmZIdO_"
      }
    },
    {
      "cell_type": "code",
      "source": [
        "variaveis_qualitativas = [\"Escolaridade\", \"Sexo\", \"Tipo_Moradia\", \"Saldo_Investimento\", \"Saldo_Conta_Corrente\"]\n",
        "variaveis_quantitativas = [\"Idade\", \"Valor_Emprestimo\", \"Duracao_Emprestimo\"]\n",
        "matriz = correlacao_mista(df, variaveis_quantitativas, variaveis_qualitativas)\n",
        "plt.show()"
      ],
      "metadata": {
        "colab": {
          "base_uri": "https://localhost:8080/",
          "height": 992
        },
        "id": "moJx7u_PEZEX",
        "outputId": "b24bb904-42f3-4696-adc9-1e3d48bf8e52"
      },
      "execution_count": 172,
      "outputs": [
        {
          "output_type": "display_data",
          "data": {
            "text/plain": [
              "<Figure size 1200x1000 with 2 Axes>"
            ],
            "image/png": "[encoded data removed]"
          },
          "metadata": {}
        }
      ]
    },
    {
      "cell_type": "markdown",
      "source": [
        "#### **2.3.2. Relação Variáveis e Inadimplência dos Clientes**"
      ],
      "metadata": {
        "id": "zhjirRVgJabd"
      }
    },
    {
      "cell_type": "markdown",
      "source": [
        "Com o objetivo de identificar a força das variáveis em relação à inadimplência dos clientes, foi utilizado o método Information Value (IV). Essa técnica permite quantificar o poder preditivo de cada variável na distinção entre clientes adimplentes e inadimplentes, possibilitando a identificação daquelas que devem ser analisadas com maior cautela no processo de concessão de crédito. Além disso, os resultados obtidos por meio do IV serão utilizados como base para o desenvolvimento do modelo de machine learning, servindo como técnica preditiva da inadimplência e contribuindo para a melhoria da assertividade na tomada de decisão.\n",
        "\n",
        "Para o cálculo do IV, foram desenvolvidas duas funções personalizadas, uma para variáveis qualitativas e outra para variáveis quantitativas. O objetivo dessas funções é evitar repetições e tornar o projeto mais fluído na chamada de cada variável. Isso contribui para uma análise automatizada e padronizada ao longo do pipeline de modelagem, facilitando o cálculo do IV de maneira eficiente para diferentes tipos de dados."
      ],
      "metadata": {
        "id": "tdr7PscYJtJ8"
      }
    },
    {
      "cell_type": "code",
      "source": [
        "lista_iv = []"
      ],
      "metadata": {
        "id": "SLYUdnX0SlIy"
      },
      "execution_count": 207,
      "outputs": []
    },
    {
      "cell_type": "code",
      "source": [
        "def information_value_quant(df, chave_dicionario, chave_bin, soma_max=0, faixa_valor=0):\n",
        "    \"\"\"\n",
        "    Calcula o Information Value (IV) para variáveis quantitativas usando lista_iv global.\n",
        "\n",
        "    Parâmetros:\n",
        "    ----------\n",
        "    df : pandas.DataFrame\n",
        "        DataFrame contendo os dados\n",
        "    chave_dicionario : str\n",
        "        Nome da coluna quantitativa a ser analisada\n",
        "    chave_bin : str\n",
        "        Nome da coluna binária (0/1) de referência\n",
        "    soma_max : int, optional\n",
        "        Valor adicional para o limite superior dos bins (padrão=0)\n",
        "    faixa_valor : int, optional\n",
        "        Tamanho dos intervalos para discretização (padrão=0)\n",
        "\n",
        "    Retorna:\n",
        "    -------\n",
        "    tuple\n",
        "        (tabela_formatada, iv_total_str)\n",
        "        - tabela_formatada: DataFrame estilizado com as estatísticas\n",
        "        - iv_total_str: IV total formatado como string\n",
        "    \"\"\"\n",
        "    global lista_iv\n",
        "\n",
        "    df2 = df.copy()\n",
        "    bins = range(df[chave_dicionario].min() - 1, df[chave_dicionario].max() + soma_max, faixa_valor)\n",
        "    df2[chave_dicionario] = pd.cut(df[chave_dicionario], bins=bins)\n",
        "\n",
        "    tabela_iv = pd.crosstab(df2[chave_dicionario], df2[chave_bin], normalize=\"columns\")\n",
        "\n",
        "    tabela_iv['IV'] = 0.0\n",
        "    mask = (tabela_iv[1] > 0) & (tabela_iv[0] > 0)\n",
        "    tabela_iv.loc[mask, 'IV'] = ((tabela_iv.loc[mask, 1] - tabela_iv.loc[mask, 0]) *\n",
        "                                np.log(tabela_iv.loc[mask, 1] / tabela_iv.loc[mask, 0])).round(4)\n",
        "\n",
        "    tabela_iv['IV'] = tabela_iv['IV'].replace([np.inf, -np.inf], 0)\n",
        "    iv_total = tabela_iv['IV'].sum().round(4)\n",
        "    lista_iv.append({\"Variável\": chave_dicionario, \"IV\": iv_total})\n",
        "\n",
        "    tabela_formatada = tabela_iv.style.format({\n",
        "        0: '{:.1%}',\n",
        "        1: '{:.1%}',\n",
        "        'IV': '{:.4f}'\n",
        "    })\n",
        "\n",
        "    return tabela_formatada, f'{iv_total:.4f}'"
      ],
      "metadata": {
        "id": "H6_xNG_uIi6R"
      },
      "execution_count": 208,
      "outputs": []
    },
    {
      "cell_type": "code",
      "source": [
        "def information_value_quali(df, chave_dicionario, chave_bin):\n",
        "    \"\"\"\n",
        "    Calcula o Information Value (IV) para variáveis qualitativas usando lista_iv global.\n",
        "\n",
        "    Parâmetros:\n",
        "    ----------\n",
        "    df : pandas.DataFrame\n",
        "        DataFrame contendo os dados\n",
        "    chave_dicionario : str\n",
        "        Nome da coluna qualitativa a ser analisada\n",
        "    chave_bin : str\n",
        "        Nome da coluna binária (0/1) de referência\n",
        "\n",
        "    Retorna:\n",
        "    -------\n",
        "    tuple\n",
        "        (tabela_formatada, iv_total_str)\n",
        "        - tabela_formatada: DataFrame estilizado com as estatísticas\n",
        "        - iv_total_str: IV total formatado como string\n",
        "    \"\"\"\n",
        "    global lista_iv\n",
        "\n",
        "    tabela_iv = pd.crosstab(df[chave_dicionario], df[chave_bin], normalize=\"columns\")\n",
        "\n",
        "    tabela_iv['IV'] = 0.0\n",
        "    mask = (tabela_iv[1] > 0) & (tabela_iv[0] > 0)\n",
        "    tabela_iv.loc[mask, 'IV'] = ((tabela_iv.loc[mask, 1] - tabela_iv.loc[mask, 0]) *\n",
        "                                np.log(tabela_iv.loc[mask, 1] / tabela_iv.loc[mask, 0])).round(4)\n",
        "\n",
        "    tabela_iv['IV'] = tabela_iv['IV'].replace([np.inf, -np.inf], 0)\n",
        "    iv_total = tabela_iv['IV'].sum().round(4)\n",
        "    lista_iv.append({\"Variável\": chave_dicionario, \"IV\": iv_total})\n",
        "\n",
        "    tabela_formatada = tabela_iv.style.format({\n",
        "        0: '{:.1%}',\n",
        "        1: '{:.1%}',\n",
        "        'IV': '{:.4f}'\n",
        "    })\n",
        "\n",
        "    return tabela_formatada, f'{iv_total:.4f}'"
      ],
      "metadata": {
        "id": "9opmnxY6bE8Q"
      },
      "execution_count": 209,
      "outputs": []
    },
    {
      "cell_type": "markdown",
      "source": [
        "##### **2.3.2.1. Idade**"
      ],
      "metadata": {
        "id": "Z-X8Lz81Mm26"
      }
    },
    {
      "cell_type": "markdown",
      "source": [
        "Com um Information Value (IV) de aproximadamente 0,08, a variável idade é classificada como muito fraca segundo a métrica. Isso indica que essa variável possui baixa capacidade discriminatória para distinguir entre clientes inadimplentes e adimplentes, sendo, portanto, pouco relevante."
      ],
      "metadata": {
        "id": "XLVN3CaYNgzl"
      }
    },
    {
      "cell_type": "code",
      "source": [
        "tabela_formatada, iv_total = information_value_quant(df, \"Idade\",\"Inadimplencia\", 5, 5)\n",
        "\n",
        "display(tabela_formatada)\n",
        "print(f\"\\nInformation Value - Total: {iv_total}\")"
      ],
      "metadata": {
        "colab": {
          "base_uri": "https://localhost:8080/",
          "height": 491
        },
        "id": "pB_aIFDfMh_X",
        "outputId": "fe0dfa63-84f4-4fd0-9808-d8c77bf87e8a"
      },
      "execution_count": 210,
      "outputs": [
        {
          "output_type": "display_data",
          "data": {
            "text/plain": [
              "<pandas.io.formats.style.Styler at 0x78840a600c10>"
            ],
            "text/html": [
              "<style type=\"text/css\">\n",
              "</style>\n",
              "<table id=\"T_7049c\" class=\"dataframe\">\n",
              "  <thead>\n",
              "    <tr>\n",
              "      <th class=\"index_name level0\" >Inadimplencia</th>\n",
              "      <th id=\"T_7049c_level0_col0\" class=\"col_heading level0 col0\" >0</th>\n",
              "      <th id=\"T_7049c_level0_col1\" class=\"col_heading level0 col1\" >1</th>\n",
              "      <th id=\"T_7049c_level0_col2\" class=\"col_heading level0 col2\" >IV</th>\n",
              "    </tr>\n",
              "    <tr>\n",
              "      <th class=\"index_name level0\" >Idade</th>\n",
              "      <th class=\"blank col0\" >&nbsp;</th>\n",
              "      <th class=\"blank col1\" >&nbsp;</th>\n",
              "      <th class=\"blank col2\" >&nbsp;</th>\n",
              "    </tr>\n",
              "  </thead>\n",
              "  <tbody>\n",
              "    <tr>\n",
              "      <th id=\"T_7049c_level0_row0\" class=\"row_heading level0 row0\" >(18, 23]</th>\n",
              "      <td id=\"T_7049c_row0_col0\" class=\"data row0 col0\" >9.0%</td>\n",
              "      <td id=\"T_7049c_row0_col1\" class=\"data row0 col1\" >14.0%</td>\n",
              "      <td id=\"T_7049c_row0_col2\" class=\"data row0 col2\" >0.0221</td>\n",
              "    </tr>\n",
              "    <tr>\n",
              "      <th id=\"T_7049c_level0_row1\" class=\"row_heading level0 row1\" >(23, 28]</th>\n",
              "      <td id=\"T_7049c_row1_col0\" class=\"data row1 col0\" >21.3%</td>\n",
              "      <td id=\"T_7049c_row1_col1\" class=\"data row1 col1\" >26.7%</td>\n",
              "      <td id=\"T_7049c_row1_col2\" class=\"data row1 col2\" >0.0121</td>\n",
              "    </tr>\n",
              "    <tr>\n",
              "      <th id=\"T_7049c_level0_row2\" class=\"row_heading level0 row2\" >(28, 33]</th>\n",
              "      <td id=\"T_7049c_row2_col0\" class=\"data row2 col0\" >17.6%</td>\n",
              "      <td id=\"T_7049c_row2_col1\" class=\"data row2 col1\" >19.7%</td>\n",
              "      <td id=\"T_7049c_row2_col2\" class=\"data row2 col2\" >0.0024</td>\n",
              "    </tr>\n",
              "    <tr>\n",
              "      <th id=\"T_7049c_level0_row3\" class=\"row_heading level0 row3\" >(33, 38]</th>\n",
              "      <td id=\"T_7049c_row3_col0\" class=\"data row3 col0\" >18.4%</td>\n",
              "      <td id=\"T_7049c_row3_col1\" class=\"data row3 col1\" >11.7%</td>\n",
              "      <td id=\"T_7049c_row3_col2\" class=\"data row3 col2\" >0.0309</td>\n",
              "    </tr>\n",
              "    <tr>\n",
              "      <th id=\"T_7049c_level0_row4\" class=\"row_heading level0 row4\" >(38, 43]</th>\n",
              "      <td id=\"T_7049c_row4_col0\" class=\"data row4 col0\" >10.4%</td>\n",
              "      <td id=\"T_7049c_row4_col1\" class=\"data row4 col1\" >9.7%</td>\n",
              "      <td id=\"T_7049c_row4_col2\" class=\"data row4 col2\" >0.0006</td>\n",
              "    </tr>\n",
              "    <tr>\n",
              "      <th id=\"T_7049c_level0_row5\" class=\"row_heading level0 row5\" >(43, 48]</th>\n",
              "      <td id=\"T_7049c_row5_col0\" class=\"data row5 col0\" >8.4%</td>\n",
              "      <td id=\"T_7049c_row5_col1\" class=\"data row5 col1\" >6.7%</td>\n",
              "      <td id=\"T_7049c_row5_col2\" class=\"data row5 col2\" >0.0041</td>\n",
              "    </tr>\n",
              "    <tr>\n",
              "      <th id=\"T_7049c_level0_row6\" class=\"row_heading level0 row6\" >(48, 53]</th>\n",
              "      <td id=\"T_7049c_row6_col0\" class=\"data row6 col0\" >5.6%</td>\n",
              "      <td id=\"T_7049c_row6_col1\" class=\"data row6 col1\" >3.7%</td>\n",
              "      <td id=\"T_7049c_row6_col2\" class=\"data row6 col2\" >0.0080</td>\n",
              "    </tr>\n",
              "    <tr>\n",
              "      <th id=\"T_7049c_level0_row7\" class=\"row_heading level0 row7\" >(53, 58]</th>\n",
              "      <td id=\"T_7049c_row7_col0\" class=\"data row7 col0\" >3.6%</td>\n",
              "      <td id=\"T_7049c_row7_col1\" class=\"data row7 col1\" >3.3%</td>\n",
              "      <td id=\"T_7049c_row7_col2\" class=\"data row7 col2\" >0.0002</td>\n",
              "    </tr>\n",
              "    <tr>\n",
              "      <th id=\"T_7049c_level0_row8\" class=\"row_heading level0 row8\" >(58, 63]</th>\n",
              "      <td id=\"T_7049c_row8_col0\" class=\"data row8 col0\" >2.6%</td>\n",
              "      <td id=\"T_7049c_row8_col1\" class=\"data row8 col1\" >2.7%</td>\n",
              "      <td id=\"T_7049c_row8_col2\" class=\"data row8 col2\" >0.0000</td>\n",
              "    </tr>\n",
              "    <tr>\n",
              "      <th id=\"T_7049c_level0_row9\" class=\"row_heading level0 row9\" >(63, 68]</th>\n",
              "      <td id=\"T_7049c_row9_col0\" class=\"data row9 col0\" >2.3%</td>\n",
              "      <td id=\"T_7049c_row9_col1\" class=\"data row9 col1\" >1.7%</td>\n",
              "      <td id=\"T_7049c_row9_col2\" class=\"data row9 col2\" >0.0020</td>\n",
              "    </tr>\n",
              "    <tr>\n",
              "      <th id=\"T_7049c_level0_row10\" class=\"row_heading level0 row10\" >(68, 73]</th>\n",
              "      <td id=\"T_7049c_row10_col0\" class=\"data row10 col0\" >0.1%</td>\n",
              "      <td id=\"T_7049c_row10_col1\" class=\"data row10 col1\" >0.0%</td>\n",
              "      <td id=\"T_7049c_row10_col2\" class=\"data row10 col2\" >0.0000</td>\n",
              "    </tr>\n",
              "    <tr>\n",
              "      <th id=\"T_7049c_level0_row11\" class=\"row_heading level0 row11\" >(73, 78]</th>\n",
              "      <td id=\"T_7049c_row11_col0\" class=\"data row11 col0\" >0.7%</td>\n",
              "      <td id=\"T_7049c_row11_col1\" class=\"data row11 col1\" >0.3%</td>\n",
              "      <td id=\"T_7049c_row11_col2\" class=\"data row11 col2\" >0.0029</td>\n",
              "    </tr>\n",
              "  </tbody>\n",
              "</table>\n"
            ]
          },
          "metadata": {}
        },
        {
          "output_type": "stream",
          "name": "stdout",
          "text": [
            "\n",
            "Information Value - Total: 0.0853\n"
          ]
        }
      ]
    },
    {
      "cell_type": "markdown",
      "source": [
        "##### **2.3.2.2. Duração Empréstimo**"
      ],
      "metadata": {
        "id": "4-cVUa8vN7rx"
      }
    },
    {
      "cell_type": "markdown",
      "source": [
        "Com um Information Value (IV) de aproximadamente 0,24, a variável duração do empréstimo é classificada como moderada, segundo a métrica. Isso indica que essa variável possui capacidade média para distinguir entre clientes inadimplentes e adimplentes, sendo, portanto, relevante na construção de modelos preditivos de inadimplência."
      ],
      "metadata": {
        "id": "fgn0ydg3OGOB"
      }
    },
    {
      "cell_type": "code",
      "source": [
        "tabela_formatada, iv_total = information_value_quant(df, \"Duracao_Emprestimo\", \"Inadimplencia\", 10, 7)\n",
        "\n",
        "display(tabela_formatada)\n",
        "print(f\"\\nInformation Value - Total: {iv_total}\")"
      ],
      "metadata": {
        "colab": {
          "base_uri": "https://localhost:8080/",
          "height": 429
        },
        "id": "g-2a4uM-MqxL",
        "outputId": "fea026dd-f0c6-407b-9503-ff591b948332"
      },
      "execution_count": 212,
      "outputs": [
        {
          "output_type": "display_data",
          "data": {
            "text/plain": [
              "<pandas.io.formats.style.Styler at 0x78840a373790>"
            ],
            "text/html": [
              "<style type=\"text/css\">\n",
              "</style>\n",
              "<table id=\"T_97ac9\" class=\"dataframe\">\n",
              "  <thead>\n",
              "    <tr>\n",
              "      <th class=\"index_name level0\" >Inadimplencia</th>\n",
              "      <th id=\"T_97ac9_level0_col0\" class=\"col_heading level0 col0\" >0</th>\n",
              "      <th id=\"T_97ac9_level0_col1\" class=\"col_heading level0 col1\" >1</th>\n",
              "      <th id=\"T_97ac9_level0_col2\" class=\"col_heading level0 col2\" >IV</th>\n",
              "    </tr>\n",
              "    <tr>\n",
              "      <th class=\"index_name level0\" >Duracao_Emprestimo</th>\n",
              "      <th class=\"blank col0\" >&nbsp;</th>\n",
              "      <th class=\"blank col1\" >&nbsp;</th>\n",
              "      <th class=\"blank col2\" >&nbsp;</th>\n",
              "    </tr>\n",
              "  </thead>\n",
              "  <tbody>\n",
              "    <tr>\n",
              "      <th id=\"T_97ac9_level0_row0\" class=\"row_heading level0 row0\" >(3, 10]</th>\n",
              "      <td id=\"T_97ac9_row0_col0\" class=\"data row0 col0\" >20.6%</td>\n",
              "      <td id=\"T_97ac9_row0_col1\" class=\"data row0 col1\" >9.0%</td>\n",
              "      <td id=\"T_97ac9_row0_col2\" class=\"data row0 col2\" >0.0957</td>\n",
              "    </tr>\n",
              "    <tr>\n",
              "      <th id=\"T_97ac9_level0_row1\" class=\"row_heading level0 row1\" >(10, 17]</th>\n",
              "      <td id=\"T_97ac9_row1_col0\" class=\"data row1 col0\" >28.4%</td>\n",
              "      <td id=\"T_97ac9_row1_col1\" class=\"data row1 col1\" >21.0%</td>\n",
              "      <td id=\"T_97ac9_row1_col2\" class=\"data row1 col2\" >0.0225</td>\n",
              "    </tr>\n",
              "    <tr>\n",
              "      <th id=\"T_97ac9_level0_row2\" class=\"row_heading level0 row2\" >(17, 24]</th>\n",
              "      <td id=\"T_97ac9_row2_col0\" class=\"data row2 col0\" >32.7%</td>\n",
              "      <td id=\"T_97ac9_row2_col1\" class=\"data row2 col1\" >36.0%</td>\n",
              "      <td id=\"T_97ac9_row2_col2\" class=\"data row2 col2\" >0.0031</td>\n",
              "    </tr>\n",
              "    <tr>\n",
              "      <th id=\"T_97ac9_level0_row3\" class=\"row_heading level0 row3\" >(24, 31]</th>\n",
              "      <td id=\"T_97ac9_row3_col0\" class=\"data row3 col0\" >5.4%</td>\n",
              "      <td id=\"T_97ac9_row3_col1\" class=\"data row3 col1\" >6.3%</td>\n",
              "      <td id=\"T_97ac9_row3_col2\" class=\"data row3 col2\" >0.0014</td>\n",
              "    </tr>\n",
              "    <tr>\n",
              "      <th id=\"T_97ac9_level0_row4\" class=\"row_heading level0 row4\" >(31, 38]</th>\n",
              "      <td id=\"T_97ac9_row4_col0\" class=\"data row4 col0\" >6.9%</td>\n",
              "      <td id=\"T_97ac9_row4_col1\" class=\"data row4 col1\" >12.7%</td>\n",
              "      <td id=\"T_97ac9_row4_col2\" class=\"data row4 col2\" >0.0357</td>\n",
              "    </tr>\n",
              "    <tr>\n",
              "      <th id=\"T_97ac9_level0_row5\" class=\"row_heading level0 row5\" >(38, 45]</th>\n",
              "      <td id=\"T_97ac9_row5_col0\" class=\"data row5 col0\" >1.9%</td>\n",
              "      <td id=\"T_97ac9_row5_col1\" class=\"data row5 col1\" >3.0%</td>\n",
              "      <td id=\"T_97ac9_row5_col2\" class=\"data row5 col2\" >0.0055</td>\n",
              "    </tr>\n",
              "    <tr>\n",
              "      <th id=\"T_97ac9_level0_row6\" class=\"row_heading level0 row6\" >(45, 52]</th>\n",
              "      <td id=\"T_97ac9_row6_col0\" class=\"data row6 col0\" >3.0%</td>\n",
              "      <td id=\"T_97ac9_row6_col1\" class=\"data row6 col1\" >9.3%</td>\n",
              "      <td id=\"T_97ac9_row6_col2\" class=\"data row6 col2\" >0.0719</td>\n",
              "    </tr>\n",
              "    <tr>\n",
              "      <th id=\"T_97ac9_level0_row7\" class=\"row_heading level0 row7\" >(52, 59]</th>\n",
              "      <td id=\"T_97ac9_row7_col0\" class=\"data row7 col0\" >0.1%</td>\n",
              "      <td id=\"T_97ac9_row7_col1\" class=\"data row7 col1\" >0.3%</td>\n",
              "      <td id=\"T_97ac9_row7_col2\" class=\"data row7 col2\" >0.0016</td>\n",
              "    </tr>\n",
              "    <tr>\n",
              "      <th id=\"T_97ac9_level0_row8\" class=\"row_heading level0 row8\" >(59, 66]</th>\n",
              "      <td id=\"T_97ac9_row8_col0\" class=\"data row8 col0\" >1.0%</td>\n",
              "      <td id=\"T_97ac9_row8_col1\" class=\"data row8 col1\" >2.0%</td>\n",
              "      <td id=\"T_97ac9_row8_col2\" class=\"data row8 col2\" >0.0069</td>\n",
              "    </tr>\n",
              "    <tr>\n",
              "      <th id=\"T_97ac9_level0_row9\" class=\"row_heading level0 row9\" >(66, 73]</th>\n",
              "      <td id=\"T_97ac9_row9_col0\" class=\"data row9 col0\" >0.0%</td>\n",
              "      <td id=\"T_97ac9_row9_col1\" class=\"data row9 col1\" >0.3%</td>\n",
              "      <td id=\"T_97ac9_row9_col2\" class=\"data row9 col2\" >0.0000</td>\n",
              "    </tr>\n",
              "  </tbody>\n",
              "</table>\n"
            ]
          },
          "metadata": {}
        },
        {
          "output_type": "stream",
          "name": "stdout",
          "text": [
            "\n",
            "Information Value - Total: 0.2443\n"
          ]
        }
      ]
    },
    {
      "cell_type": "markdown",
      "source": [
        "##### **2.3.2.3. Valor Empréstimo**"
      ],
      "metadata": {
        "id": "pBsX6po-OvOG"
      }
    },
    {
      "cell_type": "markdown",
      "source": [
        "Com um Information Value (IV) de aproximadamente 0,14, a variável valor do empréstimo é classificada como moderada, segundo a métrica. Isso indica que essa variável possui capacidade média para distinguir entre clientes inadimplentes e adimplentes, sendo, portanto, relevante na construção de modelos preditivos de inadimplência."
      ],
      "metadata": {
        "id": "5qC6qUI9PIRp"
      }
    },
    {
      "cell_type": "code",
      "source": [
        "tabela_formatada, iv_total = information_value_quant(df, \"Valor_Emprestimo\", \"Inadimplencia\", 1000, 1000)\n",
        "\n",
        "display(tabela_formatada)\n",
        "print(f\"\\nInformation Value - Total: {iv_total}\")"
      ],
      "metadata": {
        "colab": {
          "base_uri": "https://localhost:8080/",
          "height": 648
        },
        "id": "p-TMju1MWYA6",
        "outputId": "a7e70447-70b9-4dc7-c802-d752f94b91b2"
      },
      "execution_count": 213,
      "outputs": [
        {
          "output_type": "display_data",
          "data": {
            "text/plain": [
              "<pandas.io.formats.style.Styler at 0x78840a02dd90>"
            ],
            "text/html": [
              "<style type=\"text/css\">\n",
              "</style>\n",
              "<table id=\"T_e46fd\" class=\"dataframe\">\n",
              "  <thead>\n",
              "    <tr>\n",
              "      <th class=\"index_name level0\" >Inadimplencia</th>\n",
              "      <th id=\"T_e46fd_level0_col0\" class=\"col_heading level0 col0\" >0</th>\n",
              "      <th id=\"T_e46fd_level0_col1\" class=\"col_heading level0 col1\" >1</th>\n",
              "      <th id=\"T_e46fd_level0_col2\" class=\"col_heading level0 col2\" >IV</th>\n",
              "    </tr>\n",
              "    <tr>\n",
              "      <th class=\"index_name level0\" >Valor_Emprestimo</th>\n",
              "      <th class=\"blank col0\" >&nbsp;</th>\n",
              "      <th class=\"blank col1\" >&nbsp;</th>\n",
              "      <th class=\"blank col2\" >&nbsp;</th>\n",
              "    </tr>\n",
              "  </thead>\n",
              "  <tbody>\n",
              "    <tr>\n",
              "      <th id=\"T_e46fd_level0_row0\" class=\"row_heading level0 row0\" >(249, 1249]</th>\n",
              "      <td id=\"T_e46fd_row0_col0\" class=\"data row0 col0\" >19.0%</td>\n",
              "      <td id=\"T_e46fd_row0_col1\" class=\"data row0 col1\" >20.3%</td>\n",
              "      <td id=\"T_e46fd_row0_col2\" class=\"data row0 col2\" >0.0009</td>\n",
              "    </tr>\n",
              "    <tr>\n",
              "      <th id=\"T_e46fd_level0_row1\" class=\"row_heading level0 row1\" >(1249, 2249]</th>\n",
              "      <td id=\"T_e46fd_row1_col0\" class=\"data row1 col0\" >31.3%</td>\n",
              "      <td id=\"T_e46fd_row1_col1\" class=\"data row1 col1\" >24.3%</td>\n",
              "      <td id=\"T_e46fd_row1_col2\" class=\"data row1 col2\" >0.0175</td>\n",
              "    </tr>\n",
              "    <tr>\n",
              "      <th id=\"T_e46fd_level0_row2\" class=\"row_heading level0 row2\" >(2249, 3249]</th>\n",
              "      <td id=\"T_e46fd_row2_col0\" class=\"data row2 col0\" >18.6%</td>\n",
              "      <td id=\"T_e46fd_row2_col1\" class=\"data row2 col1\" >14.0%</td>\n",
              "      <td id=\"T_e46fd_row2_col2\" class=\"data row2 col2\" >0.0129</td>\n",
              "    </tr>\n",
              "    <tr>\n",
              "      <th id=\"T_e46fd_level0_row3\" class=\"row_heading level0 row3\" >(3249, 4249]</th>\n",
              "      <td id=\"T_e46fd_row3_col0\" class=\"data row3 col0\" >12.0%</td>\n",
              "      <td id=\"T_e46fd_row3_col1\" class=\"data row3 col1\" >9.3%</td>\n",
              "      <td id=\"T_e46fd_row3_col2\" class=\"data row3 col2\" >0.0067</td>\n",
              "    </tr>\n",
              "    <tr>\n",
              "      <th id=\"T_e46fd_level0_row4\" class=\"row_heading level0 row4\" >(4249, 5249]</th>\n",
              "      <td id=\"T_e46fd_row4_col0\" class=\"data row4 col0\" >4.6%</td>\n",
              "      <td id=\"T_e46fd_row4_col1\" class=\"data row4 col1\" >7.7%</td>\n",
              "      <td id=\"T_e46fd_row4_col2\" class=\"data row4 col2\" >0.0160</td>\n",
              "    </tr>\n",
              "    <tr>\n",
              "      <th id=\"T_e46fd_level0_row5\" class=\"row_heading level0 row5\" >(5249, 6249]</th>\n",
              "      <td id=\"T_e46fd_row5_col0\" class=\"data row5 col0\" >3.9%</td>\n",
              "      <td id=\"T_e46fd_row5_col1\" class=\"data row5 col1\" >3.0%</td>\n",
              "      <td id=\"T_e46fd_row5_col2\" class=\"data row5 col2\" >0.0022</td>\n",
              "    </tr>\n",
              "    <tr>\n",
              "      <th id=\"T_e46fd_level0_row6\" class=\"row_heading level0 row6\" >(6249, 7249]</th>\n",
              "      <td id=\"T_e46fd_row6_col0\" class=\"data row6 col0\" >3.4%</td>\n",
              "      <td id=\"T_e46fd_row6_col1\" class=\"data row6 col1\" >5.7%</td>\n",
              "      <td id=\"T_e46fd_row6_col2\" class=\"data row6 col2\" >0.0112</td>\n",
              "    </tr>\n",
              "    <tr>\n",
              "      <th id=\"T_e46fd_level0_row7\" class=\"row_heading level0 row7\" >(7249, 8249]</th>\n",
              "      <td id=\"T_e46fd_row7_col0\" class=\"data row7 col0\" >3.0%</td>\n",
              "      <td id=\"T_e46fd_row7_col1\" class=\"data row7 col1\" >4.0%</td>\n",
              "      <td id=\"T_e46fd_row7_col2\" class=\"data row7 col2\" >0.0029</td>\n",
              "    </tr>\n",
              "    <tr>\n",
              "      <th id=\"T_e46fd_level0_row8\" class=\"row_heading level0 row8\" >(8249, 9249]</th>\n",
              "      <td id=\"T_e46fd_row8_col0\" class=\"data row8 col0\" >1.3%</td>\n",
              "      <td id=\"T_e46fd_row8_col1\" class=\"data row8 col1\" >2.0%</td>\n",
              "      <td id=\"T_e46fd_row8_col2\" class=\"data row8 col2\" >0.0032</td>\n",
              "    </tr>\n",
              "    <tr>\n",
              "      <th id=\"T_e46fd_level0_row9\" class=\"row_heading level0 row9\" >(9249, 10249]</th>\n",
              "      <td id=\"T_e46fd_row9_col0\" class=\"data row9 col0\" >1.0%</td>\n",
              "      <td id=\"T_e46fd_row9_col1\" class=\"data row9 col1\" >2.0%</td>\n",
              "      <td id=\"T_e46fd_row9_col2\" class=\"data row9 col2\" >0.0069</td>\n",
              "    </tr>\n",
              "    <tr>\n",
              "      <th id=\"T_e46fd_level0_row10\" class=\"row_heading level0 row10\" >(10249, 11249]</th>\n",
              "      <td id=\"T_e46fd_row10_col0\" class=\"data row10 col0\" >0.9%</td>\n",
              "      <td id=\"T_e46fd_row10_col1\" class=\"data row10 col1\" >1.0%</td>\n",
              "      <td id=\"T_e46fd_row10_col2\" class=\"data row10 col2\" >0.0002</td>\n",
              "    </tr>\n",
              "    <tr>\n",
              "      <th id=\"T_e46fd_level0_row11\" class=\"row_heading level0 row11\" >(11249, 12249]</th>\n",
              "      <td id=\"T_e46fd_row11_col0\" class=\"data row11 col0\" >0.4%</td>\n",
              "      <td id=\"T_e46fd_row11_col1\" class=\"data row11 col1\" >2.0%</td>\n",
              "      <td id=\"T_e46fd_row11_col2\" class=\"data row11 col2\" >0.0242</td>\n",
              "    </tr>\n",
              "    <tr>\n",
              "      <th id=\"T_e46fd_level0_row12\" class=\"row_heading level0 row12\" >(12249, 13249]</th>\n",
              "      <td id=\"T_e46fd_row12_col0\" class=\"data row12 col0\" >0.1%</td>\n",
              "      <td id=\"T_e46fd_row12_col1\" class=\"data row12 col1\" >1.7%</td>\n",
              "      <td id=\"T_e46fd_row12_col2\" class=\"data row12 col2\" >0.0374</td>\n",
              "    </tr>\n",
              "    <tr>\n",
              "      <th id=\"T_e46fd_level0_row13\" class=\"row_heading level0 row13\" >(13249, 14249]</th>\n",
              "      <td id=\"T_e46fd_row13_col0\" class=\"data row13 col0\" >0.3%</td>\n",
              "      <td id=\"T_e46fd_row13_col1\" class=\"data row13 col1\" >0.3%</td>\n",
              "      <td id=\"T_e46fd_row13_col2\" class=\"data row13 col2\" >0.0001</td>\n",
              "    </tr>\n",
              "    <tr>\n",
              "      <th id=\"T_e46fd_level0_row14\" class=\"row_heading level0 row14\" >(14249, 15249]</th>\n",
              "      <td id=\"T_e46fd_row14_col0\" class=\"data row14 col0\" >0.0%</td>\n",
              "      <td id=\"T_e46fd_row14_col1\" class=\"data row14 col1\" >1.7%</td>\n",
              "      <td id=\"T_e46fd_row14_col2\" class=\"data row14 col2\" >0.0000</td>\n",
              "    </tr>\n",
              "    <tr>\n",
              "      <th id=\"T_e46fd_level0_row15\" class=\"row_heading level0 row15\" >(15249, 16249]</th>\n",
              "      <td id=\"T_e46fd_row15_col0\" class=\"data row15 col0\" >0.3%</td>\n",
              "      <td id=\"T_e46fd_row15_col1\" class=\"data row15 col1\" >0.7%</td>\n",
              "      <td id=\"T_e46fd_row15_col2\" class=\"data row15 col2\" >0.0032</td>\n",
              "    </tr>\n",
              "    <tr>\n",
              "      <th id=\"T_e46fd_level0_row16\" class=\"row_heading level0 row16\" >(18249, 19249]</th>\n",
              "      <td id=\"T_e46fd_row16_col0\" class=\"data row16 col0\" >0.0%</td>\n",
              "      <td id=\"T_e46fd_row16_col1\" class=\"data row16 col1\" >0.3%</td>\n",
              "      <td id=\"T_e46fd_row16_col2\" class=\"data row16 col2\" >0.0000</td>\n",
              "    </tr>\n",
              "  </tbody>\n",
              "</table>\n"
            ]
          },
          "metadata": {}
        },
        {
          "output_type": "stream",
          "name": "stdout",
          "text": [
            "\n",
            "Information Value - Total: 0.1455\n"
          ]
        }
      ]
    },
    {
      "cell_type": "markdown",
      "source": [
        "##### **2.3.2.4. Escolaridade**"
      ],
      "metadata": {
        "id": "350VkomaQMve"
      }
    },
    {
      "cell_type": "markdown",
      "source": [
        "Com um Information Value (IV) de aproximadamente 0,01, a variável escolaridade é classificada como muito fraca, segundo a métrica. Isso indica que essa variável não possui capacidade de distinguir entre clientes inadimplentes e adimplentes, sendo, portanto, irrelevante na construção de modelos preditivos de inadimplência."
      ],
      "metadata": {
        "id": "CACR-M3rQbOg"
      }
    },
    {
      "cell_type": "code",
      "source": [
        "tabela_formatada, iv_total = information_value_quali(df, \"Escolaridade\", \"Inadimplencia\")\n",
        "\n",
        "display(tabela_formatada)\n",
        "print(f\"\\nInformation Value - Total: {iv_total}\")"
      ],
      "metadata": {
        "colab": {
          "base_uri": "https://localhost:8080/",
          "height": 209
        },
        "id": "Y-IEEbt51ux7",
        "outputId": "0c55bbcf-eb75-4bf4-b3ef-dcfbec06f561"
      },
      "execution_count": 214,
      "outputs": [
        {
          "output_type": "display_data",
          "data": {
            "text/plain": [
              "<pandas.io.formats.style.Styler at 0x788409818ed0>"
            ],
            "text/html": [
              "<style type=\"text/css\">\n",
              "</style>\n",
              "<table id=\"T_ab6c7\" class=\"dataframe\">\n",
              "  <thead>\n",
              "    <tr>\n",
              "      <th class=\"index_name level0\" >Inadimplencia</th>\n",
              "      <th id=\"T_ab6c7_level0_col0\" class=\"col_heading level0 col0\" >0</th>\n",
              "      <th id=\"T_ab6c7_level0_col1\" class=\"col_heading level0 col1\" >1</th>\n",
              "      <th id=\"T_ab6c7_level0_col2\" class=\"col_heading level0 col2\" >IV</th>\n",
              "    </tr>\n",
              "    <tr>\n",
              "      <th class=\"index_name level0\" >Escolaridade</th>\n",
              "      <th class=\"blank col0\" >&nbsp;</th>\n",
              "      <th class=\"blank col1\" >&nbsp;</th>\n",
              "      <th class=\"blank col2\" >&nbsp;</th>\n",
              "    </tr>\n",
              "  </thead>\n",
              "  <tbody>\n",
              "    <tr>\n",
              "      <th id=\"T_ab6c7_level0_row0\" class=\"row_heading level0 row0\" >Ensino Medio</th>\n",
              "      <td id=\"T_ab6c7_row0_col0\" class=\"data row0 col0\" >16.0%</td>\n",
              "      <td id=\"T_ab6c7_row0_col1\" class=\"data row0 col1\" >19.3%</td>\n",
              "      <td id=\"T_ab6c7_row0_col2\" class=\"data row0 col2\" >0.0063</td>\n",
              "    </tr>\n",
              "    <tr>\n",
              "      <th id=\"T_ab6c7_level0_row1\" class=\"row_heading level0 row1\" >Graduacao</th>\n",
              "      <td id=\"T_ab6c7_row1_col0\" class=\"data row1 col0\" >63.4%</td>\n",
              "      <td id=\"T_ab6c7_row1_col1\" class=\"data row1 col1\" >62.0%</td>\n",
              "      <td id=\"T_ab6c7_row1_col2\" class=\"data row1 col2\" >0.0003</td>\n",
              "    </tr>\n",
              "    <tr>\n",
              "      <th id=\"T_ab6c7_level0_row2\" class=\"row_heading level0 row2\" >Pos Graduacao</th>\n",
              "      <td id=\"T_ab6c7_row2_col0\" class=\"data row2 col0\" >20.6%</td>\n",
              "      <td id=\"T_ab6c7_row2_col1\" class=\"data row2 col1\" >18.7%</td>\n",
              "      <td id=\"T_ab6c7_row2_col2\" class=\"data row2 col2\" >0.0019</td>\n",
              "    </tr>\n",
              "  </tbody>\n",
              "</table>\n"
            ]
          },
          "metadata": {}
        },
        {
          "output_type": "stream",
          "name": "stdout",
          "text": [
            "\n",
            "Information Value - Total: 0.0085\n"
          ]
        }
      ]
    },
    {
      "cell_type": "markdown",
      "source": [
        "##### **2.3.2.5. Sexo**"
      ],
      "metadata": {
        "id": "GF3l1ob9Qpyo"
      }
    },
    {
      "cell_type": "markdown",
      "source": [
        "Com um Information Value (IV) de aproximadamente 0,02, a variável sexo é classificada como muito fraca, segundo a métrica. Isso indica que essa variável não possui capacidade de distinguir entre clientes inadimplentes e adimplentes, sendo, portanto, irrelevante na construção de modelos preditivos de inadimplência."
      ],
      "metadata": {
        "id": "ipU2YLX_QwhL"
      }
    },
    {
      "cell_type": "code",
      "source": [
        "tabela_formatada, iv_total = information_value_quali(df, \"Sexo\", \"Inadimplencia\")\n",
        "\n",
        "display(tabela_formatada)\n",
        "print(f\"\\nInformation Value - Total: {iv_total}\")"
      ],
      "metadata": {
        "colab": {
          "base_uri": "https://localhost:8080/",
          "height": 178
        },
        "id": "70aYOoy918Gd",
        "outputId": "3b323e03-3a1f-4e5f-b845-6bd902dbd5ed"
      },
      "execution_count": 215,
      "outputs": [
        {
          "output_type": "display_data",
          "data": {
            "text/plain": [
              "<pandas.io.formats.style.Styler at 0x78840a249b50>"
            ],
            "text/html": [
              "<style type=\"text/css\">\n",
              "</style>\n",
              "<table id=\"T_3e81d\" class=\"dataframe\">\n",
              "  <thead>\n",
              "    <tr>\n",
              "      <th class=\"index_name level0\" >Inadimplencia</th>\n",
              "      <th id=\"T_3e81d_level0_col0\" class=\"col_heading level0 col0\" >0</th>\n",
              "      <th id=\"T_3e81d_level0_col1\" class=\"col_heading level0 col1\" >1</th>\n",
              "      <th id=\"T_3e81d_level0_col2\" class=\"col_heading level0 col2\" >IV</th>\n",
              "    </tr>\n",
              "    <tr>\n",
              "      <th class=\"index_name level0\" >Sexo</th>\n",
              "      <th class=\"blank col0\" >&nbsp;</th>\n",
              "      <th class=\"blank col1\" >&nbsp;</th>\n",
              "      <th class=\"blank col2\" >&nbsp;</th>\n",
              "    </tr>\n",
              "  </thead>\n",
              "  <tbody>\n",
              "    <tr>\n",
              "      <th id=\"T_3e81d_level0_row0\" class=\"row_heading level0 row0\" >H</th>\n",
              "      <td id=\"T_3e81d_row0_col0\" class=\"data row0 col0\" >28.7%</td>\n",
              "      <td id=\"T_3e81d_row0_col1\" class=\"data row0 col1\" >36.3%</td>\n",
              "      <td id=\"T_3e81d_row0_col2\" class=\"data row0 col2\" >0.0179</td>\n",
              "    </tr>\n",
              "    <tr>\n",
              "      <th id=\"T_3e81d_level0_row1\" class=\"row_heading level0 row1\" >M</th>\n",
              "      <td id=\"T_3e81d_row1_col0\" class=\"data row1 col0\" >71.3%</td>\n",
              "      <td id=\"T_3e81d_row1_col1\" class=\"data row1 col1\" >63.7%</td>\n",
              "      <td id=\"T_3e81d_row1_col2\" class=\"data row1 col2\" >0.0086</td>\n",
              "    </tr>\n",
              "  </tbody>\n",
              "</table>\n"
            ]
          },
          "metadata": {}
        },
        {
          "output_type": "stream",
          "name": "stdout",
          "text": [
            "\n",
            "Information Value - Total: 0.0265\n"
          ]
        }
      ]
    },
    {
      "cell_type": "markdown",
      "source": [
        "##### **2.3.2.6. Tipo de Moradia**"
      ],
      "metadata": {
        "id": "Hl4NNU6nQ3kd"
      }
    },
    {
      "cell_type": "markdown",
      "source": [
        "Com um Information Value (IV) de aproximadamente 0,08, a variável tipo de moradia é classificada como fraca, segundo a métrica. Isso indica que essa variável não possui capacidade de distinguir entre clientes inadimplentes e adimplentes, sendo, portanto, irrelevante na construção de modelos preditivos de inadimplência."
      ],
      "metadata": {
        "id": "u-ftBMUdRA8F"
      }
    },
    {
      "cell_type": "code",
      "source": [
        "tabela_formatada, iv_total = information_value_quali(df, \"Tipo_Moradia\", \"Inadimplencia\")\n",
        "\n",
        "display(tabela_formatada)\n",
        "print(f\"\\nInformation Value - Total: {iv_total}\")"
      ],
      "metadata": {
        "colab": {
          "base_uri": "https://localhost:8080/",
          "height": 209
        },
        "id": "dmo0EmpX2Asd",
        "outputId": "749d9e14-df2e-4b75-dc09-6a4c17d33788"
      },
      "execution_count": 216,
      "outputs": [
        {
          "output_type": "display_data",
          "data": {
            "text/plain": [
              "<pandas.io.formats.style.Styler at 0x788409d56590>"
            ],
            "text/html": [
              "<style type=\"text/css\">\n",
              "</style>\n",
              "<table id=\"T_bb212\" class=\"dataframe\">\n",
              "  <thead>\n",
              "    <tr>\n",
              "      <th class=\"index_name level0\" >Inadimplencia</th>\n",
              "      <th id=\"T_bb212_level0_col0\" class=\"col_heading level0 col0\" >0</th>\n",
              "      <th id=\"T_bb212_level0_col1\" class=\"col_heading level0 col1\" >1</th>\n",
              "      <th id=\"T_bb212_level0_col2\" class=\"col_heading level0 col2\" >IV</th>\n",
              "    </tr>\n",
              "    <tr>\n",
              "      <th class=\"index_name level0\" >Tipo_Moradia</th>\n",
              "      <th class=\"blank col0\" >&nbsp;</th>\n",
              "      <th class=\"blank col1\" >&nbsp;</th>\n",
              "      <th class=\"blank col2\" >&nbsp;</th>\n",
              "    </tr>\n",
              "  </thead>\n",
              "  <tbody>\n",
              "    <tr>\n",
              "      <th id=\"T_bb212_level0_row0\" class=\"row_heading level0 row0\" >Alugada</th>\n",
              "      <td id=\"T_bb212_row0_col0\" class=\"data row0 col0\" >15.6%</td>\n",
              "      <td id=\"T_bb212_row0_col1\" class=\"data row0 col1\" >23.3%</td>\n",
              "      <td id=\"T_bb212_row0_col2\" class=\"data row0 col2\" >0.0314</td>\n",
              "    </tr>\n",
              "    <tr>\n",
              "      <th id=\"T_bb212_level0_row1\" class=\"row_heading level0 row1\" >De favor</th>\n",
              "      <td id=\"T_bb212_row1_col0\" class=\"data row1 col0\" >9.1%</td>\n",
              "      <td id=\"T_bb212_row1_col1\" class=\"data row1 col1\" >14.7%</td>\n",
              "      <td id=\"T_bb212_row1_col2\" class=\"data row1 col2\" >0.0261</td>\n",
              "    </tr>\n",
              "    <tr>\n",
              "      <th id=\"T_bb212_level0_row2\" class=\"row_heading level0 row2\" >Propria</th>\n",
              "      <td id=\"T_bb212_row2_col0\" class=\"data row2 col0\" >75.3%</td>\n",
              "      <td id=\"T_bb212_row2_col1\" class=\"data row2 col1\" >62.0%</td>\n",
              "      <td id=\"T_bb212_row2_col2\" class=\"data row2 col2\" >0.0258</td>\n",
              "    </tr>\n",
              "  </tbody>\n",
              "</table>\n"
            ]
          },
          "metadata": {}
        },
        {
          "output_type": "stream",
          "name": "stdout",
          "text": [
            "\n",
            "Information Value - Total: 0.0833\n"
          ]
        }
      ]
    },
    {
      "cell_type": "markdown",
      "source": [
        "##### **2.3.2.7. Saldo de Investimento**"
      ],
      "metadata": {
        "id": "UQ7KYMKqRPJz"
      }
    },
    {
      "cell_type": "markdown",
      "source": [
        "Com um Information Value (IV) de aproximadamente 0,19, a variável saldo de investimento é classificada como moderada, segundo a métrica. Isso indica que essa variável possui capacidade média para distinguir entre clientes inadimplentes e adimplentes, sendo, portanto, relevante na construção de modelos preditivos de inadimplência."
      ],
      "metadata": {
        "id": "p9evu37-Rxpc"
      }
    },
    {
      "cell_type": "code",
      "source": [
        "tabela_formatada, iv_total = information_value_quali(df, \"Saldo_Investimento\", \"Inadimplencia\")\n",
        "\n",
        "display(tabela_formatada)\n",
        "print(f\"\\nInformation Value - Total: {iv_total}\")"
      ],
      "metadata": {
        "colab": {
          "base_uri": "https://localhost:8080/",
          "height": 241
        },
        "id": "lA0UlZD72JCt",
        "outputId": "c0f1884f-0a9a-4ff7-e2a9-67ddef9b7555"
      },
      "execution_count": 217,
      "outputs": [
        {
          "output_type": "display_data",
          "data": {
            "text/plain": [
              "<pandas.io.formats.style.Styler at 0x788409f8b050>"
            ],
            "text/html": [
              "<style type=\"text/css\">\n",
              "</style>\n",
              "<table id=\"T_2c8fb\" class=\"dataframe\">\n",
              "  <thead>\n",
              "    <tr>\n",
              "      <th class=\"index_name level0\" >Inadimplencia</th>\n",
              "      <th id=\"T_2c8fb_level0_col0\" class=\"col_heading level0 col0\" >0</th>\n",
              "      <th id=\"T_2c8fb_level0_col1\" class=\"col_heading level0 col1\" >1</th>\n",
              "      <th id=\"T_2c8fb_level0_col2\" class=\"col_heading level0 col2\" >IV</th>\n",
              "    </tr>\n",
              "    <tr>\n",
              "      <th class=\"index_name level0\" >Saldo_Investimento</th>\n",
              "      <th class=\"blank col0\" >&nbsp;</th>\n",
              "      <th class=\"blank col1\" >&nbsp;</th>\n",
              "      <th class=\"blank col2\" >&nbsp;</th>\n",
              "    </tr>\n",
              "  </thead>\n",
              "  <tbody>\n",
              "    <tr>\n",
              "      <th id=\"T_2c8fb_level0_row0\" class=\"row_heading level0 row0\" >Alto</th>\n",
              "      <td id=\"T_2c8fb_row0_col0\" class=\"data row0 col0\" >13.4%</td>\n",
              "      <td id=\"T_2c8fb_row0_col1\" class=\"data row0 col1\" >5.7%</td>\n",
              "      <td id=\"T_2c8fb_row0_col2\" class=\"data row0 col2\" >0.0670</td>\n",
              "    </tr>\n",
              "    <tr>\n",
              "      <th id=\"T_2c8fb_level0_row1\" class=\"row_heading level0 row1\" >Moderado</th>\n",
              "      <td id=\"T_2c8fb_row1_col0\" class=\"data row1 col0\" >9.9%</td>\n",
              "      <td id=\"T_2c8fb_row1_col1\" class=\"data row1 col1\" >11.3%</td>\n",
              "      <td id=\"T_2c8fb_row1_col2\" class=\"data row1 col2\" >0.0021</td>\n",
              "    </tr>\n",
              "    <tr>\n",
              "      <th id=\"T_2c8fb_level0_row2\" class=\"row_heading level0 row2\" >Pouco</th>\n",
              "      <td id=\"T_2c8fb_row2_col0\" class=\"data row2 col0\" >55.1%</td>\n",
              "      <td id=\"T_2c8fb_row2_col1\" class=\"data row2 col1\" >72.3%</td>\n",
              "      <td id=\"T_2c8fb_row2_col2\" class=\"data row2 col2\" >0.0466</td>\n",
              "    </tr>\n",
              "    <tr>\n",
              "      <th id=\"T_2c8fb_level0_row3\" class=\"row_heading level0 row3\" >Sem investimento</th>\n",
              "      <td id=\"T_2c8fb_row3_col0\" class=\"data row3 col0\" >21.6%</td>\n",
              "      <td id=\"T_2c8fb_row3_col1\" class=\"data row3 col1\" >10.7%</td>\n",
              "      <td id=\"T_2c8fb_row3_col2\" class=\"data row3 col2\" >0.0768</td>\n",
              "    </tr>\n",
              "  </tbody>\n",
              "</table>\n"
            ]
          },
          "metadata": {}
        },
        {
          "output_type": "stream",
          "name": "stdout",
          "text": [
            "\n",
            "Information Value - Total: 0.1925\n"
          ]
        }
      ]
    },
    {
      "cell_type": "markdown",
      "source": [
        "##### **2.3.2.8. Saldo Conta Corrente**"
      ],
      "metadata": {
        "id": "gHlMxawUR8lU"
      }
    },
    {
      "cell_type": "markdown",
      "source": [
        "Com um Information Value (IV) de aproximadamente 0,72, a variável saldo de conta corrente é classificada como muito forte, segundo a métrica. Isso indica que essa variável possui capacidade alta para distinguir entre clientes inadimplentes e adimplentes, sendo, portanto, extremamente relevante na construção de modelos preditivos de inadimplência."
      ],
      "metadata": {
        "id": "sdxFoaavSEkk"
      }
    },
    {
      "cell_type": "code",
      "source": [
        "tabela_formatada, iv_total = information_value_quali(df, \"Saldo_Conta_Corrente\", \"Inadimplencia\")\n",
        "\n",
        "display(tabela_formatada)\n",
        "print(f\"\\nInformation Value - Total: {iv_total}\")"
      ],
      "metadata": {
        "colab": {
          "base_uri": "https://localhost:8080/",
          "height": 241
        },
        "id": "U_1DqUz62PlI",
        "outputId": "9afbf635-e7e4-4e89-f4d0-0f03c0792875"
      },
      "execution_count": 218,
      "outputs": [
        {
          "output_type": "display_data",
          "data": {
            "text/plain": [
              "<pandas.io.formats.style.Styler at 0x78840a3732d0>"
            ],
            "text/html": [
              "<style type=\"text/css\">\n",
              "</style>\n",
              "<table id=\"T_9f73a\" class=\"dataframe\">\n",
              "  <thead>\n",
              "    <tr>\n",
              "      <th class=\"index_name level0\" >Inadimplencia</th>\n",
              "      <th id=\"T_9f73a_level0_col0\" class=\"col_heading level0 col0\" >0</th>\n",
              "      <th id=\"T_9f73a_level0_col1\" class=\"col_heading level0 col1\" >1</th>\n",
              "      <th id=\"T_9f73a_level0_col2\" class=\"col_heading level0 col2\" >IV</th>\n",
              "    </tr>\n",
              "    <tr>\n",
              "      <th class=\"index_name level0\" >Saldo_Conta_Corrente</th>\n",
              "      <th class=\"blank col0\" >&nbsp;</th>\n",
              "      <th class=\"blank col1\" >&nbsp;</th>\n",
              "      <th class=\"blank col2\" >&nbsp;</th>\n",
              "    </tr>\n",
              "  </thead>\n",
              "  <tbody>\n",
              "    <tr>\n",
              "      <th id=\"T_9f73a_level0_row0\" class=\"row_heading level0 row0\" >Alto</th>\n",
              "      <td id=\"T_9f73a_row0_col0\" class=\"data row0 col0\" >12.4%</td>\n",
              "      <td id=\"T_9f73a_row0_col1\" class=\"data row0 col1\" >7.0%</td>\n",
              "      <td id=\"T_9f73a_row0_col2\" class=\"data row0 col2\" >0.0312</td>\n",
              "    </tr>\n",
              "    <tr>\n",
              "      <th id=\"T_9f73a_level0_row1\" class=\"row_heading level0 row1\" >Moderado</th>\n",
              "      <td id=\"T_9f73a_row1_col0\" class=\"data row1 col0\" >18.0%</td>\n",
              "      <td id=\"T_9f73a_row1_col1\" class=\"data row1 col1\" >32.7%</td>\n",
              "      <td id=\"T_9f73a_row1_col2\" class=\"data row1 col2\" >0.0874</td>\n",
              "    </tr>\n",
              "    <tr>\n",
              "      <th id=\"T_9f73a_level0_row2\" class=\"row_heading level0 row2\" >Pouco</th>\n",
              "      <td id=\"T_9f73a_row2_col0\" class=\"data row2 col0\" >19.9%</td>\n",
              "      <td id=\"T_9f73a_row2_col1\" class=\"data row2 col1\" >45.0%</td>\n",
              "      <td id=\"T_9f73a_row2_col2\" class=\"data row2 col2\" >0.2057</td>\n",
              "    </tr>\n",
              "    <tr>\n",
              "      <th id=\"T_9f73a_level0_row3\" class=\"row_heading level0 row3\" >Sem conta</th>\n",
              "      <td id=\"T_9f73a_row3_col0\" class=\"data row3 col0\" >49.7%</td>\n",
              "      <td id=\"T_9f73a_row3_col1\" class=\"data row3 col1\" >15.3%</td>\n",
              "      <td id=\"T_9f73a_row3_col2\" class=\"data row3 col2\" >0.4044</td>\n",
              "    </tr>\n",
              "  </tbody>\n",
              "</table>\n"
            ]
          },
          "metadata": {}
        },
        {
          "output_type": "stream",
          "name": "stdout",
          "text": [
            "\n",
            "Information Value - Total: 0.7287\n"
          ]
        }
      ]
    },
    {
      "cell_type": "markdown",
      "source": [
        "##### **2.3.2.9. Resultado das Relações**"
      ],
      "metadata": {
        "id": "epg5Ual2Ujhc"
      }
    },
    {
      "cell_type": "markdown",
      "source": [
        "Com o cálculo do IV de todas as variáveis, é possível identificar aquelas que serão mais importantes para determinar e desenvolver o modelo preditivo com machine learning. Desta forma, observado o dataframe criado, destacam-se as variáveis: **Saldo_Conta_Corrente, Duracao_Emprestimo, Saldo_Investimento e Valor_Emprestimo**, que apresentam os maiores valores de IV e, portanto, possuem maior poder discriminativo na distinção entre clientes adimplentes e inadimplentes. Essas variáveis serão, portanto, as mais relevantes para a construção do modelo, servindo como base para a previsão da inadimplência."
      ],
      "metadata": {
        "id": "jgDK0VG_VAF9"
      }
    },
    {
      "cell_type": "code",
      "source": [
        "df_iv = pd.DataFrame(lista_iv).sort_values(by=\"IV\", ascending=False)\n",
        "df_iv"
      ],
      "metadata": {
        "colab": {
          "base_uri": "https://localhost:8080/",
          "height": 300
        },
        "id": "H0jreurF2YXw",
        "outputId": "19ec533d-757e-4a6e-9e6f-083d258503b3"
      },
      "execution_count": 219,
      "outputs": [
        {
          "output_type": "execute_result",
          "data": {
            "text/plain": [
              "               Variável      IV\n",
              "7  Saldo_Conta_Corrente  0.7287\n",
              "1    Duracao_Emprestimo  0.2443\n",
              "6    Saldo_Investimento  0.1925\n",
              "2      Valor_Emprestimo  0.1455\n",
              "0                 Idade  0.0853\n",
              "5          Tipo_Moradia  0.0833\n",
              "4                  Sexo  0.0265\n",
              "3          Escolaridade  0.0085"
            ],
            "text/html": [
              "\n",
              "  <div id=\"df-31268f98-8878-480d-912d-1b85bd070aca\" class=\"colab-df-container\">\n",
              "    <div>\n",
              "<style scoped>\n",
              "    .dataframe tbody tr th:only-of-type {\n",
              "        vertical-align: middle;\n",
              "    }\n",
              "\n",
              "    .dataframe tbody tr th {\n",
              "        vertical-align: top;\n",
              "    }\n",
              "\n",
              "    .dataframe thead th {\n",
              "        text-align: right;\n",
              "    }\n",
              "</style>\n",
              "<table border=\"1\" class=\"dataframe\">\n",
              "  <thead>\n",
              "    <tr style=\"text-align: right;\">\n",
              "      <th></th>\n",
              "      <th>Variável</th>\n",
              "      <th>IV</th>\n",
              "    </tr>\n",
              "  </thead>\n",
              "  <tbody>\n",
              "    <tr>\n",
              "      <th>7</th>\n",
              "      <td>Saldo_Conta_Corrente</td>\n",
              "      <td>0.7287</td>\n",
              "    </tr>\n",
              "    <tr>\n",
              "      <th>1</th>\n",
              "      <td>Duracao_Emprestimo</td>\n",
              "      <td>0.2443</td>\n",
              "    </tr>\n",
              "    <tr>\n",
              "      <th>6</th>\n",
              "      <td>Saldo_Investimento</td>\n",
              "      <td>0.1925</td>\n",
              "    </tr>\n",
              "    <tr>\n",
              "      <th>2</th>\n",
              "      <td>Valor_Emprestimo</td>\n",
              "      <td>0.1455</td>\n",
              "    </tr>\n",
              "    <tr>\n",
              "      <th>0</th>\n",
              "      <td>Idade</td>\n",
              "      <td>0.0853</td>\n",
              "    </tr>\n",
              "    <tr>\n",
              "      <th>5</th>\n",
              "      <td>Tipo_Moradia</td>\n",
              "      <td>0.0833</td>\n",
              "    </tr>\n",
              "    <tr>\n",
              "      <th>4</th>\n",
              "      <td>Sexo</td>\n",
              "      <td>0.0265</td>\n",
              "    </tr>\n",
              "    <tr>\n",
              "      <th>3</th>\n",
              "      <td>Escolaridade</td>\n",
              "      <td>0.0085</td>\n",
              "    </tr>\n",
              "  </tbody>\n",
              "</table>\n",
              "</div>\n",
              "    <div class=\"colab-df-buttons\">\n",
              "\n",
              "  <div class=\"colab-df-container\">\n",
              "    <button class=\"colab-df-convert\" onclick=\"convertToInteractive('df-31268f98-8878-480d-912d-1b85bd070aca')\"\n",
              "            title=\"Convert this dataframe to an interactive table.\"\n",
              "            style=\"display:none;\">\n",
              "\n",
              "  <svg xmlns=\"http://www.w3.org/2000/svg\" height=\"24px\" viewBox=\"0 -960 960 960\">\n",
              "    <path d=\"M120-120v-720h720v720H120Zm60-500h600v-160H180v160Zm220 220h160v-160H400v160Zm0 220h160v-160H400v160ZM180-400h160v-160H180v160Zm440 0h160v-160H620v160ZM180-180h160v-160H180v160Zm440 0h160v-160H620v160Z\"/>\n",
              "  </svg>\n",
              "    </button>\n",
              "\n",
              "  <style>\n",
              "    .colab-df-container {\n",
              "      display:flex;\n",
              "      gap: 12px;\n",
              "    }\n",
              "\n",
              "    .colab-df-convert {\n",
              "      background-color: #E8F0FE;\n",
              "      border: none;\n",
              "      border-radius: 50%;\n",
              "      cursor: pointer;\n",
              "      display: none;\n",
              "      fill: #1967D2;\n",
              "      height: 32px;\n",
              "      padding: 0 0 0 0;\n",
              "      width: 32px;\n",
              "    }\n",
              "\n",
              "    .colab-df-convert:hover {\n",
              "      background-color: #E2EBFA;\n",
              "      box-shadow: 0px 1px 2px rgba(60, 64, 67, 0.3), 0px 1px 3px 1px rgba(60, 64, 67, 0.15);\n",
              "      fill: #174EA6;\n",
              "    }\n",
              "\n",
              "    .colab-df-buttons div {\n",
              "      margin-bottom: 4px;\n",
              "    }\n",
              "\n",
              "    [theme=dark] .colab-df-convert {\n",
              "      background-color: #3B4455;\n",
              "      fill: #D2E3FC;\n",
              "    }\n",
              "\n",
              "    [theme=dark] .colab-df-convert:hover {\n",
              "      background-color: #434B5C;\n",
              "      box-shadow: 0px 1px 3px 1px rgba(0, 0, 0, 0.15);\n",
              "      filter: drop-shadow(0px 1px 2px rgba(0, 0, 0, 0.3));\n",
              "      fill: #FFFFFF;\n",
              "    }\n",
              "  </style>\n",
              "\n",
              "    <script>\n",
              "      const buttonEl =\n",
              "        document.querySelector('#df-31268f98-8878-480d-912d-1b85bd070aca button.colab-df-convert');\n",
              "      buttonEl.style.display =\n",
              "        google.colab.kernel.accessAllowed ? 'block' : 'none';\n",
              "\n",
              "      async function convertToInteractive(key) {\n",
              "        const element = document.querySelector('#df-31268f98-8878-480d-912d-1b85bd070aca');\n",
              "        const dataTable =\n",
              "          await google.colab.kernel.invokeFunction('convertToInteractive',\n",
              "                                                    [key], {});\n",
              "        if (!dataTable) return;\n",
              "\n",
              "        const docLinkHtml = 'Like what you see? Visit the ' +\n",
              "          '<a target=\"_blank\" href=https://colab.research.google.com/notebooks/data_table.ipynb>data table notebook</a>'\n",
              "          + ' to learn more about interactive tables.';\n",
              "        element.innerHTML = '';\n",
              "        dataTable['output_type'] = 'display_data';\n",
              "        await google.colab.output.renderOutput(dataTable, element);\n",
              "        const docLink = document.createElement('div');\n",
              "        docLink.innerHTML = docLinkHtml;\n",
              "        element.appendChild(docLink);\n",
              "      }\n",
              "    </script>\n",
              "  </div>\n",
              "\n",
              "\n",
              "<div id=\"df-fba0207e-7550-4b1a-a7ff-eb47e5ede016\">\n",
              "  <button class=\"colab-df-quickchart\" onclick=\"quickchart('df-fba0207e-7550-4b1a-a7ff-eb47e5ede016')\"\n",
              "            title=\"Suggest charts\"\n",
              "            style=\"display:none;\">\n",
              "\n",
              "<svg xmlns=\"http://www.w3.org/2000/svg\" height=\"24px\"viewBox=\"0 0 24 24\"\n",
              "     width=\"24px\">\n",
              "    <g>\n",
              "        <path d=\"M19 3H5c-1.1 0-2 .9-2 2v14c0 1.1.9 2 2 2h14c1.1 0 2-.9 2-2V5c0-1.1-.9-2-2-2zM9 17H7v-7h2v7zm4 0h-2V7h2v10zm4 0h-2v-4h2v4z\"/>\n",
              "    </g>\n",
              "</svg>\n",
              "  </button>\n",
              "\n",
              "<style>\n",
              "  .colab-df-quickchart {\n",
              "      --bg-color: #E8F0FE;\n",
              "      --fill-color: #1967D2;\n",
              "      --hover-bg-color: #E2EBFA;\n",
              "      --hover-fill-color: #174EA6;\n",
              "      --disabled-fill-color: #AAA;\n",
              "      --disabled-bg-color: #DDD;\n",
              "  }\n",
              "\n",
              "  [theme=dark] .colab-df-quickchart {\n",
              "      --bg-color: #3B4455;\n",
              "      --fill-color: #D2E3FC;\n",
              "      --hover-bg-color: #434B5C;\n",
              "      --hover-fill-color: #FFFFFF;\n",
              "      --disabled-bg-color: #3B4455;\n",
              "      --disabled-fill-color: #666;\n",
              "  }\n",
              "\n",
              "  .colab-df-quickchart {\n",
              "    background-color: var(--bg-color);\n",
              "    border: none;\n",
              "    border-radius: 50%;\n",
              "    cursor: pointer;\n",
              "    display: none;\n",
              "    fill: var(--fill-color);\n",
              "    height: 32px;\n",
              "    padding: 0;\n",
              "    width: 32px;\n",
              "  }\n",
              "\n",
              "  .colab-df-quickchart:hover {\n",
              "    background-color: var(--hover-bg-color);\n",
              "    box-shadow: 0 1px 2px rgba(60, 64, 67, 0.3), 0 1px 3px 1px rgba(60, 64, 67, 0.15);\n",
              "    fill: var(--button-hover-fill-color);\n",
              "  }\n",
              "\n",
              "  .colab-df-quickchart-complete:disabled,\n",
              "  .colab-df-quickchart-complete:disabled:hover {\n",
              "    background-color: var(--disabled-bg-color);\n",
              "    fill: var(--disabled-fill-color);\n",
              "    box-shadow: none;\n",
              "  }\n",
              "\n",
              "  .colab-df-spinner {\n",
              "    border: 2px solid var(--fill-color);\n",
              "    border-color: transparent;\n",
              "    border-bottom-color: var(--fill-color);\n",
              "    animation:\n",
              "      spin 1s steps(1) infinite;\n",
              "  }\n",
              "\n",
              "  @keyframes spin {\n",
              "    0% {\n",
              "      border-color: transparent;\n",
              "      border-bottom-color: var(--fill-color);\n",
              "      border-left-color: var(--fill-color);\n",
              "    }\n",
              "    20% {\n",
              "      border-color: transparent;\n",
              "      border-left-color: var(--fill-color);\n",
              "      border-top-color: var(--fill-color);\n",
              "    }\n",
              "    30% {\n",
              "      border-color: transparent;\n",
              "      border-left-color: var(--fill-color);\n",
              "      border-top-color: var(--fill-color);\n",
              "      border-right-color: var(--fill-color);\n",
              "    }\n",
              "    40% {\n",
              "      border-color: transparent;\n",
              "      border-right-color: var(--fill-color);\n",
              "      border-top-color: var(--fill-color);\n",
              "    }\n",
              "    60% {\n",
              "      border-color: transparent;\n",
              "      border-right-color: var(--fill-color);\n",
              "    }\n",
              "    80% {\n",
              "      border-color: transparent;\n",
              "      border-right-color: var(--fill-color);\n",
              "      border-bottom-color: var(--fill-color);\n",
              "    }\n",
              "    90% {\n",
              "      border-color: transparent;\n",
              "      border-bottom-color: var(--fill-color);\n",
              "    }\n",
              "  }\n",
              "</style>\n",
              "\n",
              "  <script>\n",
              "    async function quickchart(key) {\n",
              "      const quickchartButtonEl =\n",
              "        document.querySelector('#' + key + ' button');\n",
              "      quickchartButtonEl.disabled = true;  // To prevent multiple clicks.\n",
              "      quickchartButtonEl.classList.add('colab-df-spinner');\n",
              "      try {\n",
              "        const charts = await google.colab.kernel.invokeFunction(\n",
              "            'suggestCharts', [key], {});\n",
              "      } catch (error) {\n",
              "        console.error('Error during call to suggestCharts:', error);\n",
              "      }\n",
              "      quickchartButtonEl.classList.remove('colab-df-spinner');\n",
              "      quickchartButtonEl.classList.add('colab-df-quickchart-complete');\n",
              "    }\n",
              "    (() => {\n",
              "      let quickchartButtonEl =\n",
              "        document.querySelector('#df-fba0207e-7550-4b1a-a7ff-eb47e5ede016 button');\n",
              "      quickchartButtonEl.style.display =\n",
              "        google.colab.kernel.accessAllowed ? 'block' : 'none';\n",
              "    })();\n",
              "  </script>\n",
              "</div>\n",
              "\n",
              "  <div id=\"id_526b99ec-70ab-46fe-a4e3-1824f9616e35\">\n",
              "    <style>\n",
              "      .colab-df-generate {\n",
              "        background-color: #E8F0FE;\n",
              "        border: none;\n",
              "        border-radius: 50%;\n",
              "        cursor: pointer;\n",
              "        display: none;\n",
              "        fill: #1967D2;\n",
              "        height: 32px;\n",
              "        padding: 0 0 0 0;\n",
              "        width: 32px;\n",
              "      }\n",
              "\n",
              "      .colab-df-generate:hover {\n",
              "        background-color: #E2EBFA;\n",
              "        box-shadow: 0px 1px 2px rgba(60, 64, 67, 0.3), 0px 1px 3px 1px rgba(60, 64, 67, 0.15);\n",
              "        fill: #174EA6;\n",
              "      }\n",
              "\n",
              "      [theme=dark] .colab-df-generate {\n",
              "        background-color: #3B4455;\n",
              "        fill: #D2E3FC;\n",
              "      }\n",
              "\n",
              "      [theme=dark] .colab-df-generate:hover {\n",
              "        background-color: #434B5C;\n",
              "        box-shadow: 0px 1px 3px 1px rgba(0, 0, 0, 0.15);\n",
              "        filter: drop-shadow(0px 1px 2px rgba(0, 0, 0, 0.3));\n",
              "        fill: #FFFFFF;\n",
              "      }\n",
              "    </style>\n",
              "    <button class=\"colab-df-generate\" onclick=\"generateWithVariable('df_iv')\"\n",
              "            title=\"Generate code using this dataframe.\"\n",
              "            style=\"display:none;\">\n",
              "\n",
              "  <svg xmlns=\"http://www.w3.org/2000/svg\" height=\"24px\"viewBox=\"0 0 24 24\"\n",
              "       width=\"24px\">\n",
              "    <path d=\"M7,19H8.4L18.45,9,17,7.55,7,17.6ZM5,21V16.75L18.45,3.32a2,2,0,0,1,2.83,0l1.4,1.43a1.91,1.91,0,0,1,.58,1.4,1.91,1.91,0,0,1-.58,1.4L9.25,21ZM18.45,9,17,7.55Zm-12,3A5.31,5.31,0,0,0,4.9,8.1,5.31,5.31,0,0,0,1,6.5,5.31,5.31,0,0,0,4.9,4.9,5.31,5.31,0,0,0,6.5,1,5.31,5.31,0,0,0,8.1,4.9,5.31,5.31,0,0,0,12,6.5,5.46,5.46,0,0,0,6.5,12Z\"/>\n",
              "  </svg>\n",
              "    </button>\n",
              "    <script>\n",
              "      (() => {\n",
              "      const buttonEl =\n",
              "        document.querySelector('#id_526b99ec-70ab-46fe-a4e3-1824f9616e35 button.colab-df-generate');\n",
              "      buttonEl.style.display =\n",
              "        google.colab.kernel.accessAllowed ? 'block' : 'none';\n",
              "\n",
              "      buttonEl.onclick = () => {\n",
              "        google.colab.notebook.generateWithVariable('df_iv');\n",
              "      }\n",
              "      })();\n",
              "    </script>\n",
              "  </div>\n",
              "\n",
              "    </div>\n",
              "  </div>\n"
            ],
            "application/vnd.google.colaboratory.intrinsic+json": {
              "type": "dataframe",
              "variable_name": "df_iv",
              "summary": "{\n  \"name\": \"df_iv\",\n  \"rows\": 8,\n  \"fields\": [\n    {\n      \"column\": \"Vari\\u00e1vel\",\n      \"properties\": {\n        \"dtype\": \"string\",\n        \"num_unique_values\": 8,\n        \"samples\": [\n          \"Duracao_Emprestimo\",\n          \"Tipo_Moradia\",\n          \"Saldo_Conta_Corrente\"\n        ],\n        \"semantic_type\": \"\",\n        \"description\": \"\"\n      }\n    },\n    {\n      \"column\": \"IV\",\n      \"properties\": {\n        \"dtype\": \"number\",\n        \"std\": 0.2321177395202702,\n        \"min\": 0.0085,\n        \"max\": 0.7287,\n        \"num_unique_values\": 8,\n        \"samples\": [\n          0.2443,\n          0.0833,\n          0.7287\n        ],\n        \"semantic_type\": \"\",\n        \"description\": \"\"\n      }\n    }\n  ]\n}"
            }
          },
          "metadata": {},
          "execution_count": 219
        }
      ]
    },
    {
      "cell_type": "markdown",
      "source": [
        "#### **2.3.3. Modelos Preditivos de Inadimplência**"
      ],
      "metadata": {
        "id": "Re8u05v-V1z9"
      }
    },
    {
      "cell_type": "markdown",
      "source": [
        "##### **2.3.3.1. Organização dos Dados**"
      ],
      "metadata": {
        "id": "K383Sq-1WH0w"
      }
    },
    {
      "cell_type": "markdown",
      "source": [
        "Para organizar e padronizar a base de dados, foram aplicadas técnicas de codificação de variáveis categóricas, como One-Hot Encoding (para variáveis nominais) e codificação ordinal (para variáveis com hierarquia). Essas transformações são essenciais para viabilizar o desenvolvimento dos modelos preditivos, uma vez que algoritmos de machine learning requerem que todas as variáveis estejam em formato numérico.\n",
        "\n",
        "Assim, foi criado um novo dataframe contendo os dados organizados e codificados, possibilitando um pipeline de modelagem mais estruturado e eficiente."
      ],
      "metadata": {
        "id": "F-UwC1PhWRqo"
      }
    },
    {
      "cell_type": "code",
      "source": [
        "df_adaptado = df.copy()"
      ],
      "metadata": {
        "id": "T6nTx-Ubnc-M"
      },
      "execution_count": 221,
      "outputs": []
    },
    {
      "cell_type": "code",
      "source": [
        "codificacao = {'Sem investimento': 0, \"Pouco\": 1, \"Moderado\": 2, \"Alto\": 3}\n",
        "df_adaptado['Saldo_Investimento'] = df_adaptado['Saldo_Investimento'].str.strip().map(codificacao)"
      ],
      "metadata": {
        "collapsed": true,
        "id": "o-8zgOCIdy4H"
      },
      "execution_count": 222,
      "outputs": []
    },
    {
      "cell_type": "code",
      "source": [
        "codificacao = {'Sem conta': 0, \"Pouco\": 1, \"Moderado\": 2, \"Alto\": 3}\n",
        "df_adaptado['Saldo_Conta_Corrente'] = df_adaptado['Saldo_Conta_Corrente'].str.strip().map(codificacao)"
      ],
      "metadata": {
        "id": "ZLheMmYiff03"
      },
      "execution_count": 223,
      "outputs": []
    },
    {
      "cell_type": "code",
      "source": [
        "df_adaptado.index.name = \"Cliente_ID\"\n",
        "df_adaptado = df_adaptado.reset_index()"
      ],
      "metadata": {
        "id": "a9XR53RnpONX"
      },
      "execution_count": 224,
      "outputs": []
    },
    {
      "cell_type": "markdown",
      "source": [
        "##### **2.3.3.2. Modelos Desenvolvidos**"
      ],
      "metadata": {
        "id": "TxqA2r7DXdLr"
      }
    },
    {
      "cell_type": "markdown",
      "source": [
        "Para o desenvolvimento dos modelos de machine learning voltados à identificação de possíveis clientes inadimplentes, foram utilizados e comparados quatro algoritmos supervisionados: Random Forest, Árvore de Decisão, Regressão Logística e XGBoost.\n",
        "\n",
        "\n",
        "\n",
        "*   **Regressão Logística:** é um modelo estatístico utilizado para prever a probabilidade de ocorrência de um evento binário (como inadimplência ou não).\n",
        "*   **Árvore de Decisão:** constrói uma estrutura em formato de árvore, onde as decisões são tomadas com base em perguntas sobre os dados.\n",
        "*   **Random Forest:** é um modelo baseado em múltiplas árvores de decisão, onde o resultado final é obtido por meio da média ou votação das previsões de cada árvore.\n",
        "*   **XGBoost (Extreme Gradient Boosting):** é um modelo de aprendizado por reforço que combina várias árvores fracas para formar um modelo robusto.\n",
        "\n",
        "Na comparação entre esses modelos, considerando os 1.000 clientes da base de dados, o XGBoost apresentou o melhor desempenho, demonstrando maior capacidade preditiva para identificar corretamente os clientes com maior risco de inadimplência. Pode-se perceber esse fato, de acordo com o dataframe a seguir com os valores de acurácia, precisão, recall e AUC de cada modelo."
      ],
      "metadata": {
        "id": "Q-KOWQhpXici"
      }
    },
    {
      "cell_type": "code",
      "source": [
        "df_resultados = pd.DataFrame(resultados_modelos)\n",
        "df_resultados.sort_values(by='AUC', ascending=False, inplace=True)\n",
        "df_resultados"
      ],
      "metadata": {
        "colab": {
          "base_uri": "https://localhost:8080/",
          "height": 175
        },
        "id": "iDwurU7IVh5g",
        "outputId": "87d7ef02-f2bd-436a-d064-875d900ae10a"
      },
      "execution_count": null,
      "outputs": [
        {
          "output_type": "execute_result",
          "data": {
            "text/plain": [
              "                Modelo  Acurácia  Precisão    Recall       AUC\n",
              "2        Random Forest     0.761  0.569476  0.833333  0.838207\n",
              "3              XGBoost     0.783  0.604534  0.800000  0.823305\n",
              "1    Árvore de Decisão     0.635  0.420538  0.573333  0.676583\n",
              "0  Regressão Logística     0.635  0.420538  0.573333  0.676583"
            ],
            "text/html": [
              "\n",
              "  <div id=\"df-456562f9-8658-403e-bf62-e94648b96b01\" class=\"colab-df-container\">\n",
              "    <div>\n",
              "<style scoped>\n",
              "    .dataframe tbody tr th:only-of-type {\n",
              "        vertical-align: middle;\n",
              "    }\n",
              "\n",
              "    .dataframe tbody tr th {\n",
              "        vertical-align: top;\n",
              "    }\n",
              "\n",
              "    .dataframe thead th {\n",
              "        text-align: right;\n",
              "    }\n",
              "</style>\n",
              "<table border=\"1\" class=\"dataframe\">\n",
              "  <thead>\n",
              "    <tr style=\"text-align: right;\">\n",
              "      <th></th>\n",
              "      <th>Modelo</th>\n",
              "      <th>Acurácia</th>\n",
              "      <th>Precisão</th>\n",
              "      <th>Recall</th>\n",
              "      <th>AUC</th>\n",
              "    </tr>\n",
              "  </thead>\n",
              "  <tbody>\n",
              "    <tr>\n",
              "      <th>2</th>\n",
              "      <td>Random Forest</td>\n",
              "      <td>0.761</td>\n",
              "      <td>0.569476</td>\n",
              "      <td>0.833333</td>\n",
              "      <td>0.838207</td>\n",
              "    </tr>\n",
              "    <tr>\n",
              "      <th>3</th>\n",
              "      <td>XGBoost</td>\n",
              "      <td>0.783</td>\n",
              "      <td>0.604534</td>\n",
              "      <td>0.800000</td>\n",
              "      <td>0.823305</td>\n",
              "    </tr>\n",
              "    <tr>\n",
              "      <th>1</th>\n",
              "      <td>Árvore de Decisão</td>\n",
              "      <td>0.635</td>\n",
              "      <td>0.420538</td>\n",
              "      <td>0.573333</td>\n",
              "      <td>0.676583</td>\n",
              "    </tr>\n",
              "    <tr>\n",
              "      <th>0</th>\n",
              "      <td>Regressão Logística</td>\n",
              "      <td>0.635</td>\n",
              "      <td>0.420538</td>\n",
              "      <td>0.573333</td>\n",
              "      <td>0.676583</td>\n",
              "    </tr>\n",
              "  </tbody>\n",
              "</table>\n",
              "</div>\n",
              "    <div class=\"colab-df-buttons\">\n",
              "\n",
              "  <div class=\"colab-df-container\">\n",
              "    <button class=\"colab-df-convert\" onclick=\"convertToInteractive('df-456562f9-8658-403e-bf62-e94648b96b01')\"\n",
              "            title=\"Convert this dataframe to an interactive table.\"\n",
              "            style=\"display:none;\">\n",
              "\n",
              "  <svg xmlns=\"http://www.w3.org/2000/svg\" height=\"24px\" viewBox=\"0 -960 960 960\">\n",
              "    <path d=\"M120-120v-720h720v720H120Zm60-500h600v-160H180v160Zm220 220h160v-160H400v160Zm0 220h160v-160H400v160ZM180-400h160v-160H180v160Zm440 0h160v-160H620v160ZM180-180h160v-160H180v160Zm440 0h160v-160H620v160Z\"/>\n",
              "  </svg>\n",
              "    </button>\n",
              "\n",
              "  <style>\n",
              "    .colab-df-container {\n",
              "      display:flex;\n",
              "      gap: 12px;\n",
              "    }\n",
              "\n",
              "    .colab-df-convert {\n",
              "      background-color: #E8F0FE;\n",
              "      border: none;\n",
              "      border-radius: 50%;\n",
              "      cursor: pointer;\n",
              "      display: none;\n",
              "      fill: #1967D2;\n",
              "      height: 32px;\n",
              "      padding: 0 0 0 0;\n",
              "      width: 32px;\n",
              "    }\n",
              "\n",
              "    .colab-df-convert:hover {\n",
              "      background-color: #E2EBFA;\n",
              "      box-shadow: 0px 1px 2px rgba(60, 64, 67, 0.3), 0px 1px 3px 1px rgba(60, 64, 67, 0.15);\n",
              "      fill: #174EA6;\n",
              "    }\n",
              "\n",
              "    .colab-df-buttons div {\n",
              "      margin-bottom: 4px;\n",
              "    }\n",
              "\n",
              "    [theme=dark] .colab-df-convert {\n",
              "      background-color: #3B4455;\n",
              "      fill: #D2E3FC;\n",
              "    }\n",
              "\n",
              "    [theme=dark] .colab-df-convert:hover {\n",
              "      background-color: #434B5C;\n",
              "      box-shadow: 0px 1px 3px 1px rgba(0, 0, 0, 0.15);\n",
              "      filter: drop-shadow(0px 1px 2px rgba(0, 0, 0, 0.3));\n",
              "      fill: #FFFFFF;\n",
              "    }\n",
              "  </style>\n",
              "\n",
              "    <script>\n",
              "      const buttonEl =\n",
              "        document.querySelector('#df-456562f9-8658-403e-bf62-e94648b96b01 button.colab-df-convert');\n",
              "      buttonEl.style.display =\n",
              "        google.colab.kernel.accessAllowed ? 'block' : 'none';\n",
              "\n",
              "      async function convertToInteractive(key) {\n",
              "        const element = document.querySelector('#df-456562f9-8658-403e-bf62-e94648b96b01');\n",
              "        const dataTable =\n",
              "          await google.colab.kernel.invokeFunction('convertToInteractive',\n",
              "                                                    [key], {});\n",
              "        if (!dataTable) return;\n",
              "\n",
              "        const docLinkHtml = 'Like what you see? Visit the ' +\n",
              "          '<a target=\"_blank\" href=https://colab.research.google.com/notebooks/data_table.ipynb>data table notebook</a>'\n",
              "          + ' to learn more about interactive tables.';\n",
              "        element.innerHTML = '';\n",
              "        dataTable['output_type'] = 'display_data';\n",
              "        await google.colab.output.renderOutput(dataTable, element);\n",
              "        const docLink = document.createElement('div');\n",
              "        docLink.innerHTML = docLinkHtml;\n",
              "        element.appendChild(docLink);\n",
              "      }\n",
              "    </script>\n",
              "  </div>\n",
              "\n",
              "\n",
              "<div id=\"df-e014b3af-fcd9-44f2-bed4-d44ca3d3b4fe\">\n",
              "  <button class=\"colab-df-quickchart\" onclick=\"quickchart('df-e014b3af-fcd9-44f2-bed4-d44ca3d3b4fe')\"\n",
              "            title=\"Suggest charts\"\n",
              "            style=\"display:none;\">\n",
              "\n",
              "<svg xmlns=\"http://www.w3.org/2000/svg\" height=\"24px\"viewBox=\"0 0 24 24\"\n",
              "     width=\"24px\">\n",
              "    <g>\n",
              "        <path d=\"M19 3H5c-1.1 0-2 .9-2 2v14c0 1.1.9 2 2 2h14c1.1 0 2-.9 2-2V5c0-1.1-.9-2-2-2zM9 17H7v-7h2v7zm4 0h-2V7h2v10zm4 0h-2v-4h2v4z\"/>\n",
              "    </g>\n",
              "</svg>\n",
              "  </button>\n",
              "\n",
              "<style>\n",
              "  .colab-df-quickchart {\n",
              "      --bg-color: #E8F0FE;\n",
              "      --fill-color: #1967D2;\n",
              "      --hover-bg-color: #E2EBFA;\n",
              "      --hover-fill-color: #174EA6;\n",
              "      --disabled-fill-color: #AAA;\n",
              "      --disabled-bg-color: #DDD;\n",
              "  }\n",
              "\n",
              "  [theme=dark] .colab-df-quickchart {\n",
              "      --bg-color: #3B4455;\n",
              "      --fill-color: #D2E3FC;\n",
              "      --hover-bg-color: #434B5C;\n",
              "      --hover-fill-color: #FFFFFF;\n",
              "      --disabled-bg-color: #3B4455;\n",
              "      --disabled-fill-color: #666;\n",
              "  }\n",
              "\n",
              "  .colab-df-quickchart {\n",
              "    background-color: var(--bg-color);\n",
              "    border: none;\n",
              "    border-radius: 50%;\n",
              "    cursor: pointer;\n",
              "    display: none;\n",
              "    fill: var(--fill-color);\n",
              "    height: 32px;\n",
              "    padding: 0;\n",
              "    width: 32px;\n",
              "  }\n",
              "\n",
              "  .colab-df-quickchart:hover {\n",
              "    background-color: var(--hover-bg-color);\n",
              "    box-shadow: 0 1px 2px rgba(60, 64, 67, 0.3), 0 1px 3px 1px rgba(60, 64, 67, 0.15);\n",
              "    fill: var(--button-hover-fill-color);\n",
              "  }\n",
              "\n",
              "  .colab-df-quickchart-complete:disabled,\n",
              "  .colab-df-quickchart-complete:disabled:hover {\n",
              "    background-color: var(--disabled-bg-color);\n",
              "    fill: var(--disabled-fill-color);\n",
              "    box-shadow: none;\n",
              "  }\n",
              "\n",
              "  .colab-df-spinner {\n",
              "    border: 2px solid var(--fill-color);\n",
              "    border-color: transparent;\n",
              "    border-bottom-color: var(--fill-color);\n",
              "    animation:\n",
              "      spin 1s steps(1) infinite;\n",
              "  }\n",
              "\n",
              "  @keyframes spin {\n",
              "    0% {\n",
              "      border-color: transparent;\n",
              "      border-bottom-color: var(--fill-color);\n",
              "      border-left-color: var(--fill-color);\n",
              "    }\n",
              "    20% {\n",
              "      border-color: transparent;\n",
              "      border-left-color: var(--fill-color);\n",
              "      border-top-color: var(--fill-color);\n",
              "    }\n",
              "    30% {\n",
              "      border-color: transparent;\n",
              "      border-left-color: var(--fill-color);\n",
              "      border-top-color: var(--fill-color);\n",
              "      border-right-color: var(--fill-color);\n",
              "    }\n",
              "    40% {\n",
              "      border-color: transparent;\n",
              "      border-right-color: var(--fill-color);\n",
              "      border-top-color: var(--fill-color);\n",
              "    }\n",
              "    60% {\n",
              "      border-color: transparent;\n",
              "      border-right-color: var(--fill-color);\n",
              "    }\n",
              "    80% {\n",
              "      border-color: transparent;\n",
              "      border-right-color: var(--fill-color);\n",
              "      border-bottom-color: var(--fill-color);\n",
              "    }\n",
              "    90% {\n",
              "      border-color: transparent;\n",
              "      border-bottom-color: var(--fill-color);\n",
              "    }\n",
              "  }\n",
              "</style>\n",
              "\n",
              "  <script>\n",
              "    async function quickchart(key) {\n",
              "      const quickchartButtonEl =\n",
              "        document.querySelector('#' + key + ' button');\n",
              "      quickchartButtonEl.disabled = true;  // To prevent multiple clicks.\n",
              "      quickchartButtonEl.classList.add('colab-df-spinner');\n",
              "      try {\n",
              "        const charts = await google.colab.kernel.invokeFunction(\n",
              "            'suggestCharts', [key], {});\n",
              "      } catch (error) {\n",
              "        console.error('Error during call to suggestCharts:', error);\n",
              "      }\n",
              "      quickchartButtonEl.classList.remove('colab-df-spinner');\n",
              "      quickchartButtonEl.classList.add('colab-df-quickchart-complete');\n",
              "    }\n",
              "    (() => {\n",
              "      let quickchartButtonEl =\n",
              "        document.querySelector('#df-e014b3af-fcd9-44f2-bed4-d44ca3d3b4fe button');\n",
              "      quickchartButtonEl.style.display =\n",
              "        google.colab.kernel.accessAllowed ? 'block' : 'none';\n",
              "    })();\n",
              "  </script>\n",
              "</div>\n",
              "\n",
              "  <div id=\"id_fdc1c34d-70a0-46f0-a149-b109639c0a1c\">\n",
              "    <style>\n",
              "      .colab-df-generate {\n",
              "        background-color: #E8F0FE;\n",
              "        border: none;\n",
              "        border-radius: 50%;\n",
              "        cursor: pointer;\n",
              "        display: none;\n",
              "        fill: #1967D2;\n",
              "        height: 32px;\n",
              "        padding: 0 0 0 0;\n",
              "        width: 32px;\n",
              "      }\n",
              "\n",
              "      .colab-df-generate:hover {\n",
              "        background-color: #E2EBFA;\n",
              "        box-shadow: 0px 1px 2px rgba(60, 64, 67, 0.3), 0px 1px 3px 1px rgba(60, 64, 67, 0.15);\n",
              "        fill: #174EA6;\n",
              "      }\n",
              "\n",
              "      [theme=dark] .colab-df-generate {\n",
              "        background-color: #3B4455;\n",
              "        fill: #D2E3FC;\n",
              "      }\n",
              "\n",
              "      [theme=dark] .colab-df-generate:hover {\n",
              "        background-color: #434B5C;\n",
              "        box-shadow: 0px 1px 3px 1px rgba(0, 0, 0, 0.15);\n",
              "        filter: drop-shadow(0px 1px 2px rgba(0, 0, 0, 0.3));\n",
              "        fill: #FFFFFF;\n",
              "      }\n",
              "    </style>\n",
              "    <button class=\"colab-df-generate\" onclick=\"generateWithVariable('df_resultados')\"\n",
              "            title=\"Generate code using this dataframe.\"\n",
              "            style=\"display:none;\">\n",
              "\n",
              "  <svg xmlns=\"http://www.w3.org/2000/svg\" height=\"24px\"viewBox=\"0 0 24 24\"\n",
              "       width=\"24px\">\n",
              "    <path d=\"M7,19H8.4L18.45,9,17,7.55,7,17.6ZM5,21V16.75L18.45,3.32a2,2,0,0,1,2.83,0l1.4,1.43a1.91,1.91,0,0,1,.58,1.4,1.91,1.91,0,0,1-.58,1.4L9.25,21ZM18.45,9,17,7.55Zm-12,3A5.31,5.31,0,0,0,4.9,8.1,5.31,5.31,0,0,0,1,6.5,5.31,5.31,0,0,0,4.9,4.9,5.31,5.31,0,0,0,6.5,1,5.31,5.31,0,0,0,8.1,4.9,5.31,5.31,0,0,0,12,6.5,5.46,5.46,0,0,0,6.5,12Z\"/>\n",
              "  </svg>\n",
              "    </button>\n",
              "    <script>\n",
              "      (() => {\n",
              "      const buttonEl =\n",
              "        document.querySelector('#id_fdc1c34d-70a0-46f0-a149-b109639c0a1c button.colab-df-generate');\n",
              "      buttonEl.style.display =\n",
              "        google.colab.kernel.accessAllowed ? 'block' : 'none';\n",
              "\n",
              "      buttonEl.onclick = () => {\n",
              "        google.colab.notebook.generateWithVariable('df_resultados');\n",
              "      }\n",
              "      })();\n",
              "    </script>\n",
              "  </div>\n",
              "\n",
              "    </div>\n",
              "  </div>\n"
            ],
            "application/vnd.google.colaboratory.intrinsic+json": {
              "type": "dataframe",
              "variable_name": "df_resultados",
              "summary": "{\n  \"name\": \"df_resultados\",\n  \"rows\": 4,\n  \"fields\": [\n    {\n      \"column\": \"Modelo\",\n      \"properties\": {\n        \"dtype\": \"string\",\n        \"num_unique_values\": 4,\n        \"samples\": [\n          \"XGBoost\",\n          \"Regress\\u00e3o Log\\u00edstica\",\n          \"Random Forest\"\n        ],\n        \"semantic_type\": \"\",\n        \"description\": \"\"\n      }\n    },\n    {\n      \"column\": \"Acur\\u00e1cia\",\n      \"properties\": {\n        \"dtype\": \"number\",\n        \"std\": 0.07960527620704548,\n        \"min\": 0.635,\n        \"max\": 0.783,\n        \"num_unique_values\": 3,\n        \"samples\": [\n          0.761,\n          0.783,\n          0.635\n        ],\n        \"semantic_type\": \"\",\n        \"description\": \"\"\n      }\n    },\n    {\n      \"column\": \"Precis\\u00e3o\",\n      \"properties\": {\n        \"dtype\": \"number\",\n        \"std\": 0.0971696793436132,\n        \"min\": 0.42053789731051344,\n        \"max\": 0.6045340050377834,\n        \"num_unique_values\": 3,\n        \"samples\": [\n          0.5694760820045558,\n          0.6045340050377834,\n          0.42053789731051344\n        ],\n        \"semantic_type\": \"\",\n        \"description\": \"\"\n      }\n    },\n    {\n      \"column\": \"Recall\",\n      \"properties\": {\n        \"dtype\": \"number\",\n        \"std\": 0.14114610239826755,\n        \"min\": 0.5733333333333334,\n        \"max\": 0.8333333333333334,\n        \"num_unique_values\": 3,\n        \"samples\": [\n          0.8333333333333334,\n          0.8,\n          0.5733333333333334\n        ],\n        \"semantic_type\": \"\",\n        \"description\": \"\"\n      }\n    },\n    {\n      \"column\": \"AUC\",\n      \"properties\": {\n        \"dtype\": \"number\",\n        \"std\": 0.08921927471689668,\n        \"min\": 0.6765833333333333,\n        \"max\": 0.8382071428571429,\n        \"num_unique_values\": 3,\n        \"samples\": [\n          0.8382071428571429,\n          0.823304761904762,\n          0.6765833333333333\n        ],\n        \"semantic_type\": \"\",\n        \"description\": \"\"\n      }\n    }\n  ]\n}"
            }
          },
          "metadata": {},
          "execution_count": 77
        }
      ]
    },
    {
      "cell_type": "markdown",
      "source": [
        "##### **2.3.3.2. Modelo Selecionado**"
      ],
      "metadata": {
        "id": "k1oD-1ZxaPtr"
      }
    },
    {
      "cell_type": "markdown",
      "source": [
        "Com a escolha do modelo XGBoost, foi possível realizar ajustes e otimizações que permitiram alcançar resultados satisfatórios. No entanto, é importante destacar que alguns fatores limitaram a performance inicial do modelo, como o tamanho reduzido da base de dados e a distribuição desbalanceada das classes.\n",
        "\n",
        "Para mitigar esses efeitos e tornar o modelo mais robusto, foi empregada a técnica de resample, que busca equilibrar a proporção das classes e melhorar o desempenho preditivo.\n",
        "\n",
        "Além disso, foram utilizadas apenas as variáveis que apresentaram níveis satisfatórios de Information Value (IV), garantindo que apenas os atributos mais relevantes e com maior capacidade preditiva fossem considerados na construção do modelo. Essa seleção contribuiu para uma modelagem mais eficiente e focada nos fatores que realmente influenciam o risco de inadimplência.\n",
        "\n",
        "*  **Acurácia: 0.7980**\n",
        "*   **Precisão: 0.6310**\n",
        "*   **Recall: 0.7867**\n",
        "*   **AUC: 0.8233**\n",
        "\n",
        "Esses valores indicam uma boa capacidade do modelo em identificar corretamente clientes inadimplentes, mantendo uma taxa aceitável de falsos positivos.\n",
        "\n",
        "Além disso, foi construída uma matriz de confusão, permitindo a visualização clara dos acertos e erros do modelo, o que auxilia na avaliação da efetividade da abordagem implementada. Cabe ressaltar que foram utilizadas bibliotecas para o desenvolvimento do modelo e da matriz de confusão."
      ],
      "metadata": {
        "id": "WoI-yUZsbL5Y"
      }
    },
    {
      "cell_type": "code",
      "source": [
        "# Importação das bibliotecas necessárias\n",
        "# XGBoost para o modelo de machine learning\n",
        "# Métricas do sklearn para avaliação de desempenho\n",
        "# Resample para balanceamento das classes\n",
        "from xgboost import XGBClassifier\n",
        "from sklearn.metrics import accuracy_score, precision_score, recall_score, roc_auc_score, confusion_matrix\n",
        "from sklearn.utils import resample\n",
        "\n",
        "\"\"\"\n",
        "DEFINIÇÃO DAS VARIÁVEIS DO MODELO\n",
        "\n",
        "Seleciona as features relevantes para a previsão de inadimplência e separa os dados em:\n",
        "- X: matriz de características (variáveis preditoras)\n",
        "- y: vetor alvo (variável resposta binária)\n",
        "\"\"\"\n",
        "variaveis = ['Saldo_Conta_Corrente', 'Duracao_Emprestimo', 'Saldo_Investimento', 'Valor_Emprestimo']\n",
        "X = df_adaptado[variaveis]\n",
        "y = df_adaptado['Inadimplencia']\n",
        "\n",
        "\"\"\"\n",
        "BALANCEAMENTO DAS CLASSES\n",
        "\n",
        "Divide o dataset em adimplentes e inadimplentes, então aplica undersampling para criar\n",
        "um conjunto balanceado com 150 amostras de cada classe, garantindo igual representação.\n",
        "\"\"\"\n",
        "df_adimplente = df_adaptado[df_adaptado['Inadimplencia'] == 0]\n",
        "df_inadimplente = df_adaptado[df_adaptado['Inadimplencia'] == 1]\n",
        "\n",
        "df_sample_adimplente = resample(df_adimplente, replace=False, n_samples=150, random_state=42)\n",
        "df_sample_inadimplente = resample(df_inadimplente, replace=False, n_samples=150, random_state=42)\n",
        "df_balanceado = pd.concat([df_sample_adimplente, df_sample_inadimplente])\n",
        "\n",
        "\"\"\"\n",
        "PREPARAÇÃO DOS DADOS DE TREINO\n",
        "\n",
        "Utiliza o dataset balanceado para treinar o modelo, garantindo que ele não fique enviesado\n",
        "para a classe majoritária.\n",
        "\"\"\"\n",
        "X_train = df_balanceado[variaveis]\n",
        "y_train = df_balanceado['Inadimplencia']\n",
        "\n",
        "\"\"\"\n",
        "TREINAMENTO DO MODELO XGBOOST\n",
        "\n",
        "Configura e treina um classificador XGBoost com:\n",
        "- eval_metric='logloss': usa log loss como métrica de avaliação\n",
        "- random_state=42: garante reprodutibilidade dos resultados\n",
        "\"\"\"\n",
        "modelo_xgb = XGBClassifier(eval_metric='logloss', random_state=42)\n",
        "modelo_xgb.fit(X_train, y_train)\n",
        "\n",
        "\"\"\"\n",
        "PREDIÇÃO E CLASSIFICAÇÃO\n",
        "\n",
        "Gera probabilidades de inadimplência e aplica um threshold de 0.6 para converter\n",
        "as probabilidades em classificações binárias (0 ou 1).\n",
        "\"\"\"\n",
        "y_proba = modelo_xgb.predict_proba(X)[:, 1]\n",
        "threshold = 0.6\n",
        "y_pred = (y_proba >= threshold).astype(int)\n",
        "\n",
        "\"\"\"\n",
        "CÁLCULO DAS MÉTRICAS DE DESEMPENHO\n",
        "\n",
        "Avalia o modelo usando quatro métricas principais\n",
        "\"\"\"\n",
        "acc = accuracy_score(y, y_pred)\n",
        "prec = precision_score(y, y_pred)\n",
        "rec = recall_score(y, y_pred)\n",
        "auc = roc_auc_score(y, y_proba)\n",
        "\n",
        "\"\"\"\n",
        "VISUALIZAÇÃO DA MATRIZ DE CONFUSÃO\n",
        "\"\"\"\n",
        "cm = confusion_matrix(y, y_pred)\n",
        "sns.heatmap(cm, annot=True, fmt='d', cmap='coolwarm',\n",
        "            xticklabels=['Adimplente', 'Inadimplente'],\n",
        "            yticklabels=['Adimplente', 'Inadimplente'])\n",
        "plt.xlabel(\"Modelo Preditivo\")\n",
        "plt.ylabel(\"Dados Reais\")\n",
        "plt.title(f\"Matriz de Confusão - XGBoost (Threshold = {threshold})\")\n",
        "plt.show()\n",
        "\n",
        "\"\"\"\n",
        "EXIBIÇÃO DAS MÉTRICAS\n",
        "\n",
        "Mostra os resultados das métricas de avaliação formatados com 4 casas decimais\n",
        "para facilitar a comparação e análise de desempenho.\n",
        "\"\"\"\n",
        "print(f\"\\nAcurácia : {acc:.4f}\")\n",
        "print(f\"Precisão : {prec:.4f}\")\n",
        "print(f\"Recall   : {rec:.4f}\")\n",
        "print(f\"AUC      : {auc:.4f}\")"
      ],
      "metadata": {
        "colab": {
          "base_uri": "https://localhost:8080/",
          "height": 559
        },
        "id": "eWY4PC_gW0Qa",
        "outputId": "b7711f74-ee7b-4368-eb52-bd0054e552ce"
      },
      "execution_count": 230,
      "outputs": [
        {
          "output_type": "display_data",
          "data": {
            "text/plain": [
              "<Figure size 640x480 with 2 Axes>"
            ],
            "image/png": "[encoded data removed]"
          },
          "metadata": {}
        },
        {
          "output_type": "stream",
          "name": "stdout",
          "text": [
            "\n",
            "Acurácia : 0.7980\n",
            "Precisão : 0.6310\n",
            "Recall   : 0.7867\n",
            "AUC      : 0.8233\n"
          ]
        }
      ]
    },
    {
      "cell_type": "markdown",
      "source": [
        "## **3. Conclusão**"
      ],
      "metadata": {
        "id": "VdNiTG5ZgBKE"
      }
    },
    {
      "cell_type": "markdown",
      "source": [
        "Neste projeto, foi desenvolvido um modelo preditivo para identificar clientes com maior risco de inadimplência em uma base de dados de uma fintech. A análise inicial das variáveis revelou que, com base no método Information Value (IV), algumas variáveis, como Saldo_Conta_Corrente, Duracao_Emprestimo, Saldo_Investimento e Valor_Emprestimo, apresentaram valores de IV significativos, indicando que são as mais relevantes para o modelo preditivo. Essas variáveis foram, portanto, selecionadas para a construção do modelo.\n",
        "\n",
        "Com a escolha do XGBoost, um dos modelos de machine learning mais poderosos e eficientes, foi possível realizar ajustes e otimizações que possibilitaram o alcance de resultados satisfatórios. Durante o processo, desafios foram superados, como o tamanho reduzido da base de dados e a distribuição desbalanceada das classes entre clientes inadimplentes e adimplentes. Para contornar essas limitações, a técnica de resample foi aplicada, equilibrando a proporção entre as classes e aumentando a robustez do modelo.\n",
        "\n",
        "Os valores obtidos demonstram que o modelo tem uma boa capacidade de identificar corretamente clientes inadimplentes, com uma taxa aceitável de falsos positivos. O uso das variáveis mais relevantes, identificadas pelo IV, contribuiu para o bom desempenho do modelo, focando apenas nos atributos que realmente impactam o risco de inadimplência.\n",
        "\n",
        "Em conclusão, o modelo desenvolvido oferece uma ferramenta eficaz para a identificação de clientes inadimplentes, utilizando técnicas avançadas de machine learning e uma seleção de variáveis baseada em análise estatística. Apesar das limitações iniciais, os resultados demonstram que a abordagem escolhida pode ser aplicada de forma prática na fintech, contribuindo para a redução do risco de inadimplência e a melhoria da tomada de decisão na concessão de crédito."
      ],
      "metadata": {
        "id": "YeFJctpLgD4s"
      }
    }
  ]
}